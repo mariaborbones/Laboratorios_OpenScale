{
 "cells": [
  {
   "cell_type": "markdown",
   "metadata": {},
   "source": [
    "<img src=\"https://github.com/pmservice/ai-openscale-tutorials/raw/master/notebooks/images/banner.png\" align=\"left\" alt=\"banner\">"
   ]
  },
  {
   "cell_type": "markdown",
   "metadata": {},
   "source": [
    "# Tutorial sobre cómo generar una explicación para un modelo basado en imágenes en Watson OpenScale"
   ]
  },
  {
   "cell_type": "markdown",
   "metadata": {},
   "source": [
    "Este notebook incluye pasos para crear un modelo de Watson-machine-learning basado en imágenes, crear una suscripción, configurar explicabilidad y, finalmente, generar una explicación para una transacción."
   ]
  },
  {
   "cell_type": "markdown",
   "metadata": {},
   "source": [
    "### Contenido\n",
    "- [1. Instalación](#setup)\n",
    "- [2. Creando y desplegando un modelo de imágenes](#deployment)\n",
    "- [3. Suscripciones](#subscription)\n",
    "- [4. Explicabilidad](#explainability)"
   ]
  },
  {
   "cell_type": "markdown",
   "metadata": {},
   "source": [
    "**Nota**: Si usa Watson Studio, intente ejecutar el portátil en al menos la versión 'Default Python 3.5 XS' para obtener resultados más rápidos."
   ]
  },
  {
   "cell_type": "markdown",
   "metadata": {},
   "source": [
    "<a id=\"setup\"></a>\n",
    "## 1. Instalación\n",
    "\n",
    "### 1.1 Instala los paquetes de Watson OpenScale y WML "
   ]
  },
  {
   "cell_type": "code",
   "execution_count": 1,
   "metadata": {},
   "outputs": [
    {
     "name": "stdout",
     "output_type": "stream",
     "text": [
      "Successfully installed ibm-ai-openscale-2.2.1\n"
     ]
    }
   ],
   "source": [
    "!pip install --upgrade ibm-ai-openscale --no-cache | tail -n 1"
   ]
  },
  {
   "cell_type": "code",
   "execution_count": 2,
   "metadata": {},
   "outputs": [
    {
     "name": "stdout",
     "output_type": "stream",
     "text": [
      "Successfully installed watson-machine-learning-client-1.0.378\n"
     ]
    }
   ],
   "source": [
    "!pip install --upgrade watson-machine-learning-client --no-cache | tail -n 1"
   ]
  },
  {
   "cell_type": "markdown",
   "metadata": {},
   "source": [
    "Nota: Reinicie el kernel para asegurarse de que se estén utilizando las nuevas bibliotecas."
   ]
  },
  {
   "cell_type": "markdown",
   "metadata": {},
   "source": [
    "### 1.2 Configura las credenciales"
   ]
  },
  {
   "cell_type": "markdown",
   "metadata": {},
   "source": [
    "Obtenga la `apikey` de Watson Openscale yendo a la [Consola Bluemix] (https://console.bluemix.net/) y haciendo clic en` Administrar-> Cuenta-> Usuarios`. Seleccione \"Claves API de plataforma\" en la barra lateral y luego haga clic en el botón \"Crear\".\n",
    "\n",
    "Se puede obtener el `instancia_id` de Watson OpenScale (guid) accediendo a la [consola en la nube] (https://cloud.ibm.com/resources), haciendo clic en` Servicios` y haciendo clic en cualquier parte del mosaico de servicio de Watson OpenScale, excepto el enlace de servicio y luego verificando la barra lateral emergente a la derecha."
   ]
  },
  {
   "cell_type": "code",
   "execution_count": 3,
   "metadata": {},
   "outputs": [],
   "source": [
    "AIOS_CREDENTIALS = {\n",
    "    \"instance_guid\": \"\",\n",
    "    \"apikey\": \"\", \n",
    "    \"url\": \"\"\n",
    "}"
   ]
  },
  {
   "cell_type": "markdown",
   "metadata": {},
   "source": [
    "Genere o busque las credenciales WML haciendo clic en `Credenciales` en la barra lateral de la página WML aprovisionada y péguela a continuación."
   ]
  },
  {
   "cell_type": "code",
   "execution_count": 51,
   "metadata": {},
   "outputs": [],
   "source": [
    "WML_CREDENTIALS = {\n",
    "  \n",
    "}"
   ]
  },
  {
   "cell_type": "markdown",
   "metadata": {},
   "source": [
    "<a id=\"deployment\"></a>\n",
    "## 2. Crear e implementar un modelo basado en imágenes"
   ]
  },
  {
   "cell_type": "markdown",
   "metadata": {},
   "source": [
    "El conjunto de datos utilizado es el conjunto de datos MNIST de dígitos escritos a mano. Consiste en 60,000 imágenes en escala de grises de 28x28 de los 10 dígitos, junto con un conjunto de prueba de 10,000 imágenes. Puede encontrar más información sobre el conjunto de datos aquí: https://keras.io/datasets/#mnist-database-of-handwritten-digits\n",
    "\n",
    "Nota: Las versiones de Keras y TensorFlow compatibles con WML son: Keras 2.1.6 con el backend TensorFlow 1.13 y Keras 2.2.4 con el backend TensorFlow 1.14. La última combinación se usa en este notebook"
   ]
  },
  {
   "cell_type": "markdown",
   "metadata": {},
   "source": [
    "### 2.1 Creando el modelo"
   ]
  },
  {
   "cell_type": "code",
   "execution_count": 5,
   "metadata": {},
   "outputs": [
    {
     "name": "stdout",
     "output_type": "stream",
     "text": [
      "Requirement already satisfied: keras==2.2.4 in /opt/conda/envs/Python36/lib/python3.6/site-packages (2.2.4)\n",
      "Requirement already satisfied: numpy>=1.9.1 in /opt/conda/envs/Python36/lib/python3.6/site-packages (from keras==2.2.4) (1.15.4)\n",
      "Requirement already satisfied: scipy>=0.14 in /opt/conda/envs/Python36/lib/python3.6/site-packages (from keras==2.2.4) (1.2.0)\n",
      "Requirement already satisfied: six>=1.9.0 in /opt/conda/envs/Python36/lib/python3.6/site-packages (from keras==2.2.4) (1.12.0)\n",
      "Requirement already satisfied: pyyaml in /opt/conda/envs/Python36/lib/python3.6/site-packages (from keras==2.2.4) (3.13)\n",
      "Requirement already satisfied: h5py in /opt/conda/envs/Python36/lib/python3.6/site-packages (from keras==2.2.4) (2.9.0)\n",
      "Requirement already satisfied: keras_applications>=1.0.6 in /opt/conda/envs/Python36/lib/python3.6/site-packages (from keras==2.2.4) (1.0.6)\n",
      "Requirement already satisfied: keras_preprocessing>=1.0.5 in /opt/conda/envs/Python36/lib/python3.6/site-packages (from keras==2.2.4) (1.0.5)\n",
      "Collecting tensorflow==1.14.0\n",
      "\u001b[?25l  Downloading https://files.pythonhosted.org/packages/de/f0/96fb2e0412ae9692dbf400e5b04432885f677ad6241c088ccc5fe7724d69/tensorflow-1.14.0-cp36-cp36m-manylinux1_x86_64.whl (109.2MB)\n",
      "\u001b[K     |████████████████████████████████| 109.2MB 52.2MB/s eta 0:00:01   |████████████████▋               | 56.8MB 47.6MB/s eta 0:00:02\n",
      "\u001b[?25hRequirement already satisfied: gast>=0.2.0 in /opt/conda/envs/Python36/lib/python3.6/site-packages (from tensorflow==1.14.0) (0.2.2)\n",
      "Requirement already satisfied: six>=1.10.0 in /opt/conda/envs/Python36/lib/python3.6/site-packages (from tensorflow==1.14.0) (1.12.0)\n",
      "Requirement already satisfied: numpy<2.0,>=1.14.5 in /opt/conda/envs/Python36/lib/python3.6/site-packages (from tensorflow==1.14.0) (1.15.4)\n",
      "Requirement already satisfied: wrapt>=1.11.1 in /opt/conda/envs/Python36/lib/python3.6/site-packages (from tensorflow==1.14.0) (1.11.1)\n",
      "Requirement already satisfied: absl-py>=0.7.0 in /opt/conda/envs/Python36/lib/python3.6/site-packages (from tensorflow==1.14.0) (0.7.0)\n",
      "Collecting google-pasta>=0.1.6 (from tensorflow==1.14.0)\n",
      "\u001b[?25l  Downloading https://files.pythonhosted.org/packages/a3/de/c648ef6835192e6e2cc03f40b19eeda4382c49b5bafb43d88b931c4c74ac/google_pasta-0.2.0-py3-none-any.whl (57kB)\n",
      "\u001b[K     |████████████████████████████████| 61kB 26.0MB/s eta 0:00:01\n",
      "\u001b[?25hCollecting tensorboard<1.15.0,>=1.14.0 (from tensorflow==1.14.0)\n",
      "\u001b[?25l  Downloading https://files.pythonhosted.org/packages/91/2d/2ed263449a078cd9c8a9ba50ebd50123adf1f8cfbea1492f9084169b89d9/tensorboard-1.14.0-py3-none-any.whl (3.1MB)\n",
      "\u001b[K     |████████████████████████████████| 3.2MB 44.2MB/s eta 0:00:01\n",
      "\u001b[?25hRequirement already satisfied: astor>=0.6.0 in /opt/conda/envs/Python36/lib/python3.6/site-packages (from tensorflow==1.14.0) (0.7.1)\n",
      "Requirement already satisfied: termcolor>=1.1.0 in /opt/conda/envs/Python36/lib/python3.6/site-packages (from tensorflow==1.14.0) (1.1.0)\n",
      "Requirement already satisfied: grpcio>=1.8.6 in /opt/conda/envs/Python36/lib/python3.6/site-packages (from tensorflow==1.14.0) (1.16.1)\n",
      "Requirement already satisfied: protobuf>=3.6.1 in /opt/conda/envs/Python36/lib/python3.6/site-packages (from tensorflow==1.14.0) (3.6.1)\n",
      "Collecting tensorflow-estimator<1.15.0rc0,>=1.14.0rc0 (from tensorflow==1.14.0)\n",
      "\u001b[?25l  Downloading https://files.pythonhosted.org/packages/3c/d5/21860a5b11caf0678fbc8319341b0ae21a07156911132e0e71bffed0510d/tensorflow_estimator-1.14.0-py2.py3-none-any.whl (488kB)\n",
      "\u001b[K     |████████████████████████████████| 491kB 36.8MB/s eta 0:00:01\n",
      "\u001b[?25hRequirement already satisfied: wheel>=0.26 in /opt/conda/envs/Python36/lib/python3.6/site-packages (from tensorflow==1.14.0) (0.32.3)\n",
      "Requirement already satisfied: keras-preprocessing>=1.0.5 in /opt/conda/envs/Python36/lib/python3.6/site-packages (from tensorflow==1.14.0) (1.0.5)\n",
      "Requirement already satisfied: keras-applications>=1.0.6 in /opt/conda/envs/Python36/lib/python3.6/site-packages (from tensorflow==1.14.0) (1.0.6)\n",
      "Requirement already satisfied: markdown>=2.6.8 in /opt/conda/envs/Python36/lib/python3.6/site-packages (from tensorboard<1.15.0,>=1.14.0->tensorflow==1.14.0) (3.0.1)\n",
      "Requirement already satisfied: werkzeug>=0.11.15 in /opt/conda/envs/Python36/lib/python3.6/site-packages (from tensorboard<1.15.0,>=1.14.0->tensorflow==1.14.0) (0.14.1)\n",
      "Collecting setuptools>=41.0.0 (from tensorboard<1.15.0,>=1.14.0->tensorflow==1.14.0)\n",
      "\u001b[?25l  Downloading https://files.pythonhosted.org/packages/a0/df/635cdb901ee4a8a42ec68e480c49f85f4c59e8816effbf57d9e6ee8b3588/setuptools-46.1.3-py3-none-any.whl (582kB)\n",
      "\u001b[K     |████████████████████████████████| 583kB 45.1MB/s eta 0:00:01\n",
      "\u001b[?25hRequirement already satisfied: h5py in /opt/conda/envs/Python36/lib/python3.6/site-packages (from keras-applications>=1.0.6->tensorflow==1.14.0) (2.9.0)\n",
      "Installing collected packages: google-pasta, setuptools, tensorboard, tensorflow-estimator, tensorflow\n",
      "  Found existing installation: setuptools 40.8.0\n",
      "    Uninstalling setuptools-40.8.0:\n",
      "      Successfully uninstalled setuptools-40.8.0\n",
      "  Found existing installation: tensorflow-estimator 1.13.0\n",
      "    Uninstalling tensorflow-estimator-1.13.0:\n",
      "      Successfully uninstalled tensorflow-estimator-1.13.0\n",
      "  Found existing installation: tensorflow 1.13.1\n",
      "    Uninstalling tensorflow-1.13.1:\n",
      "      Successfully uninstalled tensorflow-1.13.1\n",
      "Successfully installed google-pasta-0.2.0 setuptools-46.1.3 tensorboard-1.14.0 tensorflow-1.14.0 tensorflow-estimator-1.14.0\n",
      "Collecting keras_sequential_ascii\n",
      "  Downloading https://files.pythonhosted.org/packages/2d/a4/806e3ed5d7ac7463e2fae77e09ccccc88c78266b248fb637e4efa4f65ec0/keras_sequential_ascii-0.1.1.tar.gz\n",
      "Requirement already satisfied: keras in /opt/conda/envs/Python36/lib/python3.6/site-packages (from keras_sequential_ascii) (2.2.4)\n",
      "Requirement already satisfied: numpy>=1.9.1 in /opt/conda/envs/Python36/lib/python3.6/site-packages (from keras->keras_sequential_ascii) (1.15.4)\n",
      "Requirement already satisfied: scipy>=0.14 in /opt/conda/envs/Python36/lib/python3.6/site-packages (from keras->keras_sequential_ascii) (1.2.0)\n",
      "Requirement already satisfied: six>=1.9.0 in /opt/conda/envs/Python36/lib/python3.6/site-packages (from keras->keras_sequential_ascii) (1.12.0)\n",
      "Requirement already satisfied: pyyaml in /opt/conda/envs/Python36/lib/python3.6/site-packages (from keras->keras_sequential_ascii) (3.13)\n",
      "Requirement already satisfied: h5py in /opt/conda/envs/Python36/lib/python3.6/site-packages (from keras->keras_sequential_ascii) (2.9.0)\n",
      "Requirement already satisfied: keras_applications>=1.0.6 in /opt/conda/envs/Python36/lib/python3.6/site-packages (from keras->keras_sequential_ascii) (1.0.6)\n",
      "Requirement already satisfied: keras_preprocessing>=1.0.5 in /opt/conda/envs/Python36/lib/python3.6/site-packages (from keras->keras_sequential_ascii) (1.0.5)\n",
      "Building wheels for collected packages: keras-sequential-ascii\n",
      "  Building wheel for keras-sequential-ascii (setup.py) ... \u001b[?25ldone\n",
      "\u001b[?25h  Stored in directory: /home/dsxuser/.cache/pip/wheels/f5/8d/81/912666dff82a923ce423a7e797cd75f54271c7031512cdb282\n",
      "Successfully built keras-sequential-ascii\n",
      "Installing collected packages: keras-sequential-ascii\n",
      "Successfully installed keras-sequential-ascii-0.1.1\n"
     ]
    },
    {
     "name": "stderr",
     "output_type": "stream",
     "text": [
      "Using TensorFlow backend.\n"
     ]
    },
    {
     "name": "stdout",
     "output_type": "stream",
     "text": [
      "2.2.4\n"
     ]
    }
   ],
   "source": [
    "!pip install keras==2.2.4\n",
    "!pip install tensorflow==1.14.0\n",
    "!pip install keras_sequential_ascii\n",
    "\n",
    "import keras\n",
    "from keras.datasets import mnist\n",
    "from keras.models import Sequential\n",
    "from keras.layers import Dense, Dropout, Flatten\n",
    "from keras.layers import Conv2D, MaxPooling2D\n",
    "from keras_sequential_ascii import sequential_model_to_ascii_printout\n",
    "from keras import backend as keras_backend\n",
    "print(keras.__version__)"
   ]
  },
  {
   "cell_type": "code",
   "execution_count": 6,
   "metadata": {},
   "outputs": [],
   "source": [
    "batch_size = 128\n",
    "num_classes = 10\n",
    "epochs = 5"
   ]
  },
  {
   "cell_type": "code",
   "execution_count": 7,
   "metadata": {},
   "outputs": [
    {
     "name": "stdout",
     "output_type": "stream",
     "text": [
      "Downloading data from https://s3.amazonaws.com/img-datasets/mnist.npz\n",
      "11493376/11490434 [==============================] - 0s 0us/step\n",
      "x_train shape: (60000, 28, 28, 1)\n",
      "60000 train samples\n",
      "10000 test samples\n"
     ]
    }
   ],
   "source": [
    "# input image dimensions\n",
    "img_rows, img_cols = 28, 28\n",
    "\n",
    "# the data, split between train and test sets\n",
    "(x_train, y_train), (x_test, y_test) = mnist.load_data()\n",
    "\n",
    "if keras_backend.image_data_format() == 'channels_first':\n",
    "    x_train = x_train.reshape(x_train.shape[0], 1, img_rows, img_cols)\n",
    "    x_test = x_test.reshape(x_test.shape[0], 1, img_rows, img_cols)\n",
    "    input_shape = (1, img_rows, img_cols)\n",
    "else:\n",
    "    x_train = x_train.reshape(x_train.shape[0], img_rows, img_cols, 1)\n",
    "    x_test = x_test.reshape(x_test.shape[0], img_rows, img_cols, 1)\n",
    "    input_shape = (img_rows, img_cols, 1)\n",
    "\n",
    "x_train = x_train.astype('float32')\n",
    "x_test = x_test.astype('float32')\n",
    "x_train /= 255\n",
    "x_test /= 255\n",
    "\n",
    "print('x_train shape:', x_train.shape)\n",
    "print(x_train.shape[0], 'train samples')\n",
    "print(x_test.shape[0], 'test samples')"
   ]
  },
  {
   "cell_type": "code",
   "execution_count": 8,
   "metadata": {},
   "outputs": [],
   "source": [
    "# convert class vectors to binary class matrices\n",
    "y_train = keras.utils.to_categorical(y_train, num_classes)\n",
    "y_test = keras.utils.to_categorical(y_test, num_classes)"
   ]
  },
  {
   "cell_type": "code",
   "execution_count": 9,
   "metadata": {},
   "outputs": [],
   "source": [
    "# Define Model\n",
    "\n",
    "def base_model():\n",
    "    model = Sequential()\n",
    "    model.add(Conv2D(32, kernel_size=(3, 3), activation='relu', input_shape=input_shape))\n",
    "    model.add(Conv2D(64, (3, 3), activation='relu'))\n",
    "    model.add(MaxPooling2D(pool_size=(2, 2)))\n",
    "    model.add(Dropout(0.25))\n",
    "    model.add(Flatten())\n",
    "    model.add(Dense(128, activation='relu'))\n",
    "    model.add(Dropout(0.5))\n",
    "    model.add(Dense(num_classes, activation='softmax'))\n",
    "\n",
    "    model.compile(loss=keras.losses.categorical_crossentropy,\n",
    "                  optimizer=keras.optimizers.Adadelta(),\n",
    "                  metrics=['accuracy'])\n",
    "    return model"
   ]
  },
  {
   "cell_type": "code",
   "execution_count": 10,
   "metadata": {},
   "outputs": [
    {
     "name": "stderr",
     "output_type": "stream",
     "text": [
      "WARNING: Logging before flag parsing goes to stderr.\n",
      "W0401 18:48:38.274579 140441764169536 deprecation_wrapper.py:119] From /opt/conda/envs/Python36/lib/python3.6/site-packages/keras/backend/tensorflow_backend.py:74: The name tf.get_default_graph is deprecated. Please use tf.compat.v1.get_default_graph instead.\n",
      "\n",
      "W0401 18:48:38.298037 140441764169536 deprecation_wrapper.py:119] From /opt/conda/envs/Python36/lib/python3.6/site-packages/keras/backend/tensorflow_backend.py:517: The name tf.placeholder is deprecated. Please use tf.compat.v1.placeholder instead.\n",
      "\n",
      "W0401 18:48:38.300992 140441764169536 deprecation_wrapper.py:119] From /opt/conda/envs/Python36/lib/python3.6/site-packages/keras/backend/tensorflow_backend.py:4138: The name tf.random_uniform is deprecated. Please use tf.random.uniform instead.\n",
      "\n",
      "W0401 18:48:38.334041 140441764169536 deprecation_wrapper.py:119] From /opt/conda/envs/Python36/lib/python3.6/site-packages/keras/backend/tensorflow_backend.py:3976: The name tf.nn.max_pool is deprecated. Please use tf.nn.max_pool2d instead.\n",
      "\n",
      "W0401 18:48:38.336390 140441764169536 deprecation_wrapper.py:119] From /opt/conda/envs/Python36/lib/python3.6/site-packages/keras/backend/tensorflow_backend.py:133: The name tf.placeholder_with_default is deprecated. Please use tf.compat.v1.placeholder_with_default instead.\n",
      "\n",
      "W0401 18:48:38.346993 140441764169536 deprecation.py:506] From /opt/conda/envs/Python36/lib/python3.6/site-packages/keras/backend/tensorflow_backend.py:3445: calling dropout (from tensorflow.python.ops.nn_ops) with keep_prob is deprecated and will be removed in a future version.\n",
      "Instructions for updating:\n",
      "Please use `rate` instead of `keep_prob`. Rate should be set to `rate = 1 - keep_prob`.\n",
      "W0401 18:48:38.437018 140441764169536 deprecation_wrapper.py:119] From /opt/conda/envs/Python36/lib/python3.6/site-packages/keras/optimizers.py:790: The name tf.train.Optimizer is deprecated. Please use tf.compat.v1.train.Optimizer instead.\n",
      "\n",
      "W0401 18:48:38.445548 140441764169536 deprecation_wrapper.py:119] From /opt/conda/envs/Python36/lib/python3.6/site-packages/keras/backend/tensorflow_backend.py:3295: The name tf.log is deprecated. Please use tf.math.log instead.\n",
      "\n"
     ]
    },
    {
     "name": "stdout",
     "output_type": "stream",
     "text": [
      "_________________________________________________________________\n",
      "Layer (type)                 Output Shape              Param #   \n",
      "=================================================================\n",
      "conv2d_1 (Conv2D)            (None, 26, 26, 32)        320       \n",
      "_________________________________________________________________\n",
      "conv2d_2 (Conv2D)            (None, 24, 24, 64)        18496     \n",
      "_________________________________________________________________\n",
      "max_pooling2d_1 (MaxPooling2 (None, 12, 12, 64)        0         \n",
      "_________________________________________________________________\n",
      "dropout_1 (Dropout)          (None, 12, 12, 64)        0         \n",
      "_________________________________________________________________\n",
      "flatten_1 (Flatten)          (None, 9216)              0         \n",
      "_________________________________________________________________\n",
      "dense_1 (Dense)              (None, 128)               1179776   \n",
      "_________________________________________________________________\n",
      "dropout_2 (Dropout)          (None, 128)               0         \n",
      "_________________________________________________________________\n",
      "dense_2 (Dense)              (None, 10)                1290      \n",
      "=================================================================\n",
      "Total params: 1,199,882\n",
      "Trainable params: 1,199,882\n",
      "Non-trainable params: 0\n",
      "_________________________________________________________________\n"
     ]
    }
   ],
   "source": [
    "cnn_n = base_model()\n",
    "cnn_n.summary()"
   ]
  },
  {
   "cell_type": "code",
   "execution_count": 11,
   "metadata": {},
   "outputs": [
    {
     "name": "stdout",
     "output_type": "stream",
     "text": [
      "           OPERATION           DATA DIMENSIONS   WEIGHTS(N)   WEIGHTS(%)\n",
      "\n",
      "               Input   #####     28   28    1\n",
      "              Conv2D    \\|/  -------------------       320     0.0%\n",
      "                relu   #####     26   26   32\n",
      "              Conv2D    \\|/  -------------------     18496     1.5%\n",
      "                relu   #####     24   24   64\n",
      "        MaxPooling2D   Y max -------------------         0     0.0%\n",
      "                       #####     12   12   64\n",
      "             Dropout    | || -------------------         0     0.0%\n",
      "                       #####     12   12   64\n",
      "             Flatten   ||||| -------------------         0     0.0%\n",
      "                       #####        9216\n",
      "               Dense   XXXXX -------------------   1179776    98.3%\n",
      "                relu   #####         128\n",
      "             Dropout    | || -------------------         0     0.0%\n",
      "                       #####         128\n",
      "               Dense   XXXXX -------------------      1290     0.1%\n",
      "             softmax   #####          10\n"
     ]
    }
   ],
   "source": [
    "# Vizualizing model structure\n",
    "sequential_model_to_ascii_printout(cnn_n)"
   ]
  },
  {
   "cell_type": "code",
   "execution_count": 12,
   "metadata": {},
   "outputs": [
    {
     "name": "stderr",
     "output_type": "stream",
     "text": [
      "W0401 18:48:38.583369 140441764169536 deprecation.py:323] From /opt/conda/envs/Python36/lib/python3.6/site-packages/tensorflow/python/ops/math_grad.py:1250: add_dispatch_support.<locals>.wrapper (from tensorflow.python.ops.array_ops) is deprecated and will be removed in a future version.\n",
      "Instructions for updating:\n",
      "Use tf.where in 2.0, which has the same broadcast rule as np.where\n"
     ]
    },
    {
     "name": "stdout",
     "output_type": "stream",
     "text": [
      "(60000, 10)\n",
      "Train on 60000 samples, validate on 10000 samples\n",
      "Epoch 1/5\n",
      "60000/60000 [==============================] - 169s 3ms/step - loss: 0.2650 - acc: 0.9192 - val_loss: 0.0552 - val_acc: 0.9827\n",
      "Epoch 2/5\n",
      "60000/60000 [==============================] - 169s 3ms/step - loss: 0.0874 - acc: 0.9747 - val_loss: 0.0384 - val_acc: 0.9877\n",
      "Epoch 3/5\n",
      "60000/60000 [==============================] - 174s 3ms/step - loss: 0.0645 - acc: 0.9804 - val_loss: 0.0355 - val_acc: 0.9872\n",
      "Epoch 4/5\n",
      "60000/60000 [==============================] - 171s 3ms/step - loss: 0.0543 - acc: 0.9840 - val_loss: 0.0322 - val_acc: 0.9887\n",
      "Epoch 5/5\n",
      "60000/60000 [==============================] - 173s 3ms/step - loss: 0.0455 - acc: 0.9861 - val_loss: 0.0280 - val_acc: 0.9909\n"
     ]
    }
   ],
   "source": [
    "# Fit model\n",
    "print(y_train.shape)\n",
    "cnn = cnn_n.fit(x_train, y_train, batch_size=batch_size, epochs=epochs, validation_data=(x_test, y_test))"
   ]
  },
  {
   "cell_type": "code",
   "execution_count": 13,
   "metadata": {},
   "outputs": [
    {
     "name": "stdout",
     "output_type": "stream",
     "text": [
      "[0.027997173377852597, 0.9909]\n",
      "Accuracy: 99.09%\n"
     ]
    }
   ],
   "source": [
    "scores = cnn_n.evaluate(x_test, y_test, verbose=0)\n",
    "print(scores)\n",
    "print(\"Accuracy: %.2f%%\" % (scores[1]*100))"
   ]
  },
  {
   "cell_type": "markdown",
   "metadata": {},
   "source": [
    "### 2.2 Almacenando el modelo"
   ]
  },
  {
   "cell_type": "code",
   "execution_count": 14,
   "metadata": {},
   "outputs": [
    {
     "name": "stdout",
     "output_type": "stream",
     "text": [
      "rm: cannot remove ‘mnist_cnn.tar*’: No such file or directory\n",
      "mnist_cnn.h5\n"
     ]
    }
   ],
   "source": [
    "from watson_machine_learning_client import WatsonMachineLearningAPIClient\n",
    "\n",
    "wml_client = WatsonMachineLearningAPIClient(WML_CREDENTIALS)\n",
    "cnn_n.save(\"mnist_cnn.h5\")\n",
    "!rm mnist_cnn.tar*\n",
    "!tar -czvf mnist_cnn.tar.gz mnist_cnn.h5"
   ]
  },
  {
   "cell_type": "code",
   "execution_count": 15,
   "metadata": {},
   "outputs": [],
   "source": [
    "!rm mnist_cnn.h5"
   ]
  },
  {
   "cell_type": "code",
   "execution_count": 16,
   "metadata": {},
   "outputs": [],
   "source": [
    "model_name = \"MNIST Model\"\n",
    "\n",
    "# Update the FRAMEWORK_VERSION below depending on the tensorflow version used\n",
    "model_meta = {\n",
    "    wml_client.repository.ModelMetaNames.NAME: model_name,\n",
    "    wml_client.repository.ModelMetaNames.DESCRIPTION: \"MNIST model\",\n",
    "    wml_client.repository.ModelMetaNames.FRAMEWORK_NAME: \"tensorflow\",\n",
    "    wml_client.repository.ModelMetaNames.FRAMEWORK_VERSION: \"1.14\",\n",
    "    wml_client.repository.ModelMetaNames.FRAMEWORK_LIBRARIES: [\n",
    "         {\"name\": \"keras\", \"version\": \"2.2.4\"}\n",
    "    ]\n",
    "}"
   ]
  },
  {
   "cell_type": "code",
   "execution_count": 17,
   "metadata": {},
   "outputs": [],
   "source": [
    "published_model_details = wml_client.repository.store_model(model='mnist_cnn.tar.gz', meta_props=model_meta)"
   ]
  },
  {
   "cell_type": "code",
   "execution_count": 18,
   "metadata": {},
   "outputs": [
    {
     "data": {
      "text/plain": [
       "'11e02e65-97eb-4c37-8322-f4384b8a9caf'"
      ]
     },
     "execution_count": 18,
     "metadata": {},
     "output_type": "execute_result"
    }
   ],
   "source": [
    "model_uid = wml_client.repository.get_model_uid(published_model_details)\n",
    "model_uid"
   ]
  },
  {
   "cell_type": "markdown",
   "metadata": {},
   "source": [
    "### 2.3 Desplegando el modelo"
   ]
  },
  {
   "cell_type": "code",
   "execution_count": 19,
   "metadata": {},
   "outputs": [
    {
     "name": "stdout",
     "output_type": "stream",
     "text": [
      "\n",
      "\n",
      "#######################################################################################\n",
      "\n",
      "Synchronous deployment creation for uid: '11e02e65-97eb-4c37-8322-f4384b8a9caf' started\n",
      "\n",
      "#######################################################################################\n",
      "\n",
      "\n",
      "INITIALIZING\n",
      "DEPLOY_IN_PROGRESS.\n",
      "DEPLOY_SUCCESS\n",
      "\n",
      "\n",
      "------------------------------------------------------------------------------------------------\n",
      "Successfully finished deployment creation, deployment_uid='b8a6f80c-c301-4f94-a335-8412e13e978c'\n",
      "------------------------------------------------------------------------------------------------\n",
      "\n",
      "\n"
     ]
    }
   ],
   "source": [
    "deployment= wml_client.deployments.create(name= model_name + \" Deployment\", model_uid=model_uid)"
   ]
  },
  {
   "cell_type": "code",
   "execution_count": 20,
   "metadata": {},
   "outputs": [
    {
     "name": "stdout",
     "output_type": "stream",
     "text": [
      "https://us-south.ml.cloud.ibm.com/v3/wml_instances/197aa151-8d29-4a35-af88-cfc689f25d87/deployments/b8a6f80c-c301-4f94-a335-8412e13e978c/online\n"
     ]
    }
   ],
   "source": [
    "scoring_url = wml_client.deployments.get_scoring_url(deployment)\n",
    "print(scoring_url)"
   ]
  },
  {
   "cell_type": "markdown",
   "metadata": {},
   "source": [
    "## 3. Suscripciones"
   ]
  },
  {
   "cell_type": "markdown",
   "metadata": {},
   "source": [
    "### 3.1 Configurando OpenScale"
   ]
  },
  {
   "cell_type": "code",
   "execution_count": 28,
   "metadata": {},
   "outputs": [
    {
     "data": {
      "text/plain": [
       "'2.2.1'"
      ]
     },
     "execution_count": 28,
     "metadata": {},
     "output_type": "execute_result"
    }
   ],
   "source": [
    "from ibm_ai_openscale import APIClient\n",
    "from ibm_ai_openscale.engines import WatsonMachineLearningAsset\n",
    "\n",
    "aios_client = APIClient(AIOS_CREDENTIALS)\n",
    "aios_client.version"
   ]
  },
  {
   "cell_type": "markdown",
   "metadata": {},
   "source": [
    "### 3.2 Suscribir el asset"
   ]
  },
  {
   "cell_type": "code",
   "execution_count": 29,
   "metadata": {},
   "outputs": [],
   "source": [
    "from ibm_ai_openscale.supporting_classes import *\n",
    "\n",
    "subscription = aios_client.data_mart.subscriptions.add(WatsonMachineLearningAsset(\n",
    "    model_uid,\n",
    "    problem_type=ProblemType.MULTICLASS_CLASSIFICATION,\n",
    "    input_data_type=InputDataType.UNSTRUCTURED_IMAGE,\n",
    "    probability_column='probability'\n",
    "))"
   ]
  },
  {
   "cell_type": "code",
   "execution_count": 40,
   "metadata": {},
   "outputs": [
    {
     "data": {
      "text/html": [
       "<HTML>\n",
       "        <body>\n",
       "            <h3>Subscriptions</h3>\n",
       "            <table style='border: 1px solid #dddddd; font-family: Courier'>\n",
       "                <th style='border: 1px solid #dddddd'>uid</th><th style='border: 1px solid #dddddd'>name</th><th style='border: 1px solid #dddddd'>type</th><th style='border: 1px solid #dddddd'>binding_uid</th><th style='border: 1px solid #dddddd'>created</th>\n",
       "                <tr><td style='border: 1px solid #dddddd'>827b02c8-3b2a-483f-ba3c-b46b0d736b44</td><td style='border: 1px solid #dddddd'>MNIST Model</td><td style='border: 1px solid #dddddd'>model</td><td style='border: 1px solid #dddddd'>197aa151-8d29-4a35-af88-cfc689f25d87</td><td style='border: 1px solid #dddddd'>2020-04-01T19:05:10.255Z</td></tr><tr><td style='border: 1px solid #dddddd'>eadd87e5-de57-4a35-8ee5-0a9530080c2c</td><td style='border: 1px solid #dddddd'>Scikit German Risk Model</td><td style='border: 1px solid #dddddd'>model</td><td style='border: 1px solid #dddddd'>197aa151-8d29-4a35-af88-cfc689f25d87</td><td style='border: 1px solid #dddddd'>2020-04-01T14:03:18.183Z</td></tr>\n",
       "            </table>\n",
       "        </body>\n",
       "        </HTML>"
      ],
      "text/plain": [
       "<IPython.core.display.HTML object>"
      ]
     },
     "metadata": {},
     "output_type": "display_data"
    }
   ],
   "source": [
    "aios_client.data_mart.subscriptions.list()"
   ]
  },
  {
   "cell_type": "code",
   "execution_count": 41,
   "metadata": {},
   "outputs": [
    {
     "data": {
      "text/plain": [
       "{'entity': {'asset': {'asset_id': '11e02e65-97eb-4c37-8322-f4384b8a9caf',\n",
       "   'asset_type': 'model',\n",
       "   'created_at': '2020-04-01T19:03:40.104Z',\n",
       "   'name': 'MNIST Model',\n",
       "   'url': 'https://us-south.ml.cloud.ibm.com/v3/wml_instances/197aa151-8d29-4a35-af88-cfc689f25d87/published_models/11e02e65-97eb-4c37-8322-f4384b8a9caf'},\n",
       "  'asset_properties': {'input_data_type': 'unstructured_image',\n",
       "   'model_type': 'tensorflow-1.14',\n",
       "   'output_data_schema': {'fields': [{'metadata': {'modeling_role': 'record-id',\n",
       "       'primary_key': True},\n",
       "      'name': 'scoring_id',\n",
       "      'nullable': False,\n",
       "      'type': 'string'},\n",
       "     {'metadata': {'modeling_role': 'record-timestamp'},\n",
       "      'name': 'scoring_timestamp',\n",
       "      'nullable': False,\n",
       "      'type': 'timestamp'},\n",
       "     {'metadata': {},\n",
       "      'name': 'deployment_id',\n",
       "      'nullable': False,\n",
       "      'type': 'string'},\n",
       "     {'metadata': {},\n",
       "      'name': 'asset_revision',\n",
       "      'nullable': True,\n",
       "      'type': 'string'},\n",
       "     {'metadata': {},\n",
       "      'name': 'scoring_input',\n",
       "      'nullable': True,\n",
       "      'type': 'binary'},\n",
       "     {'metadata': {},\n",
       "      'name': 'prediction',\n",
       "      'nullable': True,\n",
       "      'type': {'containsNull': True,\n",
       "       'elementType': 'double',\n",
       "       'type': 'array'}},\n",
       "     {'metadata': {},\n",
       "      'name': 'prediction_classes',\n",
       "      'nullable': True,\n",
       "      'type': 'integer'},\n",
       "     {'metadata': {'modeling_role': 'prediction-probability'},\n",
       "      'name': 'prediction_probability',\n",
       "      'nullable': True,\n",
       "      'type': 'double'},\n",
       "     {'metadata': {'modeling_role': 'prediction'},\n",
       "      'name': 'scoring_prediction',\n",
       "      'nullable': True,\n",
       "      'type': 'integer'},\n",
       "     {'metadata': {'modeling_role': 'probability'},\n",
       "      'name': 'probability',\n",
       "      'nullable': True,\n",
       "      'type': {'containsNull': True,\n",
       "       'elementType': 'double',\n",
       "       'type': 'array'}}],\n",
       "    'type': 'struct'},\n",
       "   'probability_fields': ['probability'],\n",
       "   'problem_type': 'multiclass',\n",
       "   'runtime_environment': 'None Provided'},\n",
       "  'configurations': [{'enabled': True,\n",
       "    'monitor_definition_id': 'payload_logging',\n",
       "    'type': 'payload_logging',\n",
       "    'url': '/v1/data_marts/a37ff109-dbe4-43f7-bf4a-07b5bd153b5f/service_bindings/197aa151-8d29-4a35-af88-cfc689f25d87/subscriptions/827b02c8-3b2a-483f-ba3c-b46b0d736b44/configurations/payload_logging'},\n",
       "   {'enabled': True,\n",
       "    'monitor_definition_id': 'performance_monitoring',\n",
       "    'type': 'performance_monitoring',\n",
       "    'url': '/v1/data_marts/a37ff109-dbe4-43f7-bf4a-07b5bd153b5f/service_bindings/197aa151-8d29-4a35-af88-cfc689f25d87/subscriptions/827b02c8-3b2a-483f-ba3c-b46b0d736b44/configurations/performance_monitoring'},\n",
       "   {'enabled': False,\n",
       "    'monitor_definition_id': 'fairness_monitoring',\n",
       "    'type': 'fairness_monitoring',\n",
       "    'url': '/v1/data_marts/a37ff109-dbe4-43f7-bf4a-07b5bd153b5f/service_bindings/197aa151-8d29-4a35-af88-cfc689f25d87/subscriptions/827b02c8-3b2a-483f-ba3c-b46b0d736b44/configurations/fairness_monitoring'},\n",
       "   {'enabled': False,\n",
       "    'monitor_definition_id': 'assurance',\n",
       "    'type': 'assurance',\n",
       "    'url': '/v1/data_marts/a37ff109-dbe4-43f7-bf4a-07b5bd153b5f/service_bindings/197aa151-8d29-4a35-af88-cfc689f25d87/subscriptions/827b02c8-3b2a-483f-ba3c-b46b0d736b44/configurations/assurance'},\n",
       "   {'enabled': False,\n",
       "    'monitor_definition_id': 'fairness',\n",
       "    'type': 'fairness',\n",
       "    'url': '/v1/data_marts/a37ff109-dbe4-43f7-bf4a-07b5bd153b5f/service_bindings/197aa151-8d29-4a35-af88-cfc689f25d87/subscriptions/827b02c8-3b2a-483f-ba3c-b46b0d736b44/configurations/fairness'},\n",
       "   {'enabled': True,\n",
       "    'monitor_definition_id': 'performance',\n",
       "    'type': 'performance',\n",
       "    'url': '/v1/data_marts/a37ff109-dbe4-43f7-bf4a-07b5bd153b5f/service_bindings/197aa151-8d29-4a35-af88-cfc689f25d87/subscriptions/827b02c8-3b2a-483f-ba3c-b46b0d736b44/configurations/performance'},\n",
       "   {'enabled': True,\n",
       "    'monitor_definition_id': 'explainability',\n",
       "    'type': 'explainability',\n",
       "    'url': '/v1/data_marts/a37ff109-dbe4-43f7-bf4a-07b5bd153b5f/service_bindings/197aa151-8d29-4a35-af88-cfc689f25d87/subscriptions/827b02c8-3b2a-483f-ba3c-b46b0d736b44/configurations/explainability'},\n",
       "   {'enabled': False,\n",
       "    'monitor_definition_id': 'mrm',\n",
       "    'type': 'mrm',\n",
       "    'url': '/v1/data_marts/a37ff109-dbe4-43f7-bf4a-07b5bd153b5f/service_bindings/197aa151-8d29-4a35-af88-cfc689f25d87/subscriptions/827b02c8-3b2a-483f-ba3c-b46b0d736b44/configurations/mrm'},\n",
       "   {'enabled': False,\n",
       "    'monitor_definition_id': 'correlations',\n",
       "    'type': 'correlations',\n",
       "    'url': '/v1/data_marts/a37ff109-dbe4-43f7-bf4a-07b5bd153b5f/service_bindings/197aa151-8d29-4a35-af88-cfc689f25d87/subscriptions/827b02c8-3b2a-483f-ba3c-b46b0d736b44/configurations/correlations'},\n",
       "   {'enabled': False,\n",
       "    'monitor_definition_id': 'drift',\n",
       "    'type': 'drift',\n",
       "    'url': '/v1/data_marts/a37ff109-dbe4-43f7-bf4a-07b5bd153b5f/service_bindings/197aa151-8d29-4a35-af88-cfc689f25d87/subscriptions/827b02c8-3b2a-483f-ba3c-b46b0d736b44/configurations/drift'},\n",
       "   {'enabled': False,\n",
       "    'monitor_definition_id': 'quality',\n",
       "    'type': 'quality_monitoring',\n",
       "    'url': '/v1/data_marts/a37ff109-dbe4-43f7-bf4a-07b5bd153b5f/service_bindings/197aa151-8d29-4a35-af88-cfc689f25d87/subscriptions/827b02c8-3b2a-483f-ba3c-b46b0d736b44/configurations/quality'},\n",
       "   {'enabled': False,\n",
       "    'monitor_definition_id': 'my_model_performance',\n",
       "    'type': 'my_model_performance',\n",
       "    'url': '/v1/data_marts/a37ff109-dbe4-43f7-bf4a-07b5bd153b5f/service_bindings/197aa151-8d29-4a35-af88-cfc689f25d87/subscriptions/827b02c8-3b2a-483f-ba3c-b46b0d736b44/configurations/my_model_performance'},\n",
       "   {'enabled': False,\n",
       "    'monitor_definition_id': '71d55f3b-60e2-4b99-ba13-42012b254d60',\n",
       "    'type': '71d55f3b-60e2-4b99-ba13-42012b254d60',\n",
       "    'url': '/v1/data_marts/a37ff109-dbe4-43f7-bf4a-07b5bd153b5f/service_bindings/197aa151-8d29-4a35-af88-cfc689f25d87/subscriptions/827b02c8-3b2a-483f-ba3c-b46b0d736b44/configurations/71d55f3b-60e2-4b99-ba13-42012b254d60'},\n",
       "   {'enabled': False,\n",
       "    'monitor_definition_id': '16d49ca5-32df-4410-be91-668fd88f1aee',\n",
       "    'type': '16d49ca5-32df-4410-be91-668fd88f1aee',\n",
       "    'url': '/v1/data_marts/a37ff109-dbe4-43f7-bf4a-07b5bd153b5f/service_bindings/197aa151-8d29-4a35-af88-cfc689f25d87/subscriptions/827b02c8-3b2a-483f-ba3c-b46b0d736b44/configurations/16d49ca5-32df-4410-be91-668fd88f1aee'}],\n",
       "  'deployments': [{'created_at': '2020-04-01T19:03:40.135Z',\n",
       "    'deployment_id': 'b8a6f80c-c301-4f94-a335-8412e13e978c',\n",
       "    'deployment_rn': '',\n",
       "    'deployment_type': 'online',\n",
       "    'name': 'MNIST Model Deployment',\n",
       "    'scoring_endpoint': {'request_headers': {'Content-Type': 'application/json'},\n",
       "     'url': 'https://us-south.ml.cloud.ibm.com/v3/wml_instances/197aa151-8d29-4a35-af88-cfc689f25d87/deployments/b8a6f80c-c301-4f94-a335-8412e13e978c/online'},\n",
       "    'url': 'https://us-south.ml.cloud.ibm.com/v3/wml_instances/197aa151-8d29-4a35-af88-cfc689f25d87/deployments/b8a6f80c-c301-4f94-a335-8412e13e978c'}],\n",
       "  'service_binding_id': '197aa151-8d29-4a35-af88-cfc689f25d87',\n",
       "  'status': {'state': 'active'}},\n",
       " 'metadata': {'guid': '827b02c8-3b2a-483f-ba3c-b46b0d736b44',\n",
       "  'url': '/v1/data_marts/a37ff109-dbe4-43f7-bf4a-07b5bd153b5f/service_bindings/197aa151-8d29-4a35-af88-cfc689f25d87/subscriptions/827b02c8-3b2a-483f-ba3c-b46b0d736b44',\n",
       "  'created_at': '2020-04-01T19:05:10.255Z'}}"
      ]
     },
     "execution_count": 41,
     "metadata": {},
     "output_type": "execute_result"
    }
   ],
   "source": [
    "subscription.get_details()"
   ]
  },
  {
   "cell_type": "markdown",
   "metadata": {},
   "source": [
    "### 3.3 Evalua el modelo y obtenga la identificación de transacción"
   ]
  },
  {
   "cell_type": "code",
   "execution_count": 42,
   "metadata": {},
   "outputs": [
    {
     "name": "stdout",
     "output_type": "stream",
     "text": [
      "Requirement already satisfied: numpy in /opt/conda/envs/Python36/lib/python3.6/site-packages (1.15.4)\n",
      "Requirement already satisfied: matplotlib in /opt/conda/envs/Python36/lib/python3.6/site-packages (3.0.2)\n",
      "Requirement already satisfied: numpy>=1.10.0 in /opt/conda/envs/Python36/lib/python3.6/site-packages (from matplotlib) (1.15.4)\n",
      "Requirement already satisfied: cycler>=0.10 in /opt/conda/envs/Python36/lib/python3.6/site-packages (from matplotlib) (0.10.0)\n",
      "Requirement already satisfied: kiwisolver>=1.0.1 in /opt/conda/envs/Python36/lib/python3.6/site-packages (from matplotlib) (1.0.1)\n",
      "Requirement already satisfied: pyparsing!=2.0.4,!=2.1.2,!=2.1.6,>=2.0.1 in /opt/conda/envs/Python36/lib/python3.6/site-packages (from matplotlib) (2.3.1)\n",
      "Requirement already satisfied: python-dateutil>=2.1 in /opt/conda/envs/Python36/lib/python3.6/site-packages (from matplotlib) (2.7.5)\n",
      "Requirement already satisfied: six in /opt/conda/envs/Python36/lib/python3.6/site-packages (from cycler>=0.10->matplotlib) (1.12.0)\n",
      "Requirement already satisfied: setuptools in /opt/conda/envs/Python36/lib/python3.6/site-packages (from kiwisolver>=1.0.1->matplotlib) (46.1.3)\n"
     ]
    },
    {
     "data": {
      "image/png": "[encoded data removed]",
      "text/plain": [
       "<Figure size 432x288 with 1 Axes>"
      ]
     },
     "metadata": {
      "needs_background": "light"
     },
     "output_type": "display_data"
    }
   ],
   "source": [
    "!pip install numpy\n",
    "!pip install matplotlib\n",
    "\n",
    "import numpy as np\n",
    "import matplotlib.pyplot as plt\n",
    "\n",
    "%matplotlib inline \n",
    "img = np.array(x_test[999], dtype='float')\n",
    "pixels = img.reshape((28, 28))\n",
    "plt.imshow(pixels, cmap='gray')\n",
    "plt.show()"
   ]
  },
  {
   "cell_type": "code",
   "execution_count": 43,
   "metadata": {},
   "outputs": [
    {
     "name": "stdout",
     "output_type": "stream",
     "text": [
      "{'fields': ['prediction', 'prediction_classes', 'probability'], 'values': [[[1.4399628867067804e-07, 7.403949675577337e-10, 2.0978516701575245e-08, 1.9271801647846587e-06, 0.0002658492012415081, 2.5246422410418745e-06, 9.68080282603978e-10, 2.3664482796448283e-05, 0.00010186623694607988, 0.9996040463447571], 9, [1.4399628867067804e-07, 7.403949675577337e-10, 2.0978516701575245e-08, 1.9271801647846587e-06, 0.0002658492012415081, 2.5246422410418745e-06, 9.68080282603978e-10, 2.3664482796448283e-05, 0.00010186623694607988, 0.9996040463447571]]]}\n"
     ]
    }
   ],
   "source": [
    "scoring_data = {'values': [x_test[999].tolist()]}\n",
    "predictions = wml_client.deployments.score(scoring_url, scoring_data)\n",
    "print(predictions)"
   ]
  },
  {
   "cell_type": "markdown",
   "metadata": {},
   "source": [
    "Note: Please wait for a few seconds before running the cell below."
   ]
  },
  {
   "cell_type": "code",
   "execution_count": 44,
   "metadata": {},
   "outputs": [
    {
     "name": "stdout",
     "output_type": "stream",
     "text": [
      "2534e0bf6338443874854c46076e9335-1\n"
     ]
    }
   ],
   "source": [
    "transaction_id = subscription.payload_logging.get_table_content().scoring_id[0]\n",
    "print(transaction_id)"
   ]
  },
  {
   "cell_type": "markdown",
   "metadata": {},
   "source": [
    "<a id=\"explainability\"></a>\n",
    "## 4. Explicabilidad"
   ]
  },
  {
   "cell_type": "markdown",
   "metadata": {},
   "source": [
    "### 4.1 Configurar la Explicabilidad"
   ]
  },
  {
   "cell_type": "code",
   "execution_count": 45,
   "metadata": {},
   "outputs": [],
   "source": [
    "subscription.explainability.enable()"
   ]
  },
  {
   "cell_type": "code",
   "execution_count": 46,
   "metadata": {},
   "outputs": [
    {
     "data": {
      "text/plain": [
       "{'enabled': True,\n",
       " 'monitor_definition': {'entity': {'applies_to': {'input_data_type': ['structured',\n",
       "     'unstructured_image',\n",
       "     'unstructured_text'],\n",
       "    'problem_type': ['binary', 'multiclass', 'regression']},\n",
       "   'description': 'Provides explanations to the predictions made by a Machine Learning model.',\n",
       "   'metrics': [],\n",
       "   'monitor_runtime': {'type': 'service'},\n",
       "   'name': 'Explainability',\n",
       "   'parameters_schema': {'properties': {'tokenizer': {'$id': '#/properties/tokenizer',\n",
       "      'items': {'$id': '#/properties/tokenizer/items',\n",
       "       'properties': {'enabled': {'$id': '#/properties/tokenizer/items/properties/enabled',\n",
       "         'type': 'boolean'},\n",
       "        'language': {'$id': '#/properties/tokenizer/items/properties/language',\n",
       "         'type': 'string'},\n",
       "        'part_of_speech': {'$id': '#/properties/tokenizer/items/properties/part_of_speech',\n",
       "         'items': {'oneOf': [{'type': 'string'}]},\n",
       "         'type': 'array'}},\n",
       "       'required': ['enabled'],\n",
       "       'title': 'The tokenizer details used for computing unstructured text explanations',\n",
       "       'type': 'object'},\n",
       "      'type': 'object'},\n",
       "     'training_statistics': {'$id': '#/properties/training_statistics',\n",
       "      'title': 'Training statistics used for computing explanations for structured data',\n",
       "      'type': 'object'}},\n",
       "    'required': [],\n",
       "    'title': 'Parameters required to enable explainability',\n",
       "    'type': 'object'},\n",
       "   'schedule': {'repeat_interval': 10,\n",
       "    'repeat_type': 'year',\n",
       "    'repeat_unit': 'year',\n",
       "    'start_time': {'timestamp': '2030-01-01T12:00:00.000Z',\n",
       "     'type': 'absolute'}},\n",
       "   'tags': []},\n",
       "  'metadata': {'guid': 'explainability',\n",
       "   'url': '/v1/data_marts/a37ff109-dbe4-43f7-bf4a-07b5bd153b5f/monitor_definitions/explainability',\n",
       "   'created_at': '2019-11-12T12:00:00.000Z'}},\n",
       " 'parameters': {}}"
      ]
     },
     "execution_count": 46,
     "metadata": {},
     "output_type": "execute_result"
    }
   ],
   "source": [
    "subscription.explainability.get_details()"
   ]
  },
  {
   "cell_type": "markdown",
   "metadata": {},
   "source": [
    "### 4.2 Obtener explicaciones para la transacción"
   ]
  },
  {
   "cell_type": "code",
   "execution_count": 47,
   "metadata": {},
   "outputs": [
    {
     "name": "stdout",
     "output_type": "stream",
     "text": [
      "\n",
      "\n",
      "================================================================\n",
      "\n",
      " Looking for explanation for 2534e0bf6338443874854c46076e9335-1 \n",
      "\n",
      "================================================================\n",
      "\n",
      "\n",
      "\n",
      "in_progress..\n",
      "finished\n",
      "\n",
      "---------------------------\n",
      " Successfully finished run \n",
      "---------------------------\n",
      "\n",
      "\n"
     ]
    }
   ],
   "source": [
    "explanation = subscription.explainability.run(transaction_id, background_mode=False)"
   ]
  },
  {
   "cell_type": "code",
   "execution_count": 48,
   "metadata": {},
   "outputs": [
    {
     "data": {
      "text/plain": [
       "{'metadata': {'created_at': '2020-04-01T19:07:19.097249Z',\n",
       "  'updated_at': '2020-04-01T19:07:39.712227Z',\n",
       "  'created_by': 'IBMid-2700057BDV',\n",
       "  'id': '541bc376-be90-4a83-a724-500d5f831497'},\n",
       " 'entity': {'explanation_type': 'lime',\n",
       "  'asset': {'type': 'image',\n",
       "   'name': 'MNIST Model',\n",
       "   'deployment': {'name': 'MNIST Model Deployment',\n",
       "    'id': 'b8a6f80c-c301-4f94-a335-8412e13e978c'},\n",
       "   'problem_type': 'multiclass',\n",
       "   'id': '11e02e65-97eb-4c37-8322-f4384b8a9caf',\n",
       "   'input_data_type': 'unstructured_image'},\n",
       "  'input_features': [{'full_image': 'iVBORw0KGgoAAAANSUhEUgAAABwAAAAcCAIAAAD9b0jDAAABsUlEQVR42u2VLavCYBTHdxfGNoRniANBg9iMYtAyMWhXsBsNwpovKwat4ifQL+C0GQ1LDgy+gWDRoPCIIDKHW1HObrBc8OXeeZcu9x/Py48H/uechyD+9a9HoiiqVqtpmgYAGONOpxMMBn9FZFlWkiQAWCwWzWZTURTDMEzTjMVi70MrlYplWb1ej2GYWySZTOq6bhhGKBR6h8hx3H6/X61WNE1/jadSKV3Xl8tluVy2DU0kEgAgiuJ9qt1uAwAAvGgnH0aj0ej1epVl+T613W4JghiNRrah2Wy23+/vdrtnbRhj29DD4YAQQgg9a1MUxTa0Xq8LgjAYDDKZzMOC0+nEMEy1WrUBHQ6HkiRFIpFWq5VOp+8LwuHweDzmed72DIiiuNlsAKDRaPA8jxAiSXI+n9/cn81mHo/nnYH1+/2lUum2qZfLRVXVG1FV1RfEj5+gfT5fLpejKMqyrHw+7/V63W63pmmOXZnJZHI8Hl0ul233X2s6nZ7PZ8eeGY/HAaBQKDh5YWVZBoBAIOAYkabp9XqNMeY4zjGoIAgAUCwWv620YRTLsqZpdrvdP/RjfgL1QskBcCZXDgAAAABJRU5ErkJggg==',\n",
       "    'used_features': 2,\n",
       "    'total_features': 2}],\n",
       "  'status': {'state': 'finished'},\n",
       "  'predictions': [{'value': 'positive',\n",
       "    'probability': 0.9996040463447571,\n",
       "    'explanation': [{'full_image': 'iVBORw0KGgoAAAANSUhEUgAAABwAAAAcCAIAAAD9b0jDAAABOklEQVR42u2UsYqDQBCGRQ5ZbdbGSt9DsMojmBdJHVsfwAeJ6DOks7CJQtBGi0AWhARkYVOojFcIKe7US9ZArshfDTvsxz+7MyMIH300JkmSXNet6xoACCG73W4pUVEUx3EA4Hg8ep633+8ZY7fbbRF0u932fR8EgSzL90NKKWOMk6iqalVVRVEghH6kKKV5nvNAV6sVAGw2m9EsAADAzHVx9NQ0za7rfN+fvCaKTzuN4zgMw6nsvM1Jp5fLBWOMMX5lh1qW1TRNHMfr9ZrD6ZwA4Hq92rY9Cs2yjJN7Op0GhKZpGGNRFNM0HX4/SRJOqGEYgiAMk9q2bRRFAzGKoqVPrOv6PSaE/PmmX49Az+fzPa6q6veYPdRS8zocDi/eh4/003NOZwaXUwihsiwJIW+o/enyl27+f6dvocCn/dcCeBcAAAAASUVORK5CYII=',\n",
       "      'used_features': 1,\n",
       "      'total_features': 1}]},\n",
       "   {'value': 'negative',\n",
       "    'probability': 0.0003959536552429199,\n",
       "    'explanation': [{'full_image': 'iVBORw0KGgoAAAANSUhEUgAAABwAAAAcCAIAAAD9b0jDAAAA0klEQVR42u3VIQqEQBQG4H83CIphgtPFZrRZNOlpBMuggkGwe4W5gYeY6D0EsyajG6Yuu87yFpbFP/3h8TFheA+4cuVcgiD4ihvHMSWXZZkuYRhSunme69I0DaUrpXw7czdF53kGME0TJaqzLAs9qpSiR7dts2276zozVAjxAo2iaN93zrnxc8qy1GUYhqcDnud9+IfqujYVbyfptm0tyzqOo+97AIyxdV2JN4Drur+9+tI0BVAUBT3t+z49yhgjs5IkAVBVFeWWchwHwDiOf3QfH3jZLojIWf5rAAAAAElFTkSuQmCC',\n",
       "      'used_features': 1,\n",
       "      'total_features': 1}]}]}}"
      ]
     },
     "execution_count": 48,
     "metadata": {},
     "output_type": "execute_result"
    }
   ],
   "source": [
    "explanation"
   ]
  },
  {
   "cell_type": "markdown",
   "metadata": {},
   "source": [
    "### Las imágenes explicativas se pueden obtener usando las celdas a continuación"
   ]
  },
  {
   "cell_type": "code",
   "execution_count": 49,
   "metadata": {},
   "outputs": [
    {
     "name": "stdout",
     "output_type": "stream",
     "text": [
      "Requirement already satisfied: Pillow in /opt/conda/envs/Python36/lib/python3.6/site-packages (5.4.1)\n"
     ]
    },
    {
     "data": {
      "image/png": "[encoded data removed]",
      "text/plain": [
       "<PIL.PngImagePlugin.PngImageFile image mode=RGB size=28x28 at 0x7FBA10485390>"
      ]
     },
     "execution_count": 49,
     "metadata": {},
     "output_type": "execute_result"
    }
   ],
   "source": [
    "!pip install Pillow\n",
    "from PIL import Image\n",
    "import base64\n",
    "import io\n",
    "\n",
    "img = explanation[\"entity\"][\"predictions\"][0][\"explanation\"][0][\"full_image\"]\n",
    "img_data = base64.b64decode(img)\n",
    "Image.open(io.BytesIO(img_data))"
   ]
  },
  {
   "cell_type": "code",
   "execution_count": 50,
   "metadata": {},
   "outputs": [
    {
     "data": {
      "image/png": "[encoded data removed]",
      "text/plain": [
       "<PIL.PngImagePlugin.PngImageFile image mode=RGB size=28x28 at 0x7FBA104850B8>"
      ]
     },
     "execution_count": 50,
     "metadata": {},
     "output_type": "execute_result"
    }
   ],
   "source": [
    "img = explanation[\"entity\"][\"predictions\"][1][\"explanation\"][0][\"full_image\"]\n",
    "img_data = base64.b64decode(img)\n",
    "Image.open(io.BytesIO(img_data))"
   ]
  },
  {
   "cell_type": "code",
   "execution_count": null,
   "metadata": {},
   "outputs": [],
   "source": []
  },
  {
   "cell_type": "code",
   "execution_count": null,
   "metadata": {},
   "outputs": [],
   "source": []
  }
 ],
 "metadata": {
  "kernelspec": {
   "display_name": "Python 3",
   "language": "python",
   "name": "python3"
  },
  "language_info": {
   "codemirror_mode": {
    "name": "ipython",
    "version": 3
   },
   "file_extension": ".py",
   "mimetype": "text/x-python",
   "name": "python",
   "nbconvert_exporter": "python",
   "pygments_lexer": "ipython3",
   "version": "3.6.4"
  }
 },
 "nbformat": 4,
 "nbformat_minor": 2
}
