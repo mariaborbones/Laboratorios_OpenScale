{
 "cells": [
  {
   "cell_type": "markdown",
   "metadata": {},
   "source": [
    "<img src=\"https://github.com/pmservice/ai-openscale-tutorials/raw/master/notebooks/images/banner.png\" align=\"left\" alt=\"banner\">"
   ]
  },
  {
   "cell_type": "markdown",
   "metadata": {},
   "source": [
    "# Conexión de OpenScale con Watson Machine Learning"
   ]
  },
  {
   "cell_type": "markdown",
   "metadata": {},
   "source": [
    "Este notebook debe ejecutarse en un proyecto de Watson Studio, utilizando el entorno de tiempo de ejecución ** Python 3.6 ** predeterminado. Requiere credenciales de servicio para los siguientes servicios en la nube:\n",
    "\n",
    "  * Watson OpenScale\n",
    "  * Watson Machine Learning\n",
    "\n",
    "Este notebook capacitará, creará e implementará un modelo de riesgo de crédito alemán, configurará OpenScale para monitorear esa implementación e inyectará registros y mediciones históricas durante siete días para ver en el panel de instrumentos de OpenScale Insights."
   ]
  },
  {
   "cell_type": "markdown",
   "metadata": {},
   "source": [
    "### Contenido\n",
    "\n",
    "- [Instalación](#setup)\n",
    "- [Construcción del modelo y despliegue](#model)\n",
    "- [Configuración de OpenScale](#openscale)\n",
    "- [Monitor de calidad y registro de logs](#quality)\n",
    "- [Monitorización del fairness y explicabilidad](#fairness)\n",
    "- [Monitorización del Drift](#drift)\n",
    "- [Métricas personalizadas](#custom)\n",
    "- [Analítica](#analytics)\n",
    "- [Aplicaciones de negocio](#application)\n",
    "- [Datos históricos](#historical)\n",
    "- [Ejecuta aplicaciones de negocio](#run_application)"
   ]
  },
  {
   "cell_type": "markdown",
   "metadata": {},
   "source": [
    "# -----------------------**PRIMERA SECCIÓN**-----------------------------------------"
   ]
  },
  {
   "cell_type": "markdown",
   "metadata": {},
   "source": [
    "# 1. Instalación <a name=\"setup\"></a>"
   ]
  },
  {
   "cell_type": "markdown",
   "metadata": {},
   "source": [
    "## 1.1. Instalación de los paquetes"
   ]
  },
  {
   "cell_type": "code",
   "execution_count": 1,
   "metadata": {},
   "outputs": [
    {
     "name": "stdout",
     "output_type": "stream",
     "text": [
      "Successfully installed ibm-ai-openscale-2.2.1\n",
      "Successfully installed lime-0.1.1.37 progressbar-2.5\n"
     ]
    }
   ],
   "source": [
    "!pip install --upgrade ibm-ai-openscale --no-cache | tail -n 1\n",
    "!pip install lime --no-cache | tail -n 1"
   ]
  },
  {
   "cell_type": "markdown",
   "metadata": {},
   "source": [
    "## 1.2. Aprovisionamiento de los servicios y configuración de las credenciales"
   ]
  },
  {
   "cell_type": "markdown",
   "metadata": {},
   "source": [
    "Si aún no la tienes aprovisiona una instancia de Watson OpenScale [Acceso a Watson OpenScale en el Catálogo de IBM ](https://cloud.ibm.com/catalog/services/watson-openscale)."
   ]
  },
  {
   "cell_type": "markdown",
   "metadata": {},
   "source": [
    "Necesitáis generar un Cloud API KEY. Podéis hacerlo yendo a [La sección de **Ususarios** de la consola Cloud](https://cloud.ibm.com/iam#/users). Desde esa página, haz click en tu nombre, haz scroll hasta la sección de **API Keys** , y haz click en **Crear un IBM Cloud API key**. Proporciona un nombre a la key y haz click en **Crear**, después cópiala y pégala más abajo."
   ]
  },
  {
   "cell_type": "markdown",
   "metadata": {},
   "source": [
    "**NOTA:** También puedes obtener la `API_KEY` usando la IBM CLOUD CLI.\n",
    "\n",
    "Cómo instalar la CLI de IBM Cloud : [instrucciones](https://console.bluemix.net/docs/cli/reference/ibmcloud/download_cli.html#install_use)\n",
    "\n",
    "¿Cómo obtener la API Key desde la consola:\n",
    "```\n",
    "bx login --sso\n",
    "bx iam api-key-create 'my_key'\n",
    "```"
   ]
  },
  {
   "cell_type": "code",
   "execution_count": 2,
   "metadata": {
    "scrolled": true
   },
   "outputs": [],
   "source": [
    "CLOUD_API_KEY = \"PASTE HERE\""
   ]
  },
  {
   "cell_type": "markdown",
   "metadata": {},
   "source": [
    "A continuación, necesitarás credenciales para Watson Machine Learning. Si ya tienes una instancia WML, puedes usar credenciales para ella. \n",
    "Para aprovisionar una nueva instancia Lite de WML, use el [Catálogo de la nube] (https://cloud.ibm.com/catalog/services/machine-learning), asigne un nombre a su servicio y haga clic en **Crear**. Una vez que se crea su instancia, haga clic en el enlace **Credenciales de servicio** en el lado izquierdo de la pantalla. Haga clic en el botón **Nueva credencial**, asigne un nombre a sus credenciales y haga clic en **Agregar**. Puede acceder a sus nuevas credenciales haciendo clic en el botón **Ver credenciales**. Copiad y pegad sus credenciales WML en la celda a continuación."
   ]
  },
  {
   "cell_type": "code",
   "execution_count": 2,
   "metadata": {
    "scrolled": true
   },
   "outputs": [],
   "source": [
    "WML_CREDENTIALS = {\n",
    "    \"apikey\": \"key\",\n",
    "    \"iam_apikey_description\": \"description\",\n",
    "    \"iam_apikey_name\": \"auto-generated-apikey\",\n",
    "    \"iam_role_crn\": \"crn:v1:bluemix:public:iam::::serviceRole:Writer\",\n",
    "    \"iam_serviceid_crn\": \"crn:v1:bluemix:public:iam-identity::\",\n",
    "    \"instance_id\": \"instance_id\",\n",
    "    \"password\": \"password\",\n",
    "    \"url\": \"https://us-south.ml.cloud.ibm.com\",\n",
    "    \"username\": \"username\"\n",
    "}"
   ]
  },
  {
   "cell_type": "markdown",
   "metadata": {},
   "source": [
    "Este tutorial usa la versión gratuita interna de PostgreSQL para crear un datamart para OpenScale."
   ]
  },
  {
   "cell_type": "code",
   "execution_count": 3,
   "metadata": {
    "scrolled": true
   },
   "outputs": [],
   "source": [
    "DB_CREDENTIALS = None"
   ]
  },
  {
   "cell_type": "code",
   "execution_count": 8,
   "metadata": {},
   "outputs": [],
   "source": [
    "KEEP_MY_INTERNAL_POSTGRES = True"
   ]
  },
  {
   "cell_type": "markdown",
   "metadata": {},
   "source": [
    "## 1.3. Ejecuta el notebook\n",
    "\n",
    "En este punto, el notebook está lista para ejecutarse. Puede ejecutar las celdas una a la vez o hacer clic en la opción **Kernel** anterior y seleccionar **Reiniciar y ejecutar todo** para ejecutar todas las celdas."
   ]
  },
  {
   "cell_type": "markdown",
   "metadata": {},
   "source": [
    "# 2. Construcción del modelo y despliegue <a name=\"model\"></a>"
   ]
  },
  {
   "cell_type": "markdown",
   "metadata": {},
   "source": [
    "En esta sección aprenderás cómo entrenar el modelo Scikit-learn y luego implementarlo como servicio web utilizando el servicio Watson Machine Learning."
   ]
  },
  {
   "cell_type": "markdown",
   "metadata": {},
   "source": [
    "## 2.1. Cargando los datos desde github"
   ]
  },
  {
   "cell_type": "code",
   "execution_count": 4,
   "metadata": {
    "scrolled": true
   },
   "outputs": [
    {
     "name": "stdout",
     "output_type": "stream",
     "text": [
      "rm: cannot remove ‘german_credit_data_biased_training.csv’: No such file or directory\n",
      "--2020-04-01 09:43:01--  https://raw.githubusercontent.com/pmservice/ai-openscale-tutorials/master/assets/historical_data/german_credit_risk/wml/german_credit_data_biased_training.csv\n",
      "Resolving raw.githubusercontent.com (raw.githubusercontent.com)... 151.101.48.133\n",
      "Connecting to raw.githubusercontent.com (raw.githubusercontent.com)|151.101.48.133|:443... connected.\n",
      "HTTP request sent, awaiting response... 200 OK\n",
      "Length: 689622 (673K) [text/plain]\n",
      "Saving to: ‘german_credit_data_biased_training.csv’\n",
      "\n",
      "100%[======================================>] 689,622     --.-K/s   in 0.03s   \n",
      "\n",
      "2020-04-01 09:43:02 (21.2 MB/s) - ‘german_credit_data_biased_training.csv’ saved [689622/689622]\n",
      "\n"
     ]
    }
   ],
   "source": [
    "!rm german_credit_data_biased_training.csv\n",
    "!wget https://raw.githubusercontent.com/pmservice/ai-openscale-tutorials/master/assets/historical_data/german_credit_risk/wml/german_credit_data_biased_training.csv"
   ]
  },
  {
   "cell_type": "code",
   "execution_count": 5,
   "metadata": {
    "scrolled": true
   },
   "outputs": [],
   "source": [
    "import numpy as np\n",
    "import pandas as pd\n",
    "\n",
    "data_df = pd.read_csv('german_credit_data_biased_training.csv')"
   ]
  },
  {
   "cell_type": "markdown",
   "metadata": {},
   "source": [
    "## 2.2. Exploración de los datos"
   ]
  },
  {
   "cell_type": "code",
   "execution_count": 11,
   "metadata": {},
   "outputs": [
    {
     "data": {
      "text/html": [
       "<div>\n",
       "<style scoped>\n",
       "    .dataframe tbody tr th:only-of-type {\n",
       "        vertical-align: middle;\n",
       "    }\n",
       "\n",
       "    .dataframe tbody tr th {\n",
       "        vertical-align: top;\n",
       "    }\n",
       "\n",
       "    .dataframe thead th {\n",
       "        text-align: right;\n",
       "    }\n",
       "</style>\n",
       "<table border=\"1\" class=\"dataframe\">\n",
       "  <thead>\n",
       "    <tr style=\"text-align: right;\">\n",
       "      <th></th>\n",
       "      <th>CheckingStatus</th>\n",
       "      <th>LoanDuration</th>\n",
       "      <th>CreditHistory</th>\n",
       "      <th>LoanPurpose</th>\n",
       "      <th>LoanAmount</th>\n",
       "      <th>ExistingSavings</th>\n",
       "      <th>EmploymentDuration</th>\n",
       "      <th>InstallmentPercent</th>\n",
       "      <th>Sex</th>\n",
       "      <th>OthersOnLoan</th>\n",
       "      <th>...</th>\n",
       "      <th>OwnsProperty</th>\n",
       "      <th>Age</th>\n",
       "      <th>InstallmentPlans</th>\n",
       "      <th>Housing</th>\n",
       "      <th>ExistingCreditsCount</th>\n",
       "      <th>Job</th>\n",
       "      <th>Dependents</th>\n",
       "      <th>Telephone</th>\n",
       "      <th>ForeignWorker</th>\n",
       "      <th>Risk</th>\n",
       "    </tr>\n",
       "  </thead>\n",
       "  <tbody>\n",
       "    <tr>\n",
       "      <th>0</th>\n",
       "      <td>0_to_200</td>\n",
       "      <td>31</td>\n",
       "      <td>credits_paid_to_date</td>\n",
       "      <td>other</td>\n",
       "      <td>1889</td>\n",
       "      <td>100_to_500</td>\n",
       "      <td>less_1</td>\n",
       "      <td>3</td>\n",
       "      <td>female</td>\n",
       "      <td>none</td>\n",
       "      <td>...</td>\n",
       "      <td>savings_insurance</td>\n",
       "      <td>32</td>\n",
       "      <td>none</td>\n",
       "      <td>own</td>\n",
       "      <td>1</td>\n",
       "      <td>skilled</td>\n",
       "      <td>1</td>\n",
       "      <td>none</td>\n",
       "      <td>yes</td>\n",
       "      <td>No Risk</td>\n",
       "    </tr>\n",
       "    <tr>\n",
       "      <th>1</th>\n",
       "      <td>less_0</td>\n",
       "      <td>18</td>\n",
       "      <td>credits_paid_to_date</td>\n",
       "      <td>car_new</td>\n",
       "      <td>462</td>\n",
       "      <td>less_100</td>\n",
       "      <td>1_to_4</td>\n",
       "      <td>2</td>\n",
       "      <td>female</td>\n",
       "      <td>none</td>\n",
       "      <td>...</td>\n",
       "      <td>savings_insurance</td>\n",
       "      <td>37</td>\n",
       "      <td>stores</td>\n",
       "      <td>own</td>\n",
       "      <td>2</td>\n",
       "      <td>skilled</td>\n",
       "      <td>1</td>\n",
       "      <td>none</td>\n",
       "      <td>yes</td>\n",
       "      <td>No Risk</td>\n",
       "    </tr>\n",
       "    <tr>\n",
       "      <th>2</th>\n",
       "      <td>less_0</td>\n",
       "      <td>15</td>\n",
       "      <td>prior_payments_delayed</td>\n",
       "      <td>furniture</td>\n",
       "      <td>250</td>\n",
       "      <td>less_100</td>\n",
       "      <td>1_to_4</td>\n",
       "      <td>2</td>\n",
       "      <td>male</td>\n",
       "      <td>none</td>\n",
       "      <td>...</td>\n",
       "      <td>real_estate</td>\n",
       "      <td>28</td>\n",
       "      <td>none</td>\n",
       "      <td>own</td>\n",
       "      <td>2</td>\n",
       "      <td>skilled</td>\n",
       "      <td>1</td>\n",
       "      <td>yes</td>\n",
       "      <td>no</td>\n",
       "      <td>No Risk</td>\n",
       "    </tr>\n",
       "    <tr>\n",
       "      <th>3</th>\n",
       "      <td>0_to_200</td>\n",
       "      <td>28</td>\n",
       "      <td>credits_paid_to_date</td>\n",
       "      <td>retraining</td>\n",
       "      <td>3693</td>\n",
       "      <td>less_100</td>\n",
       "      <td>greater_7</td>\n",
       "      <td>3</td>\n",
       "      <td>male</td>\n",
       "      <td>none</td>\n",
       "      <td>...</td>\n",
       "      <td>savings_insurance</td>\n",
       "      <td>32</td>\n",
       "      <td>none</td>\n",
       "      <td>own</td>\n",
       "      <td>1</td>\n",
       "      <td>skilled</td>\n",
       "      <td>1</td>\n",
       "      <td>none</td>\n",
       "      <td>yes</td>\n",
       "      <td>No Risk</td>\n",
       "    </tr>\n",
       "    <tr>\n",
       "      <th>4</th>\n",
       "      <td>no_checking</td>\n",
       "      <td>28</td>\n",
       "      <td>prior_payments_delayed</td>\n",
       "      <td>education</td>\n",
       "      <td>6235</td>\n",
       "      <td>500_to_1000</td>\n",
       "      <td>greater_7</td>\n",
       "      <td>3</td>\n",
       "      <td>male</td>\n",
       "      <td>none</td>\n",
       "      <td>...</td>\n",
       "      <td>unknown</td>\n",
       "      <td>57</td>\n",
       "      <td>none</td>\n",
       "      <td>own</td>\n",
       "      <td>2</td>\n",
       "      <td>skilled</td>\n",
       "      <td>1</td>\n",
       "      <td>none</td>\n",
       "      <td>yes</td>\n",
       "      <td>Risk</td>\n",
       "    </tr>\n",
       "  </tbody>\n",
       "</table>\n",
       "<p>5 rows × 21 columns</p>\n",
       "</div>"
      ],
      "text/plain": [
       "  CheckingStatus  LoanDuration           CreditHistory LoanPurpose  \\\n",
       "0       0_to_200            31    credits_paid_to_date       other   \n",
       "1         less_0            18    credits_paid_to_date     car_new   \n",
       "2         less_0            15  prior_payments_delayed   furniture   \n",
       "3       0_to_200            28    credits_paid_to_date  retraining   \n",
       "4    no_checking            28  prior_payments_delayed   education   \n",
       "\n",
       "   LoanAmount ExistingSavings EmploymentDuration  InstallmentPercent     Sex  \\\n",
       "0        1889      100_to_500             less_1                   3  female   \n",
       "1         462        less_100             1_to_4                   2  female   \n",
       "2         250        less_100             1_to_4                   2    male   \n",
       "3        3693        less_100          greater_7                   3    male   \n",
       "4        6235     500_to_1000          greater_7                   3    male   \n",
       "\n",
       "  OthersOnLoan  ...       OwnsProperty Age  InstallmentPlans Housing  \\\n",
       "0         none  ...  savings_insurance  32              none     own   \n",
       "1         none  ...  savings_insurance  37            stores     own   \n",
       "2         none  ...        real_estate  28              none     own   \n",
       "3         none  ...  savings_insurance  32              none     own   \n",
       "4         none  ...            unknown  57              none     own   \n",
       "\n",
       "  ExistingCreditsCount      Job Dependents  Telephone ForeignWorker     Risk  \n",
       "0                    1  skilled          1       none           yes  No Risk  \n",
       "1                    2  skilled          1       none           yes  No Risk  \n",
       "2                    2  skilled          1        yes            no  No Risk  \n",
       "3                    1  skilled          1       none           yes  No Risk  \n",
       "4                    2  skilled          1       none           yes     Risk  \n",
       "\n",
       "[5 rows x 21 columns]"
      ]
     },
     "execution_count": 11,
     "metadata": {},
     "output_type": "execute_result"
    }
   ],
   "source": [
    "data_df.head()"
   ]
  },
  {
   "cell_type": "code",
   "execution_count": 9,
   "metadata": {
    "scrolled": true
   },
   "outputs": [
    {
     "name": "stdout",
     "output_type": "stream",
     "text": [
      "Columnas:  ['CheckingStatus', 'LoanDuration', 'CreditHistory', 'LoanPurpose', 'LoanAmount', 'ExistingSavings', 'EmploymentDuration', 'InstallmentPercent', 'Sex', 'OthersOnLoan', 'CurrentResidenceDuration', 'OwnsProperty', 'Age', 'InstallmentPlans', 'Housing', 'ExistingCreditsCount', 'Job', 'Dependents', 'Telephone', 'ForeignWorker', 'Risk']\n",
      "Número de columnas:  21\n"
     ]
    }
   ],
   "source": [
    "print('Columnas: ', list(data_df.columns))\n",
    "print('Número de columnas: ', len(data_df.columns))"
   ]
  },
  {
   "cell_type": "markdown",
   "metadata": {},
   "source": [
    "Como puedes ver, los datos contienen 21 campos. El campo `Riesgo` es el que nos gustaría predecir (TARGET) utilizando los datos de feedback."
   ]
  },
  {
   "cell_type": "code",
   "execution_count": 10,
   "metadata": {
    "scrolled": true
   },
   "outputs": [
    {
     "name": "stdout",
     "output_type": "stream",
     "text": [
      "Número de registros:  5000\n"
     ]
    }
   ],
   "source": [
    "print('Número de registros: ', data_df.Risk.count())"
   ]
  },
  {
   "cell_type": "code",
   "execution_count": 11,
   "metadata": {},
   "outputs": [
    {
     "data": {
      "text/plain": [
       "Risk\n",
       "No Risk    3330\n",
       "Risk       1670\n",
       "Name: Risk, dtype: int64"
      ]
     },
     "execution_count": 11,
     "metadata": {},
     "output_type": "execute_result"
    }
   ],
   "source": [
    "target_count = data_df.groupby('Risk')['Risk'].count()\n",
    "target_count"
   ]
  },
  {
   "cell_type": "markdown",
   "metadata": {},
   "source": [
    "## 2.3. Creación del modelo\n",
    "\n",
    "En esta sección vamos a llevar a cabo los siguientes pasos:\n",
    "\n",
    "- Preparar datos para entrenar el modelo\n",
    "- Creación de la pipeline de machine learning\n",
    "- Entrenamiento del modelo"
   ]
  },
  {
   "cell_type": "code",
   "execution_count": 16,
   "metadata": {},
   "outputs": [],
   "source": [
    "MODEL_NAME = \"Scikit German Risk Model\"\n",
    "DEPLOYMENT_NAME = \"Scikit German Risk Deployment\""
   ]
  },
  {
   "cell_type": "markdown",
   "metadata": {},
   "source": [
    "### Importamos las librerías necesarias"
   ]
  },
  {
   "cell_type": "code",
   "execution_count": 17,
   "metadata": {
    "scrolled": true
   },
   "outputs": [],
   "source": [
    "from sklearn.linear_model import SGDClassifier\n",
    "from sklearn.preprocessing import LabelEncoder, OneHotEncoder\n",
    "from sklearn.decomposition import TruncatedSVD\n",
    "from sklearn.compose import ColumnTransformer\n",
    "from sklearn.pipeline import Pipeline\n",
    "from sklearn.model_selection import train_test_split"
   ]
  },
  {
   "cell_type": "markdown",
   "metadata": {},
   "source": [
    "### Dividimos el dataset en entrenamiento y test"
   ]
  },
  {
   "cell_type": "code",
   "execution_count": 18,
   "metadata": {},
   "outputs": [],
   "source": [
    "train_data, test_data = train_test_split(data_df, test_size=0.2)"
   ]
  },
  {
   "cell_type": "markdown",
   "metadata": {},
   "source": [
    "### Preparamos la pipeline"
   ]
  },
  {
   "cell_type": "code",
   "execution_count": 19,
   "metadata": {},
   "outputs": [],
   "source": [
    "features_idx = np.s_[0:-1]\n",
    "all_records_idx = np.s_[:]\n",
    "first_record_idx = np.s_[0]"
   ]
  },
  {
   "cell_type": "markdown",
   "metadata": {},
   "source": [
    "En este paso codificará las etiquetas de las columnas de destino en valores numéricos. Puede usar `inverse_transform` para decodificar predicciones numéricas en etiquetas."
   ]
  },
  {
   "cell_type": "code",
   "execution_count": 20,
   "metadata": {},
   "outputs": [],
   "source": [
    "string_fields = [type(fld) is str for fld in train_data.iloc[first_record_idx, features_idx]]\n",
    "ct = ColumnTransformer([(\"ohe\", OneHotEncoder(), list(np.array(train_data.columns)[features_idx][string_fields]))])\n",
    "clf_linear = SGDClassifier(loss='log', penalty='l2', max_iter=1000, tol=1e-5)\n",
    "\n",
    "pipeline_linear = Pipeline([('ct', ct), ('clf_linear', clf_linear)])"
   ]
  },
  {
   "cell_type": "markdown",
   "metadata": {},
   "source": [
    "### Entrenamos al modelo"
   ]
  },
  {
   "cell_type": "code",
   "execution_count": 21,
   "metadata": {},
   "outputs": [],
   "source": [
    "risk_model = pipeline_linear.fit(train_data.drop('Risk', axis=1), train_data.Risk)"
   ]
  },
  {
   "cell_type": "markdown",
   "metadata": {},
   "source": [
    "### Evaluamos el modelo"
   ]
  },
  {
   "cell_type": "code",
   "execution_count": 22,
   "metadata": {},
   "outputs": [
    {
     "name": "stdout",
     "output_type": "stream",
     "text": [
      "0.7480856491358466\n"
     ]
    }
   ],
   "source": [
    "from sklearn.metrics import roc_auc_score\n",
    "\n",
    "predictions = risk_model.predict(test_data.drop('Risk', axis=1))\n",
    "indexed_preds = [0 if prediction=='No Risk' else 1 for prediction in predictions]\n",
    "\n",
    "real_observations = test_data.Risk.replace('Risk', 1)\n",
    "real_observations = real_observations.replace('No Risk', 0).values\n",
    "\n",
    "auc = roc_auc_score(real_observations, indexed_preds)\n",
    "print(auc)"
   ]
  },
  {
   "cell_type": "markdown",
   "metadata": {},
   "source": [
    "## 2.4 Publicamos el modelo"
   ]
  },
  {
   "cell_type": "markdown",
   "metadata": {},
   "source": [
    "En esta sección, el notebook utiliza las credenciales de Watson Machine Learning proporcionadas para guardar el modelo (incluida la pipeline) en la instancia de WML. Las versiones anteriores del modelo se eliminan para que el notebook se pueda volver a ejecutar, restableciendo todos los datos para otra demostración."
   ]
  },
  {
   "cell_type": "code",
   "execution_count": 23,
   "metadata": {
    "scrolled": true
   },
   "outputs": [],
   "source": [
    "from watson_machine_learning_client import WatsonMachineLearningAPIClient\n",
    "import json\n",
    "\n",
    "wml_client = WatsonMachineLearningAPIClient(WML_CREDENTIALS)"
   ]
  },
  {
   "cell_type": "markdown",
   "metadata": {},
   "source": [
    "### Eliminamos el despliegue anterior si existe y persistimos el nuevo"
   ]
  },
  {
   "cell_type": "code",
   "execution_count": 23,
   "metadata": {
    "scrolled": true
   },
   "outputs": [
    {
     "ename": "NameError",
     "evalue": "name 'wml_client' is not defined",
     "output_type": "error",
     "traceback": [
      "\u001b[0;31m---------------------------------------------------------------------------\u001b[0m",
      "\u001b[0;31mNameError\u001b[0m                                 Traceback (most recent call last)",
      "\u001b[0;32m<ipython-input-23-58a762c7cd07>\u001b[0m in \u001b[0;36m<module>\u001b[0;34m\u001b[0m\n\u001b[0;32m----> 1\u001b[0;31m \u001b[0mmodel_deployment_ids\u001b[0m \u001b[0;34m=\u001b[0m \u001b[0mwml_client\u001b[0m\u001b[0;34m.\u001b[0m\u001b[0mdeployments\u001b[0m\u001b[0;34m.\u001b[0m\u001b[0mget_uids\u001b[0m\u001b[0;34m(\u001b[0m\u001b[0;34m)\u001b[0m\u001b[0;34m\u001b[0m\u001b[0;34m\u001b[0m\u001b[0m\n\u001b[0m\u001b[1;32m      2\u001b[0m \u001b[0;32mfor\u001b[0m \u001b[0mdeployment_id\u001b[0m \u001b[0;32min\u001b[0m \u001b[0mmodel_deployment_ids\u001b[0m\u001b[0;34m:\u001b[0m\u001b[0;34m\u001b[0m\u001b[0;34m\u001b[0m\u001b[0m\n\u001b[1;32m      3\u001b[0m     \u001b[0mdeployment\u001b[0m \u001b[0;34m=\u001b[0m \u001b[0mwml_client\u001b[0m\u001b[0;34m.\u001b[0m\u001b[0mdeployments\u001b[0m\u001b[0;34m.\u001b[0m\u001b[0mget_details\u001b[0m\u001b[0;34m(\u001b[0m\u001b[0mdeployment_id\u001b[0m\u001b[0;34m)\u001b[0m\u001b[0;34m\u001b[0m\u001b[0;34m\u001b[0m\u001b[0m\n\u001b[1;32m      4\u001b[0m     \u001b[0mmodel_id\u001b[0m \u001b[0;34m=\u001b[0m \u001b[0mdeployment\u001b[0m\u001b[0;34m[\u001b[0m\u001b[0;34m'entity'\u001b[0m\u001b[0;34m]\u001b[0m\u001b[0;34m[\u001b[0m\u001b[0;34m'deployable_asset'\u001b[0m\u001b[0;34m]\u001b[0m\u001b[0;34m[\u001b[0m\u001b[0;34m'guid'\u001b[0m\u001b[0;34m]\u001b[0m\u001b[0;34m\u001b[0m\u001b[0;34m\u001b[0m\u001b[0m\n\u001b[1;32m      5\u001b[0m     \u001b[0;32mif\u001b[0m \u001b[0mdeployment\u001b[0m\u001b[0;34m[\u001b[0m\u001b[0;34m'entity'\u001b[0m\u001b[0;34m]\u001b[0m\u001b[0;34m[\u001b[0m\u001b[0;34m'name'\u001b[0m\u001b[0;34m]\u001b[0m \u001b[0;34m==\u001b[0m \u001b[0mDEPLOYMENT_NAME\u001b[0m\u001b[0;34m:\u001b[0m\u001b[0;34m\u001b[0m\u001b[0;34m\u001b[0m\u001b[0m\n",
      "\u001b[0;31mNameError\u001b[0m: name 'wml_client' is not defined"
     ]
    }
   ],
   "source": [
    "model_deployment_ids = wml_client.deployments.get_uids()\n",
    "for deployment_id in model_deployment_ids:\n",
    "    deployment = wml_client.deployments.get_details(deployment_id)\n",
    "    model_id = deployment['entity']['deployable_asset']['guid']\n",
    "    if deployment['entity']['name'] == DEPLOYMENT_NAME:\n",
    "        print('Deleting deployment id', deployment_id)\n",
    "        wml_client.deployments.delete(deployment_id)\n",
    "        print('Deleting model id', model_id)\n",
    "        wml_client.repository.delete(model_id)\n",
    "wml_client.repository.list_models()"
   ]
  },
  {
   "cell_type": "code",
   "execution_count": 25,
   "metadata": {
    "scrolled": true
   },
   "outputs": [],
   "source": [
    "model_props = {\n",
    "    wml_client.repository.ModelMetaNames.NAME: \"{}\".format(MODEL_NAME),\n",
    "    wml_client.repository.ModelMetaNames.EVALUATION_METHOD: \"binary\",\n",
    "    wml_client.repository.ModelMetaNames.EVALUATION_METRICS: [\n",
    "        {\n",
    "           \"name\": \"areaUnderROC\",\n",
    "           \"value\": auc,\n",
    "           \"threshold\": 0.7\n",
    "        }\n",
    "    ]\n",
    "}"
   ]
  },
  {
   "cell_type": "code",
   "execution_count": 26,
   "metadata": {
    "scrolled": true
   },
   "outputs": [
    {
     "name": "stdout",
     "output_type": "stream",
     "text": [
      "Storing model ...\n",
      "Done\n"
     ]
    }
   ],
   "source": [
    "wml_models = wml_client.repository.get_details()\n",
    "model_uid = None\n",
    "for model_in in wml_models['models']['resources']:\n",
    "    if MODEL_NAME == model_in['entity']['name']:\n",
    "        model_uid = model_in['metadata']['guid']\n",
    "        break\n",
    "\n",
    "if model_uid is None:\n",
    "    print(\"Storing model ...\")\n",
    "\n",
    "    published_model_details = wml_client.repository.store_model(model=risk_model, meta_props=model_props, training_data=data_df.drop(['Risk'], axis=1), training_target=data_df.Risk)\n",
    "    model_uid = wml_client.repository.get_model_uid(published_model_details)\n",
    "    print(\"Done\")"
   ]
  },
  {
   "cell_type": "code",
   "execution_count": 27,
   "metadata": {
    "scrolled": true
   },
   "outputs": [
    {
     "data": {
      "text/plain": [
       "'4034d109-a06d-4919-8bd2-01658aea8792'"
      ]
     },
     "execution_count": 27,
     "metadata": {},
     "output_type": "execute_result"
    }
   ],
   "source": [
    "model_uid"
   ]
  },
  {
   "cell_type": "markdown",
   "metadata": {},
   "source": [
    "## 2.5. Desplegamos el modelo"
   ]
  },
  {
   "cell_type": "markdown",
   "metadata": {},
   "source": [
    "La siguiente sección del notebook implementa el modelo como un servicio web RESTful en Watson Machine Learning. El modelo implementado tendrá una URL de puntuación que puede usar para enviar datos al modelo para predicciones."
   ]
  },
  {
   "cell_type": "code",
   "execution_count": 29,
   "metadata": {
    "scrolled": true
   },
   "outputs": [
    {
     "name": "stdout",
     "output_type": "stream",
     "text": [
      "Deploying model...\n",
      "\n",
      "\n",
      "#######################################################################################\n",
      "\n",
      "Synchronous deployment creation for uid: '4034d109-a06d-4919-8bd2-01658aea8792' started\n",
      "\n",
      "#######################################################################################\n",
      "\n",
      "\n",
      "INITIALIZING\n",
      "DEPLOY_SUCCESS\n",
      "\n",
      "\n",
      "------------------------------------------------------------------------------------------------\n",
      "Successfully finished deployment creation, deployment_uid='9c73141e-6197-4e29-ac94-794554f76477'\n",
      "------------------------------------------------------------------------------------------------\n",
      "\n",
      "\n",
      "Model id: 4034d109-a06d-4919-8bd2-01658aea8792\n",
      "Deployment id: 9c73141e-6197-4e29-ac94-794554f76477\n"
     ]
    }
   ],
   "source": [
    "wml_deployments = wml_client.deployments.get_details()\n",
    "deployment_uid = None\n",
    "for deployment in wml_deployments['resources']:\n",
    "    if DEPLOYMENT_NAME == deployment['entity']['name']:\n",
    "        deployment_uid = deployment['metadata']['guid']\n",
    "        break\n",
    "\n",
    "if deployment_uid is None:\n",
    "    print(\"Deploying model...\")\n",
    "\n",
    "    deployment = wml_client.deployments.create(artifact_uid=model_uid, name=DEPLOYMENT_NAME, asynchronous=False)\n",
    "    deployment_uid = wml_client.deployments.get_uid(deployment)\n",
    "    \n",
    "print(\"Model id: {}\".format(model_uid))\n",
    "print(\"Deployment id: {}\".format(deployment_uid))"
   ]
  },
  {
   "cell_type": "markdown",
   "metadata": {},
   "source": [
    "## 2.5. Scoring del  modelo"
   ]
  },
  {
   "cell_type": "code",
   "execution_count": 30,
   "metadata": {},
   "outputs": [],
   "source": [
    "fields = [\"CheckingStatus\", \"LoanDuration\", \"CreditHistory\", \"LoanPurpose\", \"LoanAmount\", \"ExistingSavings\",\n",
    "                  \"EmploymentDuration\", \"InstallmentPercent\", \"Sex\", \"OthersOnLoan\", \"CurrentResidenceDuration\",\n",
    "                  \"OwnsProperty\", \"Age\", \"InstallmentPlans\", \"Housing\", \"ExistingCreditsCount\", \"Job\", \"Dependents\",\n",
    "                  \"Telephone\", \"ForeignWorker\"]\n",
    "values = [\n",
    "            [\"no_checking\", 13, \"credits_paid_to_date\", \"car_new\", 1343, \"100_to_500\", \"1_to_4\", 2, \"female\", \"none\", 3,\n",
    "             \"savings_insurance\", 46, \"none\", \"own\", 2, \"skilled\", 1, \"none\", \"yes\"],\n",
    "            [\"no_checking\", 24, \"prior_payments_delayed\", \"furniture\", 4567, \"500_to_1000\", \"1_to_4\", 4, \"male\", \"none\",\n",
    "             4, \"savings_insurance\", 36, \"none\", \"free\", 2, \"management_self-employed\", 1, \"none\", \"yes\"],\n",
    "        ]\n",
    "\n",
    "scoring_payload = {\"fields\": fields, \"values\": values}"
   ]
  },
  {
   "cell_type": "code",
   "execution_count": 31,
   "metadata": {},
   "outputs": [
    {
     "data": {
      "text/plain": [
       "{'fields': ['prediction', 'probability'],\n",
       " 'values': [['No Risk', [0.685076399597548, 0.31492360040245204]],\n",
       "  ['No Risk', [0.8071615490213502, 0.19283845097864982]]]}"
      ]
     },
     "execution_count": 31,
     "metadata": {},
     "output_type": "execute_result"
    }
   ],
   "source": [
    "scoring_url = wml_client.deployments.get_scoring_url(deployment)\n",
    "\n",
    "wml_client.deployments.score(scoring_url, scoring_payload)"
   ]
  },
  {
   "cell_type": "markdown",
   "metadata": {},
   "source": [
    "# 3. Configurar OpenScale <a name=\"openscale\"></a>"
   ]
  },
  {
   "cell_type": "markdown",
   "metadata": {},
   "source": [
    "Este notebook ahora importará las bibliotecas necesarias y configurará un cliente Python OpenScale."
   ]
  },
  {
   "cell_type": "code",
   "execution_count": 24,
   "metadata": {
    "scrolled": true
   },
   "outputs": [],
   "source": [
    "from ibm_ai_openscale import APIClient\n",
    "from ibm_ai_openscale.engines import *\n",
    "from ibm_ai_openscale.utils import *\n",
    "from ibm_ai_openscale.supporting_classes import PayloadRecord, Feature\n",
    "from ibm_ai_openscale.supporting_classes.enums import *"
   ]
  },
  {
   "cell_type": "markdown",
   "metadata": {},
   "source": [
    "### Obtén Watson OpenScale GUID"
   ]
  },
  {
   "cell_type": "markdown",
   "metadata": {},
   "source": [
    "Cada instancia de OpenScale tiene un ID único. Podemos obtener este valor utilizando el Cloud API key que hemos específicado al inicio del notebook."
   ]
  },
  {
   "cell_type": "code",
   "execution_count": 33,
   "metadata": {},
   "outputs": [
    {
     "name": "stdout",
     "output_type": "stream",
     "text": [
      "27d2155a-b202-44ac-955e-ee20b64f6c89\n"
     ]
    }
   ],
   "source": [
    "import requests\n",
    "from ibm_ai_openscale.utils import get_instance_guid\n",
    "\n",
    "\n",
    "WOS_GUID = get_instance_guid(api_key=CLOUD_API_KEY)\n",
    "WOS_CREDENTIALS = {\n",
    "    \"instance_guid\": WOS_GUID,\n",
    "    \"apikey\": CLOUD_API_KEY,\n",
    "    \"url\": \"https://api.aiopenscale.cloud.ibm.com\"\n",
    "}\n",
    "\n",
    "if WOS_GUID is None:\n",
    "    print('Watson OpenScale GUID NOT FOUND')\n",
    "else:\n",
    "    print(WOS_GUID)"
   ]
  },
  {
   "cell_type": "code",
   "execution_count": 34,
   "metadata": {
    "scrolled": true
   },
   "outputs": [
    {
     "data": {
      "text/plain": [
       "'2.1.21'"
      ]
     },
     "execution_count": 34,
     "metadata": {},
     "output_type": "execute_result"
    }
   ],
   "source": [
    "ai_client = APIClient(aios_credentials=WOS_CREDENTIALS)\n",
    "ai_client.version"
   ]
  },
  {
   "cell_type": "markdown",
   "metadata": {},
   "source": [
    "## 3.1. Creación del schema y datamart"
   ]
  },
  {
   "cell_type": "markdown",
   "metadata": {},
   "source": [
    "### Configuración del datamart"
   ]
  },
  {
   "cell_type": "markdown",
   "metadata": {},
   "source": [
    "Watson OpenScale utiliza una base de datos para almacenar registros de carga útil y métricas calculadas. Si las credenciales de la base de datos **no** se suministraron anteriormente, el notebook utilizará la base de datos interna gratuita \n",
    "\n",
    "Las instancias anteriores del modelo de crédito alemán se eliminarán de la supervisión de OpenScale."
   ]
  },
  {
   "cell_type": "code",
   "execution_count": 35,
   "metadata": {},
   "outputs": [
    {
     "name": "stdout",
     "output_type": "stream",
     "text": [
      "Using existing external datamart\n"
     ]
    }
   ],
   "source": [
    "try:\n",
    "    data_mart_details = ai_client.data_mart.get_details()\n",
    "    if 'internal_database' in data_mart_details and data_mart_details['internal_database']:\n",
    "        if KEEP_MY_INTERNAL_POSTGRES:\n",
    "            print('Using existing internal datamart.')\n",
    "        else:\n",
    "            if DB_CREDENTIALS is None:\n",
    "                print('No postgres credentials supplied. Using existing internal datamart')\n",
    "            else:\n",
    "                print('Switching to external datamart')\n",
    "                ai_client.data_mart.delete(force=True)\n",
    "                ai_client.data_mart.setup(db_credentials=DB_CREDENTIALS)\n",
    "    else:\n",
    "        print('Using existing external datamart')\n",
    "except:\n",
    "    if DB_CREDENTIALS is None:\n",
    "        print('Setting up internal datamart')\n",
    "        ai_client.data_mart.setup(internal_db=True)\n",
    "    else:\n",
    "        print('Setting up external datamart')\n",
    "        try:\n",
    "            ai_client.data_mart.setup(db_credentials=DB_CREDENTIALS)\n",
    "        except:\n",
    "            print('Setup failed, trying Db2 setup')\n",
    "            ai_client.data_mart.setup(db_credentials=DB_CREDENTIALS, schema=DB_CREDENTIALS['username'])\n",
    "    "
   ]
  },
  {
   "cell_type": "code",
   "execution_count": 36,
   "metadata": {
    "scrolled": true
   },
   "outputs": [],
   "source": [
    "data_mart_details = ai_client.data_mart.get_details()"
   ]
  },
  {
   "cell_type": "markdown",
   "metadata": {},
   "source": [
    "## 3.2. Configuración del engine de machine learning"
   ]
  },
  {
   "cell_type": "markdown",
   "metadata": {},
   "source": [
    "Watson OpenScale debe estar vinculado a la instancia de Watson Machine Learning para capturar datos de carga útil dentro y fuera del modelo. Si este enlace ya existe, este código generará un mensaje de advertencia y usará el enlace existente."
   ]
  },
  {
   "cell_type": "code",
   "execution_count": 37,
   "metadata": {
    "scrolled": false
   },
   "outputs": [
    {
     "name": "stdout",
     "output_type": "stream",
     "text": [
      "Warning during bind instance.\n",
      "Status code: 409, body: {\"errors\":[{\"code\":\"AIQCS0010W\",\"message\":\"Service Binding with this id is already defined\"}],\"trace\":\"MmM0YTlkYjctYWMwYy00MjZhLTliOTAtNzVmMzU4YzlhMzZi\"}\n"
     ]
    },
    {
     "data": {
      "text/html": [
       "<HTML>\n",
       "        <body>\n",
       "            <h3>Service bindings</h3>\n",
       "            <table style='border: 1px solid #dddddd; font-family: Courier'>\n",
       "                <th style='border: 1px solid #dddddd'>uid</th><th style='border: 1px solid #dddddd'>name</th><th style='border: 1px solid #dddddd'>service_type</th><th style='border: 1px solid #dddddd'>created</th>\n",
       "                <tr><td style='border: 1px solid #dddddd'>e2cde82b-8a94-4d97-9d46-2288dd99c3af</td><td style='border: 1px solid #dddddd'>WML instance</td><td style='border: 1px solid #dddddd'>watson_machine_learning</td><td style='border: 1px solid #dddddd'>2020-01-28T10:59:02.645Z</td></tr>\n",
       "            </table>\n",
       "        </body>\n",
       "        </HTML>"
      ],
      "text/plain": [
       "<IPython.core.display.HTML object>"
      ]
     },
     "metadata": {},
     "output_type": "display_data"
    }
   ],
   "source": [
    "binding_uid = ai_client.data_mart.bindings.add('WML instance', WatsonMachineLearningInstance(WML_CREDENTIALS))\n",
    "if binding_uid is None:\n",
    "    binding_uid = ai_client.data_mart.bindings.get_details()['service_bindings'][0]['metadata']['guid']\n",
    "bindings_details = ai_client.data_mart.bindings.get_details()\n",
    "ai_client.data_mart.bindings.list()"
   ]
  },
  {
   "cell_type": "code",
   "execution_count": 38,
   "metadata": {
    "scrolled": true
   },
   "outputs": [
    {
     "name": "stdout",
     "output_type": "stream",
     "text": [
      "e2cde82b-8a94-4d97-9d46-2288dd99c3af\n"
     ]
    }
   ],
   "source": [
    "print(binding_uid)"
   ]
  },
  {
   "cell_type": "code",
   "execution_count": 39,
   "metadata": {
    "scrolled": false
   },
   "outputs": [
    {
     "data": {
      "text/html": [
       "<HTML>\n",
       "        <body>\n",
       "            <h3>Available assets</h3>\n",
       "            <table style='border: 1px solid #dddddd; font-family: Courier'>\n",
       "                <th style='border: 1px solid #dddddd'>source_uid</th><th style='border: 1px solid #dddddd'>name</th><th style='border: 1px solid #dddddd'>created</th><th style='border: 1px solid #dddddd'>type</th><th style='border: 1px solid #dddddd'>frameworks</th><th style='border: 1px solid #dddddd'>binding_uid</th><th style='border: 1px solid #dddddd'>is_subscribed</th>\n",
       "                <tr><td style='border: 1px solid #dddddd'>4034d109-a06d-4919-8bd2-01658aea8792</td><td style='border: 1px solid #dddddd'>Scikit German Risk Model</td><td style='border: 1px solid #dddddd'>2020-01-31T13:20:11.978Z</td><td style='border: 1px solid #dddddd'>model</td><td style='border: 1px solid #dddddd'>scikit-learn-0.20</td><td style='border: 1px solid #dddddd'>e2cde82b-8a94-4d97-9d46-2288dd99c3af</td><td style='border: 1px solid #dddddd'>False</td></tr>\n",
       "            </table>\n",
       "        </body>\n",
       "        </HTML>"
      ],
      "text/plain": [
       "<IPython.core.display.HTML object>"
      ]
     },
     "metadata": {},
     "output_type": "display_data"
    }
   ],
   "source": [
    "ai_client.data_mart.bindings.list_assets()"
   ]
  },
  {
   "cell_type": "markdown",
   "metadata": {},
   "source": [
    "## 3.3. Suscripciones"
   ]
  },
  {
   "cell_type": "markdown",
   "metadata": {},
   "source": [
    "### Eliminar suscripciones existentes del modelo de riesgo"
   ]
  },
  {
   "cell_type": "markdown",
   "metadata": {},
   "source": [
    "Este código elimina las suscripciones anteriores al modelo de crédito alemán para actualizar los monitores con el nuevo modelo y los nuevos datos"
   ]
  },
  {
   "cell_type": "code",
   "execution_count": 40,
   "metadata": {
    "scrolled": true
   },
   "outputs": [
    {
     "name": "stdout",
     "output_type": "stream",
     "text": [
      "Deleted existing subscription for Scikit German Risk Model\n"
     ]
    }
   ],
   "source": [
    "subscriptions_uids = ai_client.data_mart.subscriptions.get_uids()\n",
    "for subscription in subscriptions_uids:\n",
    "    sub_name = ai_client.data_mart.subscriptions.get_details(subscription)['entity']['asset']['name']\n",
    "    if sub_name == MODEL_NAME:\n",
    "        ai_client.data_mart.subscriptions.delete(subscription)\n",
    "        print('Deleted existing subscription for', MODEL_NAME)"
   ]
  },
  {
   "cell_type": "markdown",
   "metadata": {},
   "source": [
    "Este código crea la suscripción modelo en OpenScale usando la API del cliente Python. Tenga en cuenta que debemos proporcionar el identificador único del modelo y cierta información sobre el modelo en sí."
   ]
  },
  {
   "cell_type": "code",
   "execution_count": 41,
   "metadata": {
    "scrolled": false
   },
   "outputs": [],
   "source": [
    "subscription = ai_client.data_mart.subscriptions.add(WatsonMachineLearningAsset(\n",
    "    model_uid,\n",
    "    problem_type=ProblemType.BINARY_CLASSIFICATION,\n",
    "    input_data_type=InputDataType.STRUCTURED,\n",
    "    label_column='Risk',\n",
    "    transaction_id_column='transaction_id',\n",
    "    prediction_column='prediction',\n",
    "    probability_column='probability',\n",
    "    feature_columns = [\"CheckingStatus\",\"LoanDuration\",\"CreditHistory\",\"LoanPurpose\",\"LoanAmount\",\"ExistingSavings\",\"EmploymentDuration\",\"InstallmentPercent\",\"Sex\",\"OthersOnLoan\",\"CurrentResidenceDuration\",\"OwnsProperty\",\"Age\",\"InstallmentPlans\",\"Housing\",\"ExistingCreditsCount\",\"Job\",\"Dependents\",\"Telephone\",\"ForeignWorker\"],\n",
    "    categorical_columns = [\"CheckingStatus\",\"CreditHistory\",\"LoanPurpose\",\"ExistingSavings\",\"EmploymentDuration\",\"Sex\",\"OthersOnLoan\",\"OwnsProperty\",\"InstallmentPlans\",\"Housing\",\"Job\",\"Telephone\",\"ForeignWorker\"],\n",
    "    training_data_reference = {'connection': {'database_name': 'BLUDB',\n",
    "                                              'hostname': 'dashdb-txn-sbox-yp-dal09-03.services.dal.bluemix.net',\n",
    "                                              'password': 'khhz72v+6mcwwkfv',\n",
    "                                              'username': 'cmb91569'},\n",
    "                                             'location': {'schema_name': 'CMB91569',\n",
    "                                              'table_name': 'CREDIT_RISK_TRAIN_DATA'},\n",
    "                                             'type': 'db2'}\n",
    "    \n",
    "))\n",
    "\n",
    "if subscription is None:\n",
    "    print('Subscription already exists; get the existing one')\n",
    "    subscriptions_uids = ai_client.data_mart.subscriptions.get_uids()\n",
    "    for sub in subscriptions_uids:\n",
    "        if ai_client.data_mart.subscriptions.get_details(sub)['entity']['asset']['name'] == MODEL_NAME:\n",
    "            subscription = ai_client.data_mart.subscriptions.get(sub)"
   ]
  },
  {
   "cell_type": "markdown",
   "metadata": {},
   "source": [
    "Obtener listas de suscripciones"
   ]
  },
  {
   "cell_type": "code",
   "execution_count": 42,
   "metadata": {
    "scrolled": true
   },
   "outputs": [
    {
     "data": {
      "text/html": [
       "<HTML>\n",
       "        <body>\n",
       "            <h3>Subscriptions</h3>\n",
       "            <table style='border: 1px solid #dddddd; font-family: Courier'>\n",
       "                <th style='border: 1px solid #dddddd'>uid</th><th style='border: 1px solid #dddddd'>name</th><th style='border: 1px solid #dddddd'>type</th><th style='border: 1px solid #dddddd'>binding_uid</th><th style='border: 1px solid #dddddd'>created</th>\n",
       "                <tr><td style='border: 1px solid #dddddd'>cf423917-4e36-499b-be86-86729c7f974f</td><td style='border: 1px solid #dddddd'>Scikit German Risk Model</td><td style='border: 1px solid #dddddd'>model</td><td style='border: 1px solid #dddddd'>e2cde82b-8a94-4d97-9d46-2288dd99c3af</td><td style='border: 1px solid #dddddd'>2020-01-31T13:20:32.502Z</td></tr>\n",
       "            </table>\n",
       "        </body>\n",
       "        </HTML>"
      ],
      "text/plain": [
       "<IPython.core.display.HTML object>"
      ]
     },
     "metadata": {},
     "output_type": "display_data"
    }
   ],
   "source": [
    "subscriptions_uids = ai_client.data_mart.subscriptions.get_uids()\n",
    "ai_client.data_mart.subscriptions.list()"
   ]
  },
  {
   "cell_type": "code",
   "execution_count": 43,
   "metadata": {
    "scrolled": false
   },
   "outputs": [],
   "source": [
    "subscription_details = subscription.get_details()"
   ]
  },
  {
   "cell_type": "markdown",
   "metadata": {},
   "source": [
    "### Haz el scoring del modelo para que podamos configurar monitores"
   ]
  },
  {
   "cell_type": "markdown",
   "metadata": {},
   "source": [
    "Ahora que el servicio WML se ha vinculado y se ha creado la suscripción, debemos enviar una solicitud al modelo antes de configurar OpenScale. Esto permite a OpenScale crear un registro de carga útil en el datamart con el esquema correcto, para que pueda capturar los datos que entran y salen del modelo. Primero, el código obtiene la URL del punto final de implementación del modelo y luego envía algunos registros para las predicciones."
   ]
  },
  {
   "cell_type": "code",
   "execution_count": 44,
   "metadata": {
    "scrolled": true
   },
   "outputs": [
    {
     "name": "stdout",
     "output_type": "stream",
     "text": [
      "9c73141e-6197-4e29-ac94-794554f76477\n",
      "https://us-south.ml.cloud.ibm.com/v3/wml_instances/e2cde82b-8a94-4d97-9d46-2288dd99c3af/deployments/9c73141e-6197-4e29-ac94-794554f76477/online\n"
     ]
    }
   ],
   "source": [
    "credit_risk_scoring_endpoint = None\n",
    "print(deployment_uid)\n",
    "\n",
    "for deployment in wml_client.deployments.get_details()['resources']:\n",
    "    if deployment_uid in deployment['metadata']['guid']:\n",
    "        credit_risk_scoring_endpoint = deployment['entity']['scoring_url']\n",
    "        \n",
    "print(credit_risk_scoring_endpoint)"
   ]
  },
  {
   "cell_type": "code",
   "execution_count": 45,
   "metadata": {
    "scrolled": true
   },
   "outputs": [
    {
     "name": "stdout",
     "output_type": "stream",
     "text": [
      "Single record scoring result: \n",
      " fields: ['prediction', 'probability'] \n",
      " values:  ['No Risk', [0.685076399597548, 0.31492360040245204]]\n"
     ]
    }
   ],
   "source": [
    "fields = [\"CheckingStatus\",\"LoanDuration\",\"CreditHistory\",\"LoanPurpose\",\"LoanAmount\",\"ExistingSavings\",\"EmploymentDuration\",\"InstallmentPercent\",\"Sex\",\"OthersOnLoan\",\"CurrentResidenceDuration\",\"OwnsProperty\",\"Age\",\"InstallmentPlans\",\"Housing\",\"ExistingCreditsCount\",\"Job\",\"Dependents\",\"Telephone\",\"ForeignWorker\"]\n",
    "values = [\n",
    "  [\"no_checking\",13,\"credits_paid_to_date\",\"car_new\",1343,\"100_to_500\",\"1_to_4\",2,\"female\",\"none\",3,\"savings_insurance\",46,\"none\",\"own\",2,\"skilled\",1,\"none\",\"yes\"],\n",
    "  [\"no_checking\",24,\"prior_payments_delayed\",\"furniture\",4567,\"500_to_1000\",\"1_to_4\",4,\"male\",\"none\",4,\"savings_insurance\",36,\"none\",\"free\",2,\"management_self-employed\",1,\"none\",\"yes\"],\n",
    "  [\"0_to_200\",26,\"all_credits_paid_back\",\"car_new\",863,\"less_100\",\"less_1\",2,\"female\",\"co-applicant\",2,\"real_estate\",38,\"none\",\"own\",1,\"skilled\",1,\"none\",\"yes\"],\n",
    "  [\"0_to_200\",14,\"no_credits\",\"car_new\",2368,\"less_100\",\"1_to_4\",3,\"female\",\"none\",3,\"real_estate\",29,\"none\",\"own\",1,\"skilled\",1,\"none\",\"yes\"],\n",
    "  [\"0_to_200\",4,\"no_credits\",\"car_new\",250,\"less_100\",\"unemployed\",2,\"female\",\"none\",3,\"real_estate\",23,\"none\",\"rent\",1,\"management_self-employed\",1,\"none\",\"yes\"],\n",
    "  [\"no_checking\",17,\"credits_paid_to_date\",\"car_new\",832,\"100_to_500\",\"1_to_4\",2,\"male\",\"none\",2,\"real_estate\",42,\"none\",\"own\",1,\"skilled\",1,\"none\",\"yes\"],\n",
    "  [\"no_checking\",33,\"outstanding_credit\",\"appliances\",5696,\"unknown\",\"greater_7\",4,\"male\",\"co-applicant\",4,\"unknown\",54,\"none\",\"free\",2,\"skilled\",1,\"yes\",\"yes\"],\n",
    "  [\"0_to_200\",13,\"prior_payments_delayed\",\"retraining\",1375,\"100_to_500\",\"4_to_7\",3,\"male\",\"none\",3,\"real_estate\",37,\"none\",\"own\",2,\"management_self-employed\",1,\"none\",\"yes\"]\n",
    "]\n",
    "\n",
    "payload_scoring = {\"fields\": fields,\"values\": values}\n",
    "scoring_response = wml_client.deployments.score(credit_risk_scoring_endpoint, payload_scoring)\n",
    "\n",
    "print('Single record scoring result:', '\\n fields:', scoring_response['fields'], '\\n values: ', scoring_response['values'][0])"
   ]
  },
  {
   "cell_type": "markdown",
   "metadata": {},
   "source": [
    "# -----------------------**SEGUNDA SECCIÓN**-----------------------------------------"
   ]
  },
  {
   "cell_type": "markdown",
   "metadata": {},
   "source": [
    "# 4. Monitorización de la calidad y feedback <a name=\"quality\"></a>"
   ]
  },
  {
   "cell_type": "markdown",
   "metadata": {},
   "source": [
    "## 4.1. Habilitar la monitorización de la calidad\n"
   ]
  },
  {
   "cell_type": "markdown",
   "metadata": {},
   "source": [
    "El siguiente código espera diez segundos para permitir que se configure la tabla de registro de carga antes de que comience a habilitar los monitores. Primero, enciende el monitor de calidad (precisión) y establece un umbral de alerta del 70%. OpenScale mostrará una alerta en el tablero si la medición de precisión del modelo (área debajo de la curva, en el caso de un clasificador binario) cae por debajo de este umbral.\n",
    "\n",
    "El segundo parámetro suministrado, min_records, especifica el número mínimo de registros de retroalimentación que necesita OpenScale antes de calcular una nueva medición. El monitor de calidad se ejecuta cada hora, pero la lectura de precisión en el tablero no cambiará hasta que se hayan agregado 50 registros de comentarios adicionales, a través de la interfaz de usuario, el cliente de Python o el punto final de comentarios suministrado."
   ]
  },
  {
   "cell_type": "code",
   "execution_count": 46,
   "metadata": {
    "scrolled": true
   },
   "outputs": [],
   "source": [
    "time.sleep(10)\n",
    "subscription.quality_monitoring.enable(threshold=0.7, min_records=50)"
   ]
  },
  {
   "cell_type": "markdown",
   "metadata": {},
   "source": [
    "## 4.2. Recogemos el feedback"
   ]
  },
  {
   "cell_type": "markdown",
   "metadata": {},
   "source": [
    "El siguiente código descarga y almacena suficientes datos de feedback para alcanzar el umbral mínimo para que OpenScale pueda calcular una nueva medición de precisión. Luego inicia el monitor de precisión. Los monitores se ejecutan cada hora o se pueden iniciar a través de la API de Python, la API REST o la interfaz gráfica de usuario."
   ]
  },
  {
   "cell_type": "code",
   "execution_count": 47,
   "metadata": {},
   "outputs": [
    {
     "name": "stdout",
     "output_type": "stream",
     "text": [
      "--2020-01-31 13:20:49--  https://raw.githubusercontent.com/pmservice/ai-openscale-tutorials/master/assets/historical_data/german_credit_risk/wml/additional_feedback_data.json\n",
      "Resolving raw.githubusercontent.com (raw.githubusercontent.com)... 199.232.8.133\n",
      "Connecting to raw.githubusercontent.com (raw.githubusercontent.com)|199.232.8.133|:443... connected.\n",
      "HTTP request sent, awaiting response... 200 OK\n",
      "Length: 16506 (16K) [text/plain]\n",
      "Saving to: ‘additional_feedback_data.json’\n",
      "\n",
      "100%[======================================>] 16,506      --.-K/s   in 0.002s  \n",
      "\n",
      "2020-01-31 13:20:49 (9.16 MB/s) - ‘additional_feedback_data.json’ saved [16506/16506]\n",
      "\n"
     ]
    }
   ],
   "source": [
    "!rm additional_feedback_data.json\n",
    "!wget https://raw.githubusercontent.com/pmservice/ai-openscale-tutorials/master/assets/historical_data/german_credit_risk/wml/additional_feedback_data.json"
   ]
  },
  {
   "cell_type": "code",
   "execution_count": 48,
   "metadata": {},
   "outputs": [],
   "source": [
    "with open('additional_feedback_data.json') as feedback_file:\n",
    "    additional_feedback_data = json.load(feedback_file)\n",
    "    \n",
    "subscription.feedback_logging.store(additional_feedback_data['data'])"
   ]
  },
  {
   "cell_type": "code",
   "execution_count": 49,
   "metadata": {
    "scrolled": true
   },
   "outputs": [
    {
     "data": {
      "text/html": [
       "<HTML>\n",
       "        <body>\n",
       "            <h3>Feedback_cf423917-4e36-499b-be86-86729c7f974f (binding_id=e2cde82b-8a94-4d97-9d46-2288dd99c3af, subscription_id=cf423917-4e36-499b-be86-86729c7f974f)</h3>\n",
       "            <table style='border: 1px solid #dddddd; font-family: Courier'>\n",
       "                <th style='border: 1px solid #dddddd'>CheckingStatus</th><th style='border: 1px solid #dddddd'>LoanDuration</th><th style='border: 1px solid #dddddd'>CreditHistory</th><th style='border: 1px solid #dddddd'>LoanPurpose</th><th style='border: 1px solid #dddddd'>LoanAmount</th><th style='border: 1px solid #dddddd'>ExistingSavings</th><th style='border: 1px solid #dddddd'>EmploymentDuration</th><th style='border: 1px solid #dddddd'>InstallmentPercent</th><th style='border: 1px solid #dddddd'>Sex</th><th style='border: 1px solid #dddddd'>OthersOnLoan</th><th style='border: 1px solid #dddddd'>CurrentResidenceDuration</th><th style='border: 1px solid #dddddd'>OwnsProperty</th><th style='border: 1px solid #dddddd'>Age</th><th style='border: 1px solid #dddddd'>InstallmentPlans</th><th style='border: 1px solid #dddddd'>Housing</th><th style='border: 1px solid #dddddd'>ExistingCreditsCount</th><th style='border: 1px solid #dddddd'>Job</th><th style='border: 1px solid #dddddd'>Dependents</th><th style='border: 1px solid #dddddd'>Telephone</th><th style='border: 1px solid #dddddd'>ForeignWorker</th><th style='border: 1px solid #dddddd'>Risk</th><th style='border: 1px solid #dddddd'>record_timestamp</th>\n",
       "                <tr><td style='border: 1px solid #dddddd'>less_0</td><td style='border: 1px solid #dddddd'>10</td><td style='border: 1px solid #dddddd'>all_credits_paid_back</td><td style='border: 1px solid #dddddd'>car_new</td><td style='border: 1px solid #dddddd'>250</td><td style='border: 1px solid #dddddd'>500_to_1000</td><td style='border: 1px solid #dddddd'>4_to_7</td><td style='border: 1px solid #dddddd'>3</td><td style='border: 1px solid #dddddd'>male</td><td style='border: 1px solid #dddddd'>none</td><td style='border: 1px solid #dddddd'>2</td><td style='border: 1px solid #dddddd'>real_estate</td><td style='border: 1px solid #dddddd'>23</td><td style='border: 1px solid #dddddd'>none</td><td style='border: 1px solid #dddddd'>rent</td><td style='border: 1px solid #dddddd'>1</td><td style='border: 1px solid #dddddd'>skilled</td><td style='border: 1px solid #dddddd'>1</td><td style='border: 1px solid #dddddd'>none</td><td style='border: 1px solid #dddddd'>yes</td><td style='border: 1px solid #dddddd'>No Risk</td><td style='border: 1px solid #dddddd'>2020-01-31 13:20:50.743575+00:00</td></tr><tr><td style='border: 1px solid #dddddd'>no_checking</td><td style='border: 1px solid #dddddd'>23</td><td style='border: 1px solid #dddddd'>prior_payments_delayed</td><td style='border: 1px solid #dddddd'>appliances</td><td style='border: 1px solid #dddddd'>6964</td><td style='border: 1px solid #dddddd'>100_to_500</td><td style='border: 1px solid #dddddd'>4_to_7</td><td style='border: 1px solid #dddddd'>4</td><td style='border: 1px solid #dddddd'>female</td><td style='border: 1px solid #dddddd'>none</td><td style='border: 1px solid #dddddd'>3</td><td style='border: 1px solid #dddddd'>car_other</td><td style='border: 1px solid #dddddd'>39</td><td style='border: 1px solid #dddddd'>none</td><td style='border: 1px solid #dddddd'>own</td><td style='border: 1px solid #dddddd'>1</td><td style='border: 1px solid #dddddd'>skilled</td><td style='border: 1px solid #dddddd'>1</td><td style='border: 1px solid #dddddd'>none</td><td style='border: 1px solid #dddddd'>yes</td><td style='border: 1px solid #dddddd'>Risk</td><td style='border: 1px solid #dddddd'>2020-01-31 13:20:50.743575+00:00</td></tr><tr><td style='border: 1px solid #dddddd'>0_to_200</td><td style='border: 1px solid #dddddd'>30</td><td style='border: 1px solid #dddddd'>outstanding_credit</td><td style='border: 1px solid #dddddd'>appliances</td><td style='border: 1px solid #dddddd'>3464</td><td style='border: 1px solid #dddddd'>100_to_500</td><td style='border: 1px solid #dddddd'>greater_7</td><td style='border: 1px solid #dddddd'>3</td><td style='border: 1px solid #dddddd'>male</td><td style='border: 1px solid #dddddd'>guarantor</td><td style='border: 1px solid #dddddd'>4</td><td style='border: 1px solid #dddddd'>savings_insurance</td><td style='border: 1px solid #dddddd'>51</td><td style='border: 1px solid #dddddd'>stores</td><td style='border: 1px solid #dddddd'>free</td><td style='border: 1px solid #dddddd'>1</td><td style='border: 1px solid #dddddd'>skilled</td><td style='border: 1px solid #dddddd'>1</td><td style='border: 1px solid #dddddd'>yes</td><td style='border: 1px solid #dddddd'>yes</td><td style='border: 1px solid #dddddd'>Risk</td><td style='border: 1px solid #dddddd'>2020-01-31 13:20:50.743575+00:00</td></tr><tr><td style='border: 1px solid #dddddd'>no_checking</td><td style='border: 1px solid #dddddd'>23</td><td style='border: 1px solid #dddddd'>outstanding_credit</td><td style='border: 1px solid #dddddd'>car_used</td><td style='border: 1px solid #dddddd'>2681</td><td style='border: 1px solid #dddddd'>500_to_1000</td><td style='border: 1px solid #dddddd'>greater_7</td><td style='border: 1px solid #dddddd'>4</td><td style='border: 1px solid #dddddd'>male</td><td style='border: 1px solid #dddddd'>none</td><td style='border: 1px solid #dddddd'>3</td><td style='border: 1px solid #dddddd'>car_other</td><td style='border: 1px solid #dddddd'>33</td><td style='border: 1px solid #dddddd'>stores</td><td style='border: 1px solid #dddddd'>free</td><td style='border: 1px solid #dddddd'>1</td><td style='border: 1px solid #dddddd'>unskilled</td><td style='border: 1px solid #dddddd'>1</td><td style='border: 1px solid #dddddd'>yes</td><td style='border: 1px solid #dddddd'>yes</td><td style='border: 1px solid #dddddd'>No Risk</td><td style='border: 1px solid #dddddd'>2020-01-31 13:20:50.743575+00:00</td></tr><tr><td style='border: 1px solid #dddddd'>0_to_200</td><td style='border: 1px solid #dddddd'>18</td><td style='border: 1px solid #dddddd'>prior_payments_delayed</td><td style='border: 1px solid #dddddd'>furniture</td><td style='border: 1px solid #dddddd'>1673</td><td style='border: 1px solid #dddddd'>less_100</td><td style='border: 1px solid #dddddd'>1_to_4</td><td style='border: 1px solid #dddddd'>2</td><td style='border: 1px solid #dddddd'>male</td><td style='border: 1px solid #dddddd'>none</td><td style='border: 1px solid #dddddd'>3</td><td style='border: 1px solid #dddddd'>car_other</td><td style='border: 1px solid #dddddd'>30</td><td style='border: 1px solid #dddddd'>none</td><td style='border: 1px solid #dddddd'>own</td><td style='border: 1px solid #dddddd'>2</td><td style='border: 1px solid #dddddd'>skilled</td><td style='border: 1px solid #dddddd'>1</td><td style='border: 1px solid #dddddd'>none</td><td style='border: 1px solid #dddddd'>yes</td><td style='border: 1px solid #dddddd'>Risk</td><td style='border: 1px solid #dddddd'>2020-01-31 13:20:50.743575+00:00</td></tr><tr><td style='border: 1px solid #dddddd'>no_checking</td><td style='border: 1px solid #dddddd'>44</td><td style='border: 1px solid #dddddd'>outstanding_credit</td><td style='border: 1px solid #dddddd'>radio_tv</td><td style='border: 1px solid #dddddd'>3476</td><td style='border: 1px solid #dddddd'>unknown</td><td style='border: 1px solid #dddddd'>greater_7</td><td style='border: 1px solid #dddddd'>4</td><td style='border: 1px solid #dddddd'>male</td><td style='border: 1px solid #dddddd'>co-applicant</td><td style='border: 1px solid #dddddd'>4</td><td style='border: 1px solid #dddddd'>unknown</td><td style='border: 1px solid #dddddd'>60</td><td style='border: 1px solid #dddddd'>none</td><td style='border: 1px solid #dddddd'>free</td><td style='border: 1px solid #dddddd'>2</td><td style='border: 1px solid #dddddd'>skilled</td><td style='border: 1px solid #dddddd'>2</td><td style='border: 1px solid #dddddd'>yes</td><td style='border: 1px solid #dddddd'>yes</td><td style='border: 1px solid #dddddd'>Risk</td><td style='border: 1px solid #dddddd'>2020-01-31 13:20:50.743575+00:00</td></tr><tr><td style='border: 1px solid #dddddd'>less_0</td><td style='border: 1px solid #dddddd'>8</td><td style='border: 1px solid #dddddd'>no_credits</td><td style='border: 1px solid #dddddd'>education</td><td style='border: 1px solid #dddddd'>803</td><td style='border: 1px solid #dddddd'>less_100</td><td style='border: 1px solid #dddddd'>unemployed</td><td style='border: 1px solid #dddddd'>1</td><td style='border: 1px solid #dddddd'>male</td><td style='border: 1px solid #dddddd'>none</td><td style='border: 1px solid #dddddd'>1</td><td style='border: 1px solid #dddddd'>savings_insurance</td><td style='border: 1px solid #dddddd'>19</td><td style='border: 1px solid #dddddd'>stores</td><td style='border: 1px solid #dddddd'>rent</td><td style='border: 1px solid #dddddd'>1</td><td style='border: 1px solid #dddddd'>skilled</td><td style='border: 1px solid #dddddd'>1</td><td style='border: 1px solid #dddddd'>none</td><td style='border: 1px solid #dddddd'>yes</td><td style='border: 1px solid #dddddd'>No Risk</td><td style='border: 1px solid #dddddd'>2020-01-31 13:20:50.743575+00:00</td></tr><tr><td style='border: 1px solid #dddddd'>0_to_200</td><td style='border: 1px solid #dddddd'>7</td><td style='border: 1px solid #dddddd'>all_credits_paid_back</td><td style='border: 1px solid #dddddd'>car_new</td><td style='border: 1px solid #dddddd'>250</td><td style='border: 1px solid #dddddd'>less_100</td><td style='border: 1px solid #dddddd'>unemployed</td><td style='border: 1px solid #dddddd'>1</td><td style='border: 1px solid #dddddd'>male</td><td style='border: 1px solid #dddddd'>none</td><td style='border: 1px solid #dddddd'>1</td><td style='border: 1px solid #dddddd'>real_estate</td><td style='border: 1px solid #dddddd'>19</td><td style='border: 1px solid #dddddd'>stores</td><td style='border: 1px solid #dddddd'>rent</td><td style='border: 1px solid #dddddd'>1</td><td style='border: 1px solid #dddddd'>skilled</td><td style='border: 1px solid #dddddd'>1</td><td style='border: 1px solid #dddddd'>none</td><td style='border: 1px solid #dddddd'>yes</td><td style='border: 1px solid #dddddd'>No Risk</td><td style='border: 1px solid #dddddd'>2020-01-31 13:20:50.743575+00:00</td></tr><tr><td style='border: 1px solid #dddddd'>0_to_200</td><td style='border: 1px solid #dddddd'>33</td><td style='border: 1px solid #dddddd'>credits_paid_to_date</td><td style='border: 1px solid #dddddd'>radio_tv</td><td style='border: 1px solid #dddddd'>3548</td><td style='border: 1px solid #dddddd'>100_to_500</td><td style='border: 1px solid #dddddd'>1_to_4</td><td style='border: 1px solid #dddddd'>3</td><td style='border: 1px solid #dddddd'>male</td><td style='border: 1px solid #dddddd'>none</td><td style='border: 1px solid #dddddd'>4</td><td style='border: 1px solid #dddddd'>car_other</td><td style='border: 1px solid #dddddd'>28</td><td style='border: 1px solid #dddddd'>none</td><td style='border: 1px solid #dddddd'>own</td><td style='border: 1px solid #dddddd'>2</td><td style='border: 1px solid #dddddd'>skilled</td><td style='border: 1px solid #dddddd'>1</td><td style='border: 1px solid #dddddd'>yes</td><td style='border: 1px solid #dddddd'>yes</td><td style='border: 1px solid #dddddd'>Risk</td><td style='border: 1px solid #dddddd'>2020-01-31 13:20:50.743575+00:00</td></tr><tr><td style='border: 1px solid #dddddd'>no_checking</td><td style='border: 1px solid #dddddd'>24</td><td style='border: 1px solid #dddddd'>prior_payments_delayed</td><td style='border: 1px solid #dddddd'>retraining</td><td style='border: 1px solid #dddddd'>4158</td><td style='border: 1px solid #dddddd'>100_to_500</td><td style='border: 1px solid #dddddd'>greater_7</td><td style='border: 1px solid #dddddd'>3</td><td style='border: 1px solid #dddddd'>female</td><td style='border: 1px solid #dddddd'>none</td><td style='border: 1px solid #dddddd'>2</td><td style='border: 1px solid #dddddd'>savings_insurance</td><td style='border: 1px solid #dddddd'>35</td><td style='border: 1px solid #dddddd'>stores</td><td style='border: 1px solid #dddddd'>own</td><td style='border: 1px solid #dddddd'>1</td><td style='border: 1px solid #dddddd'>unskilled</td><td style='border: 1px solid #dddddd'>2</td><td style='border: 1px solid #dddddd'>none</td><td style='border: 1px solid #dddddd'>yes</td><td style='border: 1px solid #dddddd'>Risk</td><td style='border: 1px solid #dddddd'>2020-01-31 13:20:50.743575+00:00</td></tr>\n",
       "            </table>\n",
       "        </body>\n",
       "        </HTML>"
      ],
      "text/plain": [
       "<IPython.core.display.HTML object>"
      ]
     },
     "metadata": {},
     "output_type": "display_data"
    }
   ],
   "source": [
    "subscription.feedback_logging.show_table()"
   ]
  },
  {
   "cell_type": "code",
   "execution_count": 50,
   "metadata": {
    "scrolled": true
   },
   "outputs": [
    {
     "name": "stdout",
     "output_type": "stream",
     "text": [
      "\n",
      "\n",
      "================================================================================\n",
      "\n",
      " Waiting for end of quality monitoring run 97da1ca3-0488-465a-af72-d53d5fb1e466 \n",
      "\n",
      "================================================================================\n",
      "\n",
      "\n",
      "\n",
      "completed\n",
      "\n",
      "---------------------------\n",
      " Successfully finished run \n",
      "---------------------------\n",
      "\n",
      "\n"
     ]
    }
   ],
   "source": [
    "run_details = subscription.quality_monitoring.run(background_mode=False)"
   ]
  },
  {
   "cell_type": "code",
   "execution_count": 51,
   "metadata": {
    "scrolled": true
   },
   "outputs": [
    {
     "data": {
      "text/html": [
       "<HTML>\n",
       "        <body>\n",
       "            <h3>QualityMetrics (binding_id=e2cde82b-8a94-4d97-9d46-2288dd99c3af, subscription_id=cf423917-4e36-499b-be86-86729c7f974f)</h3>\n",
       "            <table style='border: 1px solid #dddddd; font-family: Courier'>\n",
       "                <th style='border: 1px solid #dddddd'>ts</th><th style='border: 1px solid #dddddd'>id</th><th style='border: 1px solid #dddddd'>measurement_id</th><th style='border: 1px solid #dddddd'>value</th><th style='border: 1px solid #dddddd'>lower limit</th><th style='border: 1px solid #dddddd'>upper limit</th><th style='border: 1px solid #dddddd'>tags</th><th style='border: 1px solid #dddddd'>binding_id</th><th style='border: 1px solid #dddddd'>subscription_id</th><th style='border: 1px solid #dddddd'>deployment_id</th>\n",
       "                <tr><td style='border: 1px solid #dddddd'>2020-01-31 13:20:55.411000+00:00</td><td style='border: 1px solid #dddddd'>true_positive_rate</td><td style='border: 1px solid #dddddd'>051bdf34-c9b3-40b9-b51a-ba1d41782511</td><td style='border: 1px solid #dddddd'>0.45454545454545453</td><td style='border: 1px solid #dddddd'></td><td style='border: 1px solid #dddddd'></td><td style='border: 1px solid #dddddd'>model_type: original</td><td style='border: 1px solid #dddddd'>e2cde82b-8a94-4d97-9d46-2288dd99c3af</td><td style='border: 1px solid #dddddd'>cf423917-4e36-499b-be86-86729c7f974f</td><td style='border: 1px solid #dddddd'>9c73141e-6197-4e29-ac94-794554f76477</td></tr><tr><td style='border: 1px solid #dddddd'>2020-01-31 13:20:55.411000+00:00</td><td style='border: 1px solid #dddddd'>area_under_roc</td><td style='border: 1px solid #dddddd'>051bdf34-c9b3-40b9-b51a-ba1d41782511</td><td style='border: 1px solid #dddddd'>0.7118881118881119</td><td style='border: 1px solid #dddddd'>0.7</td><td style='border: 1px solid #dddddd'></td><td style='border: 1px solid #dddddd'>model_type: original</td><td style='border: 1px solid #dddddd'>e2cde82b-8a94-4d97-9d46-2288dd99c3af</td><td style='border: 1px solid #dddddd'>cf423917-4e36-499b-be86-86729c7f974f</td><td style='border: 1px solid #dddddd'>9c73141e-6197-4e29-ac94-794554f76477</td></tr><tr><td style='border: 1px solid #dddddd'>2020-01-31 13:20:55.411000+00:00</td><td style='border: 1px solid #dddddd'>precision</td><td style='border: 1px solid #dddddd'>051bdf34-c9b3-40b9-b51a-ba1d41782511</td><td style='border: 1px solid #dddddd'>0.8823529411764706</td><td style='border: 1px solid #dddddd'></td><td style='border: 1px solid #dddddd'></td><td style='border: 1px solid #dddddd'>model_type: original</td><td style='border: 1px solid #dddddd'>e2cde82b-8a94-4d97-9d46-2288dd99c3af</td><td style='border: 1px solid #dddddd'>cf423917-4e36-499b-be86-86729c7f974f</td><td style='border: 1px solid #dddddd'>9c73141e-6197-4e29-ac94-794554f76477</td></tr><tr><td style='border: 1px solid #dddddd'>2020-01-31 13:20:55.411000+00:00</td><td style='border: 1px solid #dddddd'>f1_measure</td><td style='border: 1px solid #dddddd'>051bdf34-c9b3-40b9-b51a-ba1d41782511</td><td style='border: 1px solid #dddddd'>0.6</td><td style='border: 1px solid #dddddd'></td><td style='border: 1px solid #dddddd'></td><td style='border: 1px solid #dddddd'>model_type: original</td><td style='border: 1px solid #dddddd'>e2cde82b-8a94-4d97-9d46-2288dd99c3af</td><td style='border: 1px solid #dddddd'>cf423917-4e36-499b-be86-86729c7f974f</td><td style='border: 1px solid #dddddd'>9c73141e-6197-4e29-ac94-794554f76477</td></tr><tr><td style='border: 1px solid #dddddd'>2020-01-31 13:20:55.411000+00:00</td><td style='border: 1px solid #dddddd'>accuracy</td><td style='border: 1px solid #dddddd'>051bdf34-c9b3-40b9-b51a-ba1d41782511</td><td style='border: 1px solid #dddddd'>0.7959183673469388</td><td style='border: 1px solid #dddddd'></td><td style='border: 1px solid #dddddd'></td><td style='border: 1px solid #dddddd'>model_type: original</td><td style='border: 1px solid #dddddd'>e2cde82b-8a94-4d97-9d46-2288dd99c3af</td><td style='border: 1px solid #dddddd'>cf423917-4e36-499b-be86-86729c7f974f</td><td style='border: 1px solid #dddddd'>9c73141e-6197-4e29-ac94-794554f76477</td></tr><tr><td style='border: 1px solid #dddddd'>2020-01-31 13:20:55.411000+00:00</td><td style='border: 1px solid #dddddd'>log_loss</td><td style='border: 1px solid #dddddd'>051bdf34-c9b3-40b9-b51a-ba1d41782511</td><td style='border: 1px solid #dddddd'>0.45087778906066156</td><td style='border: 1px solid #dddddd'></td><td style='border: 1px solid #dddddd'></td><td style='border: 1px solid #dddddd'>model_type: original</td><td style='border: 1px solid #dddddd'>e2cde82b-8a94-4d97-9d46-2288dd99c3af</td><td style='border: 1px solid #dddddd'>cf423917-4e36-499b-be86-86729c7f974f</td><td style='border: 1px solid #dddddd'>9c73141e-6197-4e29-ac94-794554f76477</td></tr><tr><td style='border: 1px solid #dddddd'>2020-01-31 13:20:55.411000+00:00</td><td style='border: 1px solid #dddddd'>false_positive_rate</td><td style='border: 1px solid #dddddd'>051bdf34-c9b3-40b9-b51a-ba1d41782511</td><td style='border: 1px solid #dddddd'>0.03076923076923077</td><td style='border: 1px solid #dddddd'></td><td style='border: 1px solid #dddddd'></td><td style='border: 1px solid #dddddd'>model_type: original</td><td style='border: 1px solid #dddddd'>e2cde82b-8a94-4d97-9d46-2288dd99c3af</td><td style='border: 1px solid #dddddd'>cf423917-4e36-499b-be86-86729c7f974f</td><td style='border: 1px solid #dddddd'>9c73141e-6197-4e29-ac94-794554f76477</td></tr><tr><td style='border: 1px solid #dddddd'>2020-01-31 13:20:55.411000+00:00</td><td style='border: 1px solid #dddddd'>area_under_pr</td><td style='border: 1px solid #dddddd'>051bdf34-c9b3-40b9-b51a-ba1d41782511</td><td style='border: 1px solid #dddddd'>0.7335479646404015</td><td style='border: 1px solid #dddddd'></td><td style='border: 1px solid #dddddd'></td><td style='border: 1px solid #dddddd'>model_type: original</td><td style='border: 1px solid #dddddd'>e2cde82b-8a94-4d97-9d46-2288dd99c3af</td><td style='border: 1px solid #dddddd'>cf423917-4e36-499b-be86-86729c7f974f</td><td style='border: 1px solid #dddddd'>9c73141e-6197-4e29-ac94-794554f76477</td></tr><tr><td style='border: 1px solid #dddddd'>2020-01-31 13:20:55.411000+00:00</td><td style='border: 1px solid #dddddd'>recall</td><td style='border: 1px solid #dddddd'>051bdf34-c9b3-40b9-b51a-ba1d41782511</td><td style='border: 1px solid #dddddd'>0.45454545454545453</td><td style='border: 1px solid #dddddd'></td><td style='border: 1px solid #dddddd'></td><td style='border: 1px solid #dddddd'>model_type: original</td><td style='border: 1px solid #dddddd'>e2cde82b-8a94-4d97-9d46-2288dd99c3af</td><td style='border: 1px solid #dddddd'>cf423917-4e36-499b-be86-86729c7f974f</td><td style='border: 1px solid #dddddd'>9c73141e-6197-4e29-ac94-794554f76477</td></tr>\n",
       "            </table>\n",
       "        </body>\n",
       "        </HTML>"
      ],
      "text/plain": [
       "<IPython.core.display.HTML object>"
      ]
     },
     "metadata": {},
     "output_type": "display_data"
    }
   ],
   "source": [
    "subscription.quality_monitoring.show_table()"
   ]
  },
  {
   "cell_type": "code",
   "execution_count": 52,
   "metadata": {},
   "outputs": [
    {
     "data": {
      "image/png": "[encoded data removed]",
      "text/plain": [
       "<matplotlib.figure.Figure at 0x7f84f0aec828>"
      ]
     },
     "metadata": {
      "needs_background": "light"
     },
     "output_type": "display_data"
    }
   ],
   "source": [
    "%matplotlib inline\n",
    "\n",
    "quality_pd = subscription.quality_monitoring.get_table_content(format='pandas')\n",
    "quality_pd.plot.barh(x='id', y='value');"
   ]
  },
  {
   "cell_type": "markdown",
   "metadata": {},
   "source": [
    "# -----------------------**TERCERA SECCIÓN**-----------------------------------------"
   ]
  },
  {
   "cell_type": "markdown",
   "metadata": {},
   "source": [
    "# 5. Monitorización de fairness y explicabilidad <a name=\"fairness\"></a>"
   ]
  },
  {
   "cell_type": "markdown",
   "metadata": {},
   "source": [
    "## 5.1. Configuración del Fairness\n",
    "\n",
    "El siguiente código configura la monitorización de equidad para nuestro modelo. Activa la monitorización de dos funciones, Sexo y Edad. En cada caso, debemos especificar:\n",
    "  * Qué característica del modelo monitorizar\n",
    "  * Uno o más grupos **mayoritarios**, que son valores de esa característica que esperamos recibir un mayor porcentaje de resultados favorables\n",
    "  * Uno o más grupos **minoritarios**, que son valores de esa característica que esperamos recibir un mayor porcentaje de resultados desfavorables\n",
    "  * El umbral en el que nos gustaría que OpenScale muestre una alerta si la medición de equidad cae por debajo (en este caso, 95%)\n",
    "\n",
    "Además, debemos especificar qué resultados del modelo son resultados favorables y cuáles son desfavorables. También debemos proporcionar el número de registros que OpenScale usará para calcular el puntaje de equidad. En este caso, el monitor de imparcialidad de OpenScale se ejecutará cada hora, pero no calculará una nueva calificación de imparcialidad hasta que se hayan agregado al menos 200 registros. Finalmente, para calcular la equidad, OpenScale debe realizar algunos cálculos sobre los datos de entrenamiento, por lo que proporcionamos el marco de datos que contiene los datos."
   ]
  },
  {
   "cell_type": "code",
   "execution_count": 1,
   "metadata": {
    "scrolled": false
   },
   "outputs": [
    {
     "ename": "NameError",
     "evalue": "name 'subscription' is not defined",
     "output_type": "error",
     "traceback": [
      "\u001b[0;31m---------------------------------------------------------------------------\u001b[0m",
      "\u001b[0;31mNameError\u001b[0m                                 Traceback (most recent call last)",
      "\u001b[0;32m<ipython-input-1-46a1ea4d29f8>\u001b[0m in \u001b[0;36m<module>\u001b[0;34m\u001b[0m\n\u001b[0;32m----> 1\u001b[0;31m subscription.fairness_monitoring.enable(\n\u001b[0m\u001b[1;32m      2\u001b[0m             features=[\n\u001b[1;32m      3\u001b[0m                 \u001b[0mFeature\u001b[0m\u001b[0;34m(\u001b[0m\u001b[0;34m\"Sex\"\u001b[0m\u001b[0;34m,\u001b[0m \u001b[0mmajority\u001b[0m\u001b[0;34m=\u001b[0m\u001b[0;34m[\u001b[0m\u001b[0;34m'male'\u001b[0m\u001b[0;34m]\u001b[0m\u001b[0;34m,\u001b[0m \u001b[0mminority\u001b[0m\u001b[0;34m=\u001b[0m\u001b[0;34m[\u001b[0m\u001b[0;34m'female'\u001b[0m\u001b[0;34m]\u001b[0m\u001b[0;34m,\u001b[0m \u001b[0mthreshold\u001b[0m\u001b[0;34m=\u001b[0m\u001b[0;36m0.95\u001b[0m\u001b[0;34m)\u001b[0m\u001b[0;34m,\u001b[0m\u001b[0;34m\u001b[0m\u001b[0;34m\u001b[0m\u001b[0m\n\u001b[1;32m      4\u001b[0m                 \u001b[0mFeature\u001b[0m\u001b[0;34m(\u001b[0m\u001b[0;34m\"Age\"\u001b[0m\u001b[0;34m,\u001b[0m \u001b[0mmajority\u001b[0m\u001b[0;34m=\u001b[0m\u001b[0;34m[\u001b[0m\u001b[0;34m[\u001b[0m\u001b[0;36m26\u001b[0m\u001b[0;34m,\u001b[0m\u001b[0;36m75\u001b[0m\u001b[0;34m]\u001b[0m\u001b[0;34m]\u001b[0m\u001b[0;34m,\u001b[0m \u001b[0mminority\u001b[0m\u001b[0;34m=\u001b[0m\u001b[0;34m[\u001b[0m\u001b[0;34m[\u001b[0m\u001b[0;36m18\u001b[0m\u001b[0;34m,\u001b[0m\u001b[0;36m25\u001b[0m\u001b[0;34m]\u001b[0m\u001b[0;34m]\u001b[0m\u001b[0;34m,\u001b[0m \u001b[0mthreshold\u001b[0m\u001b[0;34m=\u001b[0m\u001b[0;36m0.95\u001b[0m\u001b[0;34m)\u001b[0m\u001b[0;34m\u001b[0m\u001b[0;34m\u001b[0m\u001b[0m\n\u001b[1;32m      5\u001b[0m             ],\n",
      "\u001b[0;31mNameError\u001b[0m: name 'subscription' is not defined"
     ]
    }
   ],
   "source": [
    "subscription.fairness_monitoring.enable(\n",
    "            features=[\n",
    "                Feature(\"Sex\", majority=['male'], minority=['female'], threshold=0.95),\n",
    "                Feature(\"Age\", majority=[[26,75]], minority=[[18,25]], threshold=0.95)\n",
    "            ],\n",
    "            favourable_classes=['No Risk'],\n",
    "            unfavourable_classes=['Risk'],\n",
    "            min_records=200,\n",
    "            training_data=train_data.copy()\n",
    "        )"
   ]
  },
  {
   "cell_type": "markdown",
   "metadata": {},
   "source": [
    "## 5.2. Configuración del Drift"
   ]
  },
  {
   "cell_type": "code",
   "execution_count": 54,
   "metadata": {},
   "outputs": [
    {
     "data": {
      "text/plain": [
       "{'config_status': {'model_name': None, 'state': 'new'},\n",
       " 'data_drift_enabled': True,\n",
       " 'drift_threshold': 0.05,\n",
       " 'is_schedule_enabled': True,\n",
       " 'min_samples': 200,\n",
       " 'model_drift_enabled': True,\n",
       " 'schedule_repeat_interval': 3,\n",
       " 'schedule_repeat_type': 'hour'}"
      ]
     },
     "execution_count": 54,
     "metadata": {},
     "output_type": "execute_result"
    }
   ],
   "source": [
    "subscription.drift_monitoring.enable(threshold=0.05, min_records=200)"
   ]
  },
  {
   "cell_type": "code",
   "execution_count": 55,
   "metadata": {},
   "outputs": [
    {
     "name": "stdout",
     "output_type": "stream",
     "text": [
      "13:21:08 new\n",
      "13:21:38 in_progress\n",
      "13:22:09 in_progress\n",
      "13:22:39 in_progress\n",
      "13:23:09 in_progress\n",
      "finished\n"
     ]
    }
   ],
   "source": [
    "drift_status = None\n",
    "while drift_status != 'finished':\n",
    "    drift_details = subscription.drift_monitoring.get_details()\n",
    "    drift_status = drift_details['parameters']['config_status']['state']\n",
    "    if drift_status != 'finished':\n",
    "        print(datetime.utcnow().strftime('%H:%M:%S'), drift_status)\n",
    "        time.sleep(30)\n",
    "print(drift_status)"
   ]
  },
  {
   "cell_type": "markdown",
   "metadata": {},
   "source": [
    "## 5.3. Evaluamos el modelo de nuevo ahora que los monitores están configurados"
   ]
  },
  {
   "cell_type": "markdown",
   "metadata": {},
   "source": [
    "La siguiente sección selecciona aleatoriamente 200 registros de la fuente de datos y los envía al modelo para predicciones. Esto es suficiente para superar el umbral mínimo para los registros establecidos en la sección anterior, lo que permite que OpenScale comience a calcular la equidad."
   ]
  },
  {
   "cell_type": "code",
   "execution_count": 58,
   "metadata": {},
   "outputs": [
    {
     "name": "stdout",
     "output_type": "stream",
     "text": [
      "-rw-r----- 1 dsxuser dsxuser 3.0M Jan 31 13:25 german_credit_feed.json\n"
     ]
    }
   ],
   "source": [
    "from IPython.utils import io\n",
    "\n",
    "with io.capture_output() as captured:\n",
    "    !wget https://raw.githubusercontent.com/pmservice/ai-openscale-tutorials/master/assets/historical_data/german_credit_risk/wml/german_credit_feed.json -O german_credit_feed.json\n",
    "!ls -lh german_credit_feed.json"
   ]
  },
  {
   "cell_type": "markdown",
   "metadata": {},
   "source": [
    "Evalua 200 registros al azar"
   ]
  },
  {
   "cell_type": "code",
   "execution_count": 59,
   "metadata": {},
   "outputs": [],
   "source": [
    "import random\n",
    "\n",
    "with open('german_credit_feed.json', 'r') as scoring_file:\n",
    "    scoring_data = json.load(scoring_file)\n",
    "\n",
    "fields = scoring_data['fields']\n",
    "values = []\n",
    "for _ in range(200):\n",
    "    values.append(random.choice(scoring_data['values']))\n",
    "payload_scoring = {\"fields\": fields, \"values\": values}\n",
    "\n",
    "scoring_response = wml_client.deployments.score(credit_risk_scoring_endpoint, payload_scoring)\n",
    "time.sleep(5)"
   ]
  },
  {
   "cell_type": "markdown",
   "metadata": {},
   "source": [
    "**Nota:** Ahora en el payload debe haber un total de 208 registros."
   ]
  },
  {
   "cell_type": "code",
   "execution_count": 60,
   "metadata": {},
   "outputs": [
    {
     "name": "stdout",
     "output_type": "stream",
     "text": [
      "Number of records in payload table:  208\n"
     ]
    }
   ],
   "source": [
    "print('Number of records in payload table: ', subscription.payload_logging.get_records_count())"
   ]
  },
  {
   "cell_type": "markdown",
   "metadata": {},
   "source": [
    "## 5.4. Ejecutar monitor de fairness"
   ]
  },
  {
   "cell_type": "markdown",
   "metadata": {},
   "source": [
    "Monitorizamos el fairness. El monitor se ejecuta cada hora, pero se puede iniciar manualmente utilizando el cliente Python, la API REST o la interfaz gráfica de usuario."
   ]
  },
  {
   "cell_type": "code",
   "execution_count": 61,
   "metadata": {
    "scrolled": true
   },
   "outputs": [
    {
     "name": "stdout",
     "output_type": "stream",
     "text": [
      "\n",
      "\n",
      "=======================================================================\n",
      "\n",
      " Counting bias for deployment_uid=9c73141e-6197-4e29-ac94-794554f76477 \n",
      "\n",
      "=======================================================================\n",
      "\n",
      "\n",
      "\n",
      "RUNNING....\n",
      "FINISHED\n",
      "\n",
      "---------------------------\n",
      " Successfully finished run \n",
      "---------------------------\n",
      "\n",
      "\n"
     ]
    }
   ],
   "source": [
    "run_details = subscription.fairness_monitoring.run(background_mode=False)"
   ]
  },
  {
   "cell_type": "code",
   "execution_count": 62,
   "metadata": {},
   "outputs": [
    {
     "data": {
      "text/html": [
       "<HTML>\n",
       "        <body>\n",
       "            <h3>FairnessMetrics (binding_id=e2cde82b-8a94-4d97-9d46-2288dd99c3af, subscription_id=cf423917-4e36-499b-be86-86729c7f974f)</h3>\n",
       "            <table style='border: 1px solid #dddddd; font-family: Courier'>\n",
       "                <th style='border: 1px solid #dddddd'>ts</th><th style='border: 1px solid #dddddd'>feature</th><th style='border: 1px solid #dddddd'>feature_value</th><th style='border: 1px solid #dddddd'>fairness_biased</th><th style='border: 1px solid #dddddd'>fairness_value</th><th style='border: 1px solid #dddddd'>fairness_fav_class</th><th style='border: 1px solid #dddddd'>binding_id</th><th style='border: 1px solid #dddddd'>subscription_id</th><th style='border: 1px solid #dddddd'>asset_revision</th><th style='border: 1px solid #dddddd'>deployment_id</th><th style='border: 1px solid #dddddd'>process</th>\n",
       "                <tr><td style='border: 1px solid #dddddd'>2020-01-31 13:25:23.393543+00:00</td><td style='border: 1px solid #dddddd'>Sex</td><td style='border: 1px solid #dddddd'>female</td><td style='border: 1px solid #dddddd'>True</td><td style='border: 1px solid #dddddd'>0.897</td><td style='border: 1px solid #dddddd'>69.5</td><td style='border: 1px solid #dddddd'>e2cde82b-8a94-4d97-9d46-2288dd99c3af</td><td style='border: 1px solid #dddddd'>cf423917-4e36-499b-be86-86729c7f974f</td><td style='border: 1px solid #dddddd'>cf423917-4e36-499b-be86-86729c7f974f</td><td style='border: 1px solid #dddddd'>9c73141e-6197-4e29-ac94-794554f76477</td><td style='border: 1px solid #dddddd'></td></tr><tr><td style='border: 1px solid #dddddd'>2020-01-31 13:25:23.393543+00:00</td><td style='border: 1px solid #dddddd'>Age</td><td style='border: 1px solid #dddddd'>[18, 25]</td><td style='border: 1px solid #dddddd'>False</td><td style='border: 1px solid #dddddd'>1.0</td><td style='border: 1px solid #dddddd'>76.5</td><td style='border: 1px solid #dddddd'>e2cde82b-8a94-4d97-9d46-2288dd99c3af</td><td style='border: 1px solid #dddddd'>cf423917-4e36-499b-be86-86729c7f974f</td><td style='border: 1px solid #dddddd'>cf423917-4e36-499b-be86-86729c7f974f</td><td style='border: 1px solid #dddddd'>9c73141e-6197-4e29-ac94-794554f76477</td><td style='border: 1px solid #dddddd'></td></tr>\n",
       "            </table>\n",
       "        </body>\n",
       "        </HTML>"
      ],
      "text/plain": [
       "<IPython.core.display.HTML object>"
      ]
     },
     "metadata": {},
     "output_type": "display_data"
    }
   ],
   "source": [
    "time.sleep(10)\n",
    "\n",
    "subscription.fairness_monitoring.show_table()"
   ]
  },
  {
   "cell_type": "markdown",
   "metadata": {},
   "source": [
    "## 5.5. Ejecutar monitor del drift\n",
    "\n",
    "\n",
    "Inicia el monitor de drift. El monitor se ejecuta cada hora, pero puede ser inicilizado manualmente con el cliente de Python o la API REST. "
   ]
  },
  {
   "cell_type": "code",
   "execution_count": 63,
   "metadata": {},
   "outputs": [
    {
     "name": "stdout",
     "output_type": "stream",
     "text": [
      "\n",
      "\n",
      "==========================================\n",
      "\n",
      " Waiting for end of drift monitoring run  \n",
      "\n",
      "==========================================\n",
      "\n",
      "\n",
      "\n",
      "COMPLETED\n",
      "\n",
      "---------------------------\n",
      " Successfully finished run \n",
      "---------------------------\n",
      "\n",
      "\n"
     ]
    }
   ],
   "source": [
    "drift_run_details = subscription.drift_monitoring.run(background_mode=False)"
   ]
  },
  {
   "cell_type": "code",
   "execution_count": 64,
   "metadata": {},
   "outputs": [
    {
     "data": {
      "text/html": [
       "<div>\n",
       "<style scoped>\n",
       "    .dataframe tbody tr th:only-of-type {\n",
       "        vertical-align: middle;\n",
       "    }\n",
       "\n",
       "    .dataframe tbody tr th {\n",
       "        vertical-align: top;\n",
       "    }\n",
       "\n",
       "    .dataframe thead th {\n",
       "        text-align: right;\n",
       "    }\n",
       "</style>\n",
       "<table border=\"1\" class=\"dataframe\">\n",
       "  <thead>\n",
       "    <tr style=\"text-align: right;\">\n",
       "      <th></th>\n",
       "      <th>ts</th>\n",
       "      <th>id</th>\n",
       "      <th>measurement_id</th>\n",
       "      <th>value</th>\n",
       "      <th>lower limit</th>\n",
       "      <th>upper limit</th>\n",
       "      <th>tags</th>\n",
       "      <th>binding_id</th>\n",
       "      <th>subscription_id</th>\n",
       "      <th>deployment_id</th>\n",
       "    </tr>\n",
       "  </thead>\n",
       "  <tbody>\n",
       "    <tr>\n",
       "      <th>0</th>\n",
       "      <td>2020-01-31 13:26:08.594264+00:00</td>\n",
       "      <td>data_drift_magnitude</td>\n",
       "      <td>2c116876-dfa7-4b73-aa0a-4468c5b37a46</td>\n",
       "      <td>0.086538</td>\n",
       "      <td></td>\n",
       "      <td></td>\n",
       "      <td></td>\n",
       "      <td>e2cde82b-8a94-4d97-9d46-2288dd99c3af</td>\n",
       "      <td>cf423917-4e36-499b-be86-86729c7f974f</td>\n",
       "      <td>9c73141e-6197-4e29-ac94-794554f76477</td>\n",
       "    </tr>\n",
       "    <tr>\n",
       "      <th>1</th>\n",
       "      <td>2020-01-31 13:26:08.594264+00:00</td>\n",
       "      <td>drift_magnitude</td>\n",
       "      <td>2c116876-dfa7-4b73-aa0a-4468c5b37a46</td>\n",
       "      <td>0.022269</td>\n",
       "      <td></td>\n",
       "      <td>0.05</td>\n",
       "      <td></td>\n",
       "      <td>e2cde82b-8a94-4d97-9d46-2288dd99c3af</td>\n",
       "      <td>cf423917-4e36-499b-be86-86729c7f974f</td>\n",
       "      <td>9c73141e-6197-4e29-ac94-794554f76477</td>\n",
       "    </tr>\n",
       "    <tr>\n",
       "      <th>2</th>\n",
       "      <td>2020-01-31 13:26:08.594264+00:00</td>\n",
       "      <td>predicted_accuracy</td>\n",
       "      <td>2c116876-dfa7-4b73-aa0a-4468c5b37a46</td>\n",
       "      <td>0.772731</td>\n",
       "      <td></td>\n",
       "      <td></td>\n",
       "      <td></td>\n",
       "      <td>e2cde82b-8a94-4d97-9d46-2288dd99c3af</td>\n",
       "      <td>cf423917-4e36-499b-be86-86729c7f974f</td>\n",
       "      <td>9c73141e-6197-4e29-ac94-794554f76477</td>\n",
       "    </tr>\n",
       "    <tr>\n",
       "      <th>3</th>\n",
       "      <td>2020-01-31 13:25:27.805258+00:00</td>\n",
       "      <td>data_drift_magnitude</td>\n",
       "      <td>0ceb7722-614e-4a3d-aaf7-04335ee2a877</td>\n",
       "      <td>0.086538</td>\n",
       "      <td></td>\n",
       "      <td></td>\n",
       "      <td></td>\n",
       "      <td>e2cde82b-8a94-4d97-9d46-2288dd99c3af</td>\n",
       "      <td>cf423917-4e36-499b-be86-86729c7f974f</td>\n",
       "      <td>9c73141e-6197-4e29-ac94-794554f76477</td>\n",
       "    </tr>\n",
       "    <tr>\n",
       "      <th>4</th>\n",
       "      <td>2020-01-31 13:25:27.805258+00:00</td>\n",
       "      <td>drift_magnitude</td>\n",
       "      <td>0ceb7722-614e-4a3d-aaf7-04335ee2a877</td>\n",
       "      <td>0.022269</td>\n",
       "      <td></td>\n",
       "      <td>0.05</td>\n",
       "      <td></td>\n",
       "      <td>e2cde82b-8a94-4d97-9d46-2288dd99c3af</td>\n",
       "      <td>cf423917-4e36-499b-be86-86729c7f974f</td>\n",
       "      <td>9c73141e-6197-4e29-ac94-794554f76477</td>\n",
       "    </tr>\n",
       "    <tr>\n",
       "      <th>5</th>\n",
       "      <td>2020-01-31 13:25:27.805258+00:00</td>\n",
       "      <td>predicted_accuracy</td>\n",
       "      <td>0ceb7722-614e-4a3d-aaf7-04335ee2a877</td>\n",
       "      <td>0.772731</td>\n",
       "      <td></td>\n",
       "      <td></td>\n",
       "      <td></td>\n",
       "      <td>e2cde82b-8a94-4d97-9d46-2288dd99c3af</td>\n",
       "      <td>cf423917-4e36-499b-be86-86729c7f974f</td>\n",
       "      <td>9c73141e-6197-4e29-ac94-794554f76477</td>\n",
       "    </tr>\n",
       "  </tbody>\n",
       "</table>\n",
       "</div>"
      ],
      "text/plain": [
       "                                ts                    id  \\\n",
       "0 2020-01-31 13:26:08.594264+00:00  data_drift_magnitude   \n",
       "1 2020-01-31 13:26:08.594264+00:00       drift_magnitude   \n",
       "2 2020-01-31 13:26:08.594264+00:00    predicted_accuracy   \n",
       "3 2020-01-31 13:25:27.805258+00:00  data_drift_magnitude   \n",
       "4 2020-01-31 13:25:27.805258+00:00       drift_magnitude   \n",
       "5 2020-01-31 13:25:27.805258+00:00    predicted_accuracy   \n",
       "\n",
       "                         measurement_id     value lower limit upper limit  \\\n",
       "0  2c116876-dfa7-4b73-aa0a-4468c5b37a46  0.086538                           \n",
       "1  2c116876-dfa7-4b73-aa0a-4468c5b37a46  0.022269                    0.05   \n",
       "2  2c116876-dfa7-4b73-aa0a-4468c5b37a46  0.772731                           \n",
       "3  0ceb7722-614e-4a3d-aaf7-04335ee2a877  0.086538                           \n",
       "4  0ceb7722-614e-4a3d-aaf7-04335ee2a877  0.022269                    0.05   \n",
       "5  0ceb7722-614e-4a3d-aaf7-04335ee2a877  0.772731                           \n",
       "\n",
       "  tags                            binding_id  \\\n",
       "0       e2cde82b-8a94-4d97-9d46-2288dd99c3af   \n",
       "1       e2cde82b-8a94-4d97-9d46-2288dd99c3af   \n",
       "2       e2cde82b-8a94-4d97-9d46-2288dd99c3af   \n",
       "3       e2cde82b-8a94-4d97-9d46-2288dd99c3af   \n",
       "4       e2cde82b-8a94-4d97-9d46-2288dd99c3af   \n",
       "5       e2cde82b-8a94-4d97-9d46-2288dd99c3af   \n",
       "\n",
       "                        subscription_id                         deployment_id  \n",
       "0  cf423917-4e36-499b-be86-86729c7f974f  9c73141e-6197-4e29-ac94-794554f76477  \n",
       "1  cf423917-4e36-499b-be86-86729c7f974f  9c73141e-6197-4e29-ac94-794554f76477  \n",
       "2  cf423917-4e36-499b-be86-86729c7f974f  9c73141e-6197-4e29-ac94-794554f76477  \n",
       "3  cf423917-4e36-499b-be86-86729c7f974f  9c73141e-6197-4e29-ac94-794554f76477  \n",
       "4  cf423917-4e36-499b-be86-86729c7f974f  9c73141e-6197-4e29-ac94-794554f76477  \n",
       "5  cf423917-4e36-499b-be86-86729c7f974f  9c73141e-6197-4e29-ac94-794554f76477  "
      ]
     },
     "execution_count": 64,
     "metadata": {},
     "output_type": "execute_result"
    }
   ],
   "source": [
    "time.sleep(5)\n",
    "\n",
    "subscription.drift_monitoring.get_table_content()"
   ]
  },
  {
   "cell_type": "markdown",
   "metadata": {},
   "source": [
    "**Nota:** Puedes deshabilitar la monitorización del drift con el código de abajo\n"
   ]
  },
  {
   "cell_type": "raw",
   "metadata": {},
   "source": [
    "subscription.drift_monitoring.disable()"
   ]
  },
  {
   "cell_type": "markdown",
   "metadata": {},
   "source": [
    "## 5.6. Configurar la explicabilidad"
   ]
  },
  {
   "cell_type": "markdown",
   "metadata": {},
   "source": [
    "Finalmente, proporcionamos a OpenScale los datos de capacitación para habilitar y configurar las características explicables."
   ]
  },
  {
   "cell_type": "code",
   "execution_count": 65,
   "metadata": {
    "scrolled": true
   },
   "outputs": [],
   "source": [
    "from ibm_ai_openscale.supporting_classes import *\n",
    "\n",
    "subscription.explainability.enable(training_data=data_df.copy())"
   ]
  },
  {
   "cell_type": "code",
   "execution_count": 66,
   "metadata": {
    "scrolled": true
   },
   "outputs": [],
   "source": [
    "explainability_details = subscription.explainability.get_details()"
   ]
  },
  {
   "cell_type": "markdown",
   "metadata": {},
   "source": [
    "## 5.7. Ejecutamos la explicabilidad para uno de los registros"
   ]
  },
  {
   "cell_type": "code",
   "execution_count": 67,
   "metadata": {},
   "outputs": [
    {
     "name": "stdout",
     "output_type": "stream",
     "text": [
      "495ec5f1b673c2275a982b06ac43b23c-200\n"
     ]
    }
   ],
   "source": [
    "transaction_id = subscription.payload_logging.get_table_content(limit=1)['scoring_id'].values[0]\n",
    "\n",
    "print(transaction_id)"
   ]
  },
  {
   "cell_type": "code",
   "execution_count": 68,
   "metadata": {},
   "outputs": [
    {
     "name": "stdout",
     "output_type": "stream",
     "text": [
      "\n",
      "\n",
      "==================================================================\n",
      "\n",
      " Looking for explanation for 495ec5f1b673c2275a982b06ac43b23c-200 \n",
      "\n",
      "==================================================================\n",
      "\n",
      "\n",
      "\n",
      "in_progress....\n",
      "finished\n",
      "\n",
      "---------------------------\n",
      " Successfully finished run \n",
      "---------------------------\n",
      "\n",
      "\n"
     ]
    }
   ],
   "source": [
    "explain_run = subscription.explainability.run(transaction_id=transaction_id, background_mode=False)"
   ]
  },
  {
   "cell_type": "code",
   "execution_count": 69,
   "metadata": {},
   "outputs": [
    {
     "data": {
      "image/png": "[encoded data removed]",
      "text/plain": [
       "<matplotlib.figure.Figure at 0x7f84f02a6eb8>"
      ]
     },
     "metadata": {
      "needs_background": "light"
     },
     "output_type": "display_data"
    }
   ],
   "source": [
    "explain_result = pd.DataFrame.from_dict(explain_run['entity']['predictions'][0]['explanation_features'])\n",
    "explain_result.plot.barh(x='feature_name', y='weight', color='g', alpha=0.8);"
   ]
  },
  {
   "cell_type": "markdown",
   "metadata": {},
   "source": [
    "# -----------------------**CUARTA SECCIÓN**-----------------------------------------"
   ]
  },
  {
   "cell_type": "markdown",
   "metadata": {},
   "source": [
    "# 6. Creación de monitores y métricas custom <a name=\"custom\"></a>"
   ]
  },
  {
   "cell_type": "markdown",
   "metadata": {},
   "source": [
    "## 6.1. Registro de un monitor "
   ]
  },
  {
   "cell_type": "code",
   "execution_count": 70,
   "metadata": {},
   "outputs": [],
   "source": [
    "def get_definition(monitor_name):\n",
    "    monitors_definitions = ai_client.data_mart.monitors.get_details()['monitor_definitions']\n",
    "    \n",
    "    for definition in monitors_definitions:\n",
    "        if monitor_name == definition['entity']['name']:\n",
    "            return definition\n",
    "    \n",
    "    return None"
   ]
  },
  {
   "cell_type": "code",
   "execution_count": 71,
   "metadata": {},
   "outputs": [],
   "source": [
    "from ibm_ai_openscale.supporting_classes import Metric, Tag\n",
    "\n",
    "monitor_name = 'my model performance'\n",
    "metrics = [Metric(name='sensitivity', lower_limit_default=0.8), Metric(name='specificity', lower_limit_default=0.75)]\n",
    "tags = [Tag(name='region', description='customer geographical region')]\n",
    "\n",
    "existing_definition = get_definition(monitor_name)\n",
    "\n",
    "if existing_definition is None:\n",
    "    my_monitor = ai_client.data_mart.monitors.add(name=monitor_name, metrics=metrics, tags=tags)\n",
    "else:\n",
    "    my_monitor = existing_definition"
   ]
  },
  {
   "cell_type": "markdown",
   "metadata": {},
   "source": [
    "### Listamos monitores"
   ]
  },
  {
   "cell_type": "markdown",
   "metadata": {},
   "source": [
    "### Obtenemos los detalles de los monitores"
   ]
  },
  {
   "cell_type": "code",
   "execution_count": 72,
   "metadata": {},
   "outputs": [
    {
     "name": "stdout",
     "output_type": "stream",
     "text": [
      "my_model_performance\n"
     ]
    }
   ],
   "source": [
    "monitor_uid = my_monitor['metadata']['guid']\n",
    "\n",
    "print(monitor_uid)"
   ]
  },
  {
   "cell_type": "code",
   "execution_count": 73,
   "metadata": {},
   "outputs": [
    {
     "name": "stdout",
     "output_type": "stream",
     "text": [
      "monitor definition details {'entity': {'metrics': [{'expected_direction': 'increasing', 'id': 'sensitivity', 'name': 'sensitivity', 'required': True, 'thresholds': [{'default': 0.8, 'type': 'lower_limit'}]}, {'expected_direction': 'increasing', 'id': 'specificity', 'name': 'specificity', 'required': True, 'thresholds': [{'default': 0.75, 'type': 'lower_limit'}]}], 'name': 'my model performance', 'tags': [{'description': 'customer geographical region', 'id': 'region', 'name': 'region', 'required': True}]}, 'metadata': {'guid': 'my_model_performance', 'url': '/v1/data_marts/27d2155a-b202-44ac-955e-ee20b64f6c89/monitor_definitions/my_model_performance', 'created_at': '2020-01-29T14:56:07.255Z'}}\n"
     ]
    }
   ],
   "source": [
    "my_monitor = ai_client.data_mart.monitors.get_details(monitor_uid=monitor_uid)\n",
    "print('monitor definition details', my_monitor)"
   ]
  },
  {
   "cell_type": "markdown",
   "metadata": {},
   "source": [
    "## 6.2 Habilitamos los monitores custom para la suscripción"
   ]
  },
  {
   "cell_type": "code",
   "execution_count": 74,
   "metadata": {},
   "outputs": [],
   "source": [
    "from ibm_ai_openscale.supporting_classes import Threshold\n",
    "\n",
    "thresholds = [Threshold(metric_uid='sensitivity', lower_limit=0.9)]\n",
    "subscription.monitoring.enable(monitor_uid=monitor_uid, thresholds=thresholds)"
   ]
  },
  {
   "cell_type": "markdown",
   "metadata": {},
   "source": [
    "### Obtenemos los detalles del monitor"
   ]
  },
  {
   "cell_type": "code",
   "execution_count": 75,
   "metadata": {},
   "outputs": [
    {
     "data": {
      "text/plain": [
       "{'enabled': True,\n",
       " 'monitor_definition': {'entity': {'metrics': [{'expected_direction': 'increasing',\n",
       "     'id': 'sensitivity',\n",
       "     'name': 'sensitivity',\n",
       "     'required': True,\n",
       "     'thresholds': [{'default': 0.9, 'type': 'lower_limit'}]},\n",
       "    {'expected_direction': 'increasing',\n",
       "     'id': 'specificity',\n",
       "     'name': 'specificity',\n",
       "     'required': True}],\n",
       "   'name': 'my model performance',\n",
       "   'tags': [{'description': 'customer geographical region',\n",
       "     'id': 'region',\n",
       "     'name': 'region',\n",
       "     'required': True}]},\n",
       "  'metadata': {'guid': 'my_model_performance',\n",
       "   'url': '/v1/data_marts/27d2155a-b202-44ac-955e-ee20b64f6c89/monitor_definitions/my_model_performance',\n",
       "   'created_at': '2020-01-29T14:56:07.255Z'}},\n",
       " 'thresholds': [{'metric_id': 'sensitivity',\n",
       "   'type': 'lower_limit',\n",
       "   'value': 0.9}]}"
      ]
     },
     "execution_count": 75,
     "metadata": {},
     "output_type": "execute_result"
    }
   ],
   "source": [
    "subscription.monitoring.get_details(monitor_uid=monitor_uid)"
   ]
  },
  {
   "cell_type": "markdown",
   "metadata": {},
   "source": [
    "## 6.3. Almacenamos las métricas custom"
   ]
  },
  {
   "cell_type": "code",
   "execution_count": 76,
   "metadata": {},
   "outputs": [
    {
     "data": {
      "text/plain": [
       "[{'asset_id': '4034d109-a06d-4919-8bd2-01658aea8792',\n",
       "  'binding_id': 'e2cde82b-8a94-4d97-9d46-2288dd99c3af',\n",
       "  'measurement_id': 'b7622f0c-0bef-49db-bdc1-5f214015aac3',\n",
       "  'metrics': [{'region': 'us-south',\n",
       "    'sensitivity': 0.67,\n",
       "    'specificity': 0.78}],\n",
       "  'monitor_definition_id': 'my_model_performance',\n",
       "  'subscription_id': 'cf423917-4e36-499b-be86-86729c7f974f',\n",
       "  'timestamp': '2020-01-31T13:27:07.430865Z'}]"
      ]
     },
     "execution_count": 76,
     "metadata": {},
     "output_type": "execute_result"
    }
   ],
   "source": [
    "metrics = {\"specificity\": 0.78, \"sensitivity\": 0.67, \"region\": \"us-south\"}\n",
    "\n",
    "subscription.monitoring.store_metrics(monitor_uid=monitor_uid, metrics=metrics)"
   ]
  },
  {
   "cell_type": "markdown",
   "metadata": {},
   "source": [
    "### Listamos y obtenemos las métricas custom"
   ]
  },
  {
   "cell_type": "code",
   "execution_count": 1,
   "metadata": {},
   "outputs": [
    {
     "ename": "NameError",
     "evalue": "name 'time' is not defined",
     "output_type": "error",
     "traceback": [
      "\u001b[0;31m---------------------------------------------------------------------------\u001b[0m",
      "\u001b[0;31mNameError\u001b[0m                                 Traceback (most recent call last)",
      "\u001b[0;32m<ipython-input-1-f2cc1974c745>\u001b[0m in \u001b[0;36m<module>\u001b[0;34m\u001b[0m\n\u001b[0;32m----> 1\u001b[0;31m \u001b[0mtime\u001b[0m\u001b[0;34m.\u001b[0m\u001b[0msleep\u001b[0m\u001b[0;34m(\u001b[0m\u001b[0;36m5\u001b[0m\u001b[0;34m)\u001b[0m\u001b[0;34m\u001b[0m\u001b[0;34m\u001b[0m\u001b[0m\n\u001b[0m\u001b[1;32m      2\u001b[0m \u001b[0;34m\u001b[0m\u001b[0m\n\u001b[1;32m      3\u001b[0m \u001b[0msubscription\u001b[0m\u001b[0;34m.\u001b[0m\u001b[0mmonitoring\u001b[0m\u001b[0;34m.\u001b[0m\u001b[0mshow_table\u001b[0m\u001b[0;34m(\u001b[0m\u001b[0mmonitor_uid\u001b[0m\u001b[0;34m=\u001b[0m\u001b[0mmonitor_uid\u001b[0m\u001b[0;34m)\u001b[0m\u001b[0;34m\u001b[0m\u001b[0;34m\u001b[0m\u001b[0m\n",
      "\u001b[0;31mNameError\u001b[0m: name 'time' is not defined"
     ]
    }
   ],
   "source": [
    "time.sleep(5)\n",
    "\n",
    "subscription.monitoring.show_table(monitor_uid=monitor_uid)"
   ]
  },
  {
   "cell_type": "code",
   "execution_count": 78,
   "metadata": {},
   "outputs": [
    {
     "data": {
      "text/plain": [
       "[{'asset_id': '4034d109-a06d-4919-8bd2-01658aea8792',\n",
       "  'binding_id': 'e2cde82b-8a94-4d97-9d46-2288dd99c3af',\n",
       "  'tags': [{'id': 'region', 'value': 'us-south'}],\n",
       "  'ts': '2020-01-31T13:27:07.430865Z',\n",
       "  'measurement_id': 'b7622f0c-0bef-49db-bdc1-5f214015aac3',\n",
       "  'monitor_definition_id': 'my_model_performance',\n",
       "  'subscription_id': 'cf423917-4e36-499b-be86-86729c7f974f',\n",
       "  'metrics': [{'lower_limit': 0.9, 'id': 'sensitivity', 'value': 0.67},\n",
       "   {'id': 'specificity', 'value': 0.78}]}]"
      ]
     },
     "execution_count": 78,
     "metadata": {},
     "output_type": "execute_result"
    }
   ],
   "source": [
    "custom_metrics = subscription.monitoring.get_metrics(monitor_uid=monitor_uid, deployment_uid='credit')\n",
    "custom_metrics"
   ]
  },
  {
   "cell_type": "code",
   "execution_count": 79,
   "metadata": {},
   "outputs": [
    {
     "data": {
      "image/png": "[encoded data removed]",
      "text/plain": [
       "<matplotlib.figure.Figure at 0x7f84f0408518>"
      ]
     },
     "metadata": {
      "needs_background": "light"
     },
     "output_type": "display_data"
    }
   ],
   "source": [
    "custom_metrics_pandas = subscription.monitoring.get_table_content(monitor_uid=monitor_uid)\n",
    "\n",
    "%matplotlib inline\n",
    "custom_metrics_pandas.plot.barh(x='id', y='value');"
   ]
  },
  {
   "cell_type": "markdown",
   "metadata": {},
   "source": [
    "# Payload analytics <a name=\"analytics\"></a>"
   ]
  },
  {
   "cell_type": "markdown",
   "metadata": {},
   "source": [
    "## 7.1 Ejecutar cálculo de distribuciones"
   ]
  },
  {
   "cell_type": "code",
   "execution_count": 80,
   "metadata": {},
   "outputs": [
    {
     "name": "stdout",
     "output_type": "stream",
     "text": [
      "\n",
      "\n",
      "===============================================================================\n",
      "\n",
      " Waiting for end of data distribution run 3c8c38df-2bc1-4203-8955-93391694bdfe \n",
      "\n",
      "===============================================================================\n",
      "\n",
      "\n",
      "\n",
      "completed\n",
      "\n",
      "---------------------------\n",
      " Successfully finished run \n",
      "---------------------------\n",
      "\n",
      "\n"
     ]
    }
   ],
   "source": [
    "from datetime import datetime\n",
    "\n",
    "start_date = \"2018-01-01T00:00:00.00Z\"\n",
    "end_date = datetime.utcnow().isoformat() + \"Z\"\n",
    "\n",
    "sex_distribution = subscription.payload_logging.data_distribution.run(\n",
    "            start_date=start_date,\n",
    "            end_date=end_date,\n",
    "            group=['prediction', 'Sex'],\n",
    "            agg=['count'])"
   ]
  },
  {
   "cell_type": "markdown",
   "metadata": {},
   "source": [
    "## 7.2. Obtener las distribuciones como un pandas dataframe"
   ]
  },
  {
   "cell_type": "code",
   "execution_count": 81,
   "metadata": {},
   "outputs": [
    {
     "data": {
      "text/html": [
       "<div>\n",
       "<style scoped>\n",
       "    .dataframe tbody tr th:only-of-type {\n",
       "        vertical-align: middle;\n",
       "    }\n",
       "\n",
       "    .dataframe tbody tr th {\n",
       "        vertical-align: top;\n",
       "    }\n",
       "\n",
       "    .dataframe thead th {\n",
       "        text-align: right;\n",
       "    }\n",
       "</style>\n",
       "<table border=\"1\" class=\"dataframe\">\n",
       "  <thead>\n",
       "    <tr style=\"text-align: right;\">\n",
       "      <th></th>\n",
       "      <th>prediction</th>\n",
       "      <th>Sex</th>\n",
       "      <th>count</th>\n",
       "    </tr>\n",
       "  </thead>\n",
       "  <tbody>\n",
       "    <tr>\n",
       "      <th>0</th>\n",
       "      <td>No Risk</td>\n",
       "      <td>female</td>\n",
       "      <td>64</td>\n",
       "    </tr>\n",
       "    <tr>\n",
       "      <th>1</th>\n",
       "      <td>No Risk</td>\n",
       "      <td>male</td>\n",
       "      <td>96</td>\n",
       "    </tr>\n",
       "    <tr>\n",
       "      <th>2</th>\n",
       "      <td>Risk</td>\n",
       "      <td>female</td>\n",
       "      <td>6</td>\n",
       "    </tr>\n",
       "    <tr>\n",
       "      <th>3</th>\n",
       "      <td>Risk</td>\n",
       "      <td>male</td>\n",
       "      <td>42</td>\n",
       "    </tr>\n",
       "  </tbody>\n",
       "</table>\n",
       "</div>"
      ],
      "text/plain": [
       "  prediction     Sex  count\n",
       "0    No Risk  female     64\n",
       "1    No Risk    male     96\n",
       "2       Risk  female      6\n",
       "3       Risk    male     42"
      ]
     },
     "execution_count": 81,
     "metadata": {},
     "output_type": "execute_result"
    }
   ],
   "source": [
    "sex_distribution_run_uid = sex_distribution['id']\n",
    "distributions_pd = subscription.payload_logging.data_distribution.get_run_result(run_id=sex_distribution_run_uid, format='pandas')\n",
    "distributions_pd"
   ]
  },
  {
   "cell_type": "code",
   "execution_count": 82,
   "metadata": {},
   "outputs": [
    {
     "data": {
      "image/png": "[encoded data removed]",
      "text/plain": [
       "<matplotlib.figure.Figure at 0x7f84f04084e0>"
      ]
     },
     "metadata": {
      "needs_background": "light"
     },
     "output_type": "display_data"
    }
   ],
   "source": [
    "subscription.payload_logging.data_distribution.show_chart(sex_distribution_run_uid);"
   ]
  },
  {
   "cell_type": "code",
   "execution_count": 83,
   "metadata": {},
   "outputs": [
    {
     "name": "stdout",
     "output_type": "stream",
     "text": [
      "\n",
      "\n",
      "===============================================================================\n",
      "\n",
      " Waiting for end of data distribution run db1fc058-4512-4c17-8827-c958101790ab \n",
      "\n",
      "===============================================================================\n",
      "\n",
      "\n",
      "\n",
      "completed\n",
      "\n",
      "---------------------------\n",
      " Successfully finished run \n",
      "---------------------------\n",
      "\n",
      "\n"
     ]
    }
   ],
   "source": [
    "credit_history_distribution = subscription.payload_logging.data_distribution.run(\n",
    "            start_date=start_date,\n",
    "            end_date=end_date,\n",
    "            group=['prediction', 'CreditHistory'],\n",
    "            agg=['count'])"
   ]
  },
  {
   "cell_type": "code",
   "execution_count": 84,
   "metadata": {},
   "outputs": [
    {
     "data": {
      "image/png": "[encoded data removed]",
      "text/plain": [
       "<matplotlib.figure.Figure at 0x7f84f02e8550>"
      ]
     },
     "metadata": {
      "needs_background": "light"
     },
     "output_type": "display_data"
    }
   ],
   "source": [
    "credit_history_distribution_run_uid = credit_history_distribution['id']\n",
    "\n",
    "subscription.payload_logging.data_distribution.show_chart(credit_history_distribution_run_uid);"
   ]
  },
  {
   "cell_type": "markdown",
   "metadata": {},
   "source": [
    "# 8. Business Application <a name=\"application\"></a>"
   ]
  },
  {
   "cell_type": "code",
   "execution_count": 85,
   "metadata": {},
   "outputs": [],
   "source": [
    "from ibm_ai_openscale.supporting_classes import BusinessMetric, AggregationMethods"
   ]
  },
  {
   "cell_type": "markdown",
   "metadata": {},
   "source": [
    "En las celdas siguientes, los \"business payload fields\" y las \"business metrics\" se describen para su aplicación. `business payload fields` es una lista de columnas de carga útil empresarial cargadas al final de la sección\" Datos históricos \". `business metrics` define métricas (BKPI) que se calcularán en la aplicación creada. La aplicación se ejecuta en [sección] (# run_application) después de cargar datos históricos."
   ]
  },
  {
   "cell_type": "code",
   "execution_count": 86,
   "metadata": {},
   "outputs": [],
   "source": [
    "business_payload_fields = [\n",
    "                {\n",
    "                    \"name\": \"LoanDuration\",\n",
    "                    \"type\": \"number\",\n",
    "                    \"description\": \"Duration of the loan\"\n",
    "                },\n",
    "                {\n",
    "                    \"name\": \"LoanPurpose\",\n",
    "                    \"type\": \"string\",\n",
    "                    \"description\": \"Purpose of the loan\"\n",
    "                },\n",
    "                {\n",
    "                    \"name\": \"LoanAmount\",\n",
    "                    \"type\": \"number\",\n",
    "                    \"description\": \"Amount of the loan\"\n",
    "                },\n",
    "                {\n",
    "                    \"name\": \"InstallmentPercent\",\n",
    "                    \"type\": \"number\",\n",
    "                    \"description\": \"Installment percents\"\n",
    "                },\n",
    "                {\n",
    "                    \"name\": \"AcceptedPercent\",\n",
    "                    \"type\": \"number\"\n",
    "                },\n",
    "                {\n",
    "                    \"name\": \"AmountGranted\",\n",
    "                    \"type\": \"number\",\n",
    "                    \"description\": \"Risk percent\"\n",
    "                },\n",
    "                {\n",
    "                    \"name\": \"Accepted\",\n",
    "                    \"type\": \"number\",\n",
    "                    \"description\": \"Number of loans accepted\"\n",
    "                }\n",
    "            ]"
   ]
  },
  {
   "cell_type": "code",
   "execution_count": 87,
   "metadata": {},
   "outputs": [],
   "source": [
    "business_metrics = [BusinessMetric(metric_name='Accepted Credits', description=\"Accepted Credits Daily\",\n",
    "                                           field_name='Accepted', aggregation=AggregationMethods.SUM,\n",
    "                                   time_unit='day', time_count=1, lower_limit=2150),\n",
    "                    BusinessMetric(metric_name='Credit Amount Granted', description=\"Credit Amount Granted Daily\",\n",
    "                                   field_name='AmountGranted', aggregation=AggregationMethods.SUM,\n",
    "                                   time_unit='day', time_count=1, lower_limit=5500000)]"
   ]
  },
  {
   "cell_type": "markdown",
   "metadata": {},
   "source": [
    "## 8.1 Añadir las aplicaciones de negocio"
   ]
  },
  {
   "cell_type": "code",
   "execution_count": 89,
   "metadata": {},
   "outputs": [],
   "source": [
    "application_details = ai_client.data_mart.applications.add(name=\"Tutorial Credit Risk Application\",\n",
    "                                                           description=\"Tutorial Business Application\",\n",
    "                                                           subscription_ids=[subscription.uid],\n",
    "                                                           business_metrics=business_metrics,\n",
    "                                                           payload_schema=business_payload_fields)\n",
    "application_id = application_details['metadata']['id']"
   ]
  },
  {
   "cell_type": "code",
   "execution_count": 90,
   "metadata": {},
   "outputs": [
    {
     "name": "stdout",
     "output_type": "stream",
     "text": [
      "13:27:24 preparing\n",
      "Final application status: active\n"
     ]
    }
   ],
   "source": [
    "while application_details['entity']['status']['state'] == 'preparing':\n",
    "    print(datetime.utcnow().strftime('%H:%M:%S'), application_details['entity']['status']['state'] )\n",
    "    time.sleep(10)\n",
    "    application_details = ai_client.data_mart.applications.get_details(application_id)\n",
    "print(\"Final application status: {}\".format(application_details['entity']['status']['state']) )"
   ]
  },
  {
   "cell_type": "markdown",
   "metadata": {},
   "source": [
    "# 9. Datos históricos<a name=\"historical\"></a>"
   ]
  },
  {
   "cell_type": "code",
   "execution_count": 94,
   "metadata": {},
   "outputs": [],
   "source": [
    "historyDays = 7"
   ]
  },
  {
   "cell_type": "markdown",
   "metadata": {},
   "source": [
    " ## 9.1. Insertamos datos históricos"
   ]
  },
  {
   "cell_type": "markdown",
   "metadata": {},
   "source": [
    "La siguiente sección del notebook descarga y escribe datos históricos en las tablas de carga y medición para simular un modelo de producción que ha sido monitoreado y que recibe tráfico regular durante los últimos siete días. Estos datos históricos se pueden ver en la interfaz de usuario de Watson OpenScale. El código usa las API Python y REST para escribir estos datos."
   ]
  },
  {
   "cell_type": "code",
   "execution_count": 95,
   "metadata": {
    "scrolled": false
   },
   "outputs": [
    {
     "name": "stdout",
     "output_type": "stream",
     "text": [
      "-rw-r----- 1 dsxuser dsxuser 2.2M Jan 31 09:13 history_payloads_with_transaction_id_scikit_0.json\n",
      "-rw-r----- 1 dsxuser dsxuser 2.2M Jan 31 09:13 history_payloads_with_transaction_id_scikit_1.json\n",
      "-rw-r----- 1 dsxuser dsxuser 2.2M Jan 31 09:13 history_payloads_with_transaction_id_scikit_2.json\n",
      "-rw-r----- 1 dsxuser dsxuser 2.3M Jan 31 09:13 history_payloads_with_transaction_id_scikit_3.json\n",
      "-rw-r----- 1 dsxuser dsxuser 2.2M Jan 31 09:13 history_payloads_with_transaction_id_scikit_4.json\n",
      "-rw-r----- 1 dsxuser dsxuser 2.2M Jan 31 09:13 history_payloads_with_transaction_id_scikit_5.json\n",
      "-rw-r----- 1 dsxuser dsxuser 2.2M Jan 31 09:13 history_payloads_with_transaction_id_scikit_6.json\n"
     ]
    }
   ],
   "source": [
    "with io.capture_output() as captured:\n",
    "    !wget https://raw.githubusercontent.com/pmservice/ai-openscale-tutorials/master/assets/historical_data/german_credit_risk/scikit-learn/history_payloads_with_transaction_id_scikit_0.json\n",
    "    !wget https://raw.githubusercontent.com/pmservice/ai-openscale-tutorials/master/assets/historical_data/german_credit_risk/scikit-learn/history_payloads_with_transaction_id_scikit_1.json\n",
    "    !wget https://raw.githubusercontent.com/pmservice/ai-openscale-tutorials/master/assets/historical_data/german_credit_risk/scikit-learn/history_payloads_with_transaction_id_scikit_2.json\n",
    "    !wget https://raw.githubusercontent.com/pmservice/ai-openscale-tutorials/master/assets/historical_data/german_credit_risk/scikit-learn/history_payloads_with_transaction_id_scikit_3.json\n",
    "    !wget https://raw.githubusercontent.com/pmservice/ai-openscale-tutorials/master/assets/historical_data/german_credit_risk/scikit-learn/history_payloads_with_transaction_id_scikit_4.json\n",
    "    !wget https://raw.githubusercontent.com/pmservice/ai-openscale-tutorials/master/assets/historical_data/german_credit_risk/scikit-learn/history_payloads_with_transaction_id_scikit_5.json\n",
    "    !wget https://raw.githubusercontent.com/pmservice/ai-openscale-tutorials/master/assets/historical_data/german_credit_risk/scikit-learn/history_payloads_with_transaction_id_scikit_6.json\n",
    "\n",
    "!ls -lh history_payloads_with_transaction_id_scikit_*.json"
   ]
  },
  {
   "cell_type": "code",
   "execution_count": 96,
   "metadata": {
    "scrolled": false
   },
   "outputs": [
    {
     "name": "stdout",
     "output_type": "stream",
     "text": [
      "Loading historical scoring payload...\n",
      "Day 0 injection.\n",
      "Daily loading finished.\n",
      "Day 1 injection.\n",
      "Daily loading finished.\n",
      "Day 2 injection.\n",
      "Daily loading finished.\n",
      "Day 3 injection.\n",
      "Daily loading finished.\n",
      "Day 4 injection.\n",
      "Daily loading finished.\n",
      "Day 5 injection.\n",
      "Daily loading finished.\n",
      "Day 6 injection.\n",
      "Daily loading finished.\n"
     ]
    }
   ],
   "source": [
    "from ibm_ai_openscale.utils.inject_demo_data import DemoData\n",
    "import os\n",
    "\n",
    "historicalData = DemoData(aios_credentials=WOS_CREDENTIALS)\n",
    "historical_data_path=os.getcwd()\n",
    "\n",
    "historicalData.load_historical_scoring_payload(subscription, deployment_uid,file_path=historical_data_path, day_template=\"history_payloads_with_transaction_id_scikit_{}.json\" )"
   ]
  },
  {
   "cell_type": "code",
   "execution_count": 97,
   "metadata": {
    "scrolled": true
   },
   "outputs": [
    {
     "name": "stdout",
     "output_type": "stream",
     "text": [
      "27d2155a-b202-44ac-955e-ee20b64f6c89\n"
     ]
    }
   ],
   "source": [
    "data_mart_id = subscription.get_details()['metadata']['url'].split('/service_bindings')[0].split('marts/')[1]\n",
    "print(data_mart_id)"
   ]
  },
  {
   "cell_type": "code",
   "execution_count": 98,
   "metadata": {
    "scrolled": true
   },
   "outputs": [
    {
     "name": "stdout",
     "output_type": "stream",
     "text": [
      "https://api.aiopenscale.cloud.ibm.com/v1/data_marts/27d2155a-b202-44ac-955e-ee20b64f6c89/metrics\n"
     ]
    }
   ],
   "source": [
    "performance_metrics_url = WOS_CREDENTIALS['url'] + subscription.get_details()['metadata']['url'].split('/service_bindings')[0] + '/metrics'\n",
    "print(performance_metrics_url)"
   ]
  },
  {
   "cell_type": "markdown",
   "metadata": {},
   "source": [
    "## Insertamos datos históricos de fairness"
   ]
  },
  {
   "cell_type": "code",
   "execution_count": 99,
   "metadata": {},
   "outputs": [
    {
     "name": "stdout",
     "output_type": "stream",
     "text": [
      "-rw-r----- 1 dsxuser dsxuser 1.4M Jan 31 09:15 history_fairness.json\n"
     ]
    }
   ],
   "source": [
    "with io.capture_output() as captured:\n",
    "    !wget https://raw.githubusercontent.com/pmservice/ai-openscale-tutorials/master/assets/historical_data/german_credit_risk/wml/history_fairness.json\n",
    "!ls -lh history_fairness.json"
   ]
  },
  {
   "cell_type": "code",
   "execution_count": 100,
   "metadata": {},
   "outputs": [
    {
     "name": "stdout",
     "output_type": "stream",
     "text": [
      "Loading day 1\n",
      "Loading day 2\n",
      "Loading day 3\n",
      "Loading day 4\n",
      "Loading day 5\n",
      "Loading day 6\n",
      "Loading day 7\n",
      "Finished\n"
     ]
    }
   ],
   "source": [
    "import datetime\n",
    "\n",
    "with open('history_fairness.json', 'r') as history_file:\n",
    "    payloads = json.load(history_file)\n",
    "\n",
    "for day in range(historyDays):\n",
    "    print('Loading day', day + 1)\n",
    "    metrics = []\n",
    "    \n",
    "    for hour in range(24):\n",
    "        score_time = (datetime.datetime.utcnow() + datetime.timedelta(hours=(-(24*day + hour + 1)))).strftime('%Y-%m-%dT%H:%M:%SZ')\n",
    "        index = (day * 24 + hour) % len(payloads) # wrap around and reuse values if needed\n",
    "        \n",
    "        metric = {\n",
    "            'metric_type': 'fairness',\n",
    "            'binding_id': binding_uid,\n",
    "            'timestamp': score_time,\n",
    "            'subscription_id': model_uid,\n",
    "            'asset_revision': model_uid,\n",
    "            'deployment_id': deployment_uid,\n",
    "            'value': payloads[index]\n",
    "        }\n",
    "        metrics.append(metric)\n",
    "    response = requests.post(performance_metrics_url, json=metrics, headers=ai_client._get_headers())\n",
    "print('Finished')"
   ]
  },
  {
   "cell_type": "markdown",
   "metadata": {},
   "source": [
    "## Insertamos métricas históricas de mitigación de sesgos"
   ]
  },
  {
   "cell_type": "code",
   "execution_count": 101,
   "metadata": {},
   "outputs": [
    {
     "name": "stdout",
     "output_type": "stream",
     "text": [
      "-rw-r----- 1 dsxuser dsxuser 553K Jan 31 13:28 history_debias.json\n"
     ]
    }
   ],
   "source": [
    "with io.capture_output() as captured:\n",
    "    !wget https://raw.githubusercontent.com/pmservice/ai-openscale-tutorials/master/assets/historical_data/german_credit_risk/wml/history_debias.json -O history_debias.json\n",
    "!ls -lh history_debias.json"
   ]
  },
  {
   "cell_type": "code",
   "execution_count": 102,
   "metadata": {},
   "outputs": [
    {
     "name": "stdout",
     "output_type": "stream",
     "text": [
      "Loading day 1\n",
      "Loading day 2\n",
      "Loading day 3\n",
      "Loading day 4\n",
      "Loading day 5\n",
      "Loading day 6\n",
      "Loading day 7\n",
      "Finished\n"
     ]
    }
   ],
   "source": [
    "with open('history_debias.json', 'r') as history_file:\n",
    "    payloads = json.load(history_file)\n",
    "\n",
    "for day in range(historyDays):\n",
    "    print('Loading day', day + 1)\n",
    "    debias_metrics = []\n",
    "    for hour in range(24):\n",
    "        score_time = (datetime.datetime.utcnow() + datetime.timedelta(hours=(-(24*day + hour + 1)))).strftime('%Y-%m-%dT%H:%M:%SZ')\n",
    "        index = (day * 24 + hour) % len(payloads) # wrap around and reuse values if needed\n",
    "\n",
    "        debiasMetric = {\n",
    "            'metric_type': 'debiased_fairness',\n",
    "            'binding_id': binding_uid,\n",
    "            'timestamp': score_time,\n",
    "            'subscription_id': model_uid,\n",
    "            'asset_revision': model_uid,\n",
    "            'deployment_id': deployment_uid,\n",
    "            'value': payloads[index]\n",
    "        }\n",
    "\n",
    "        debias_metrics.append(debiasMetric)\n",
    "    response = requests.post(performance_metrics_url, json=debias_metrics, headers=ai_client._get_headers())\n",
    "print('Finished')"
   ]
  },
  {
   "cell_type": "markdown",
   "metadata": {},
   "source": [
    "## Insertamos métricas históricas de calidad"
   ]
  },
  {
   "cell_type": "code",
   "execution_count": 103,
   "metadata": {
    "scrolled": true
   },
   "outputs": [
    {
     "name": "stdout",
     "output_type": "stream",
     "text": [
      "Day 1\n",
      "Day 2\n",
      "Day 3\n",
      "Day 4\n",
      "Day 5\n",
      "Day 6\n",
      "Day 7\n",
      "Finished\n"
     ]
    }
   ],
   "source": [
    "measurements = [0.76, 0.78, 0.68, 0.72, 0.73, 0.77, 0.80]\n",
    "for day in range(historyDays):\n",
    "    quality_metrics = []\n",
    "    print('Day', day + 1)\n",
    "    for hour in range(24):\n",
    "        score_time = (datetime.datetime.utcnow() + datetime.timedelta(hours=(-(24*day + hour + 1)))).strftime('%Y-%m-%dT%H:%M:%SZ')\n",
    "        qualityMetric = {\n",
    "            'metric_type': 'quality',\n",
    "            'binding_id': binding_uid,\n",
    "            'timestamp': score_time,\n",
    "            'subscription_id': model_uid,\n",
    "            'asset_revision': model_uid,\n",
    "            'deployment_id': deployment_uid,\n",
    "            'value': {\n",
    "                'quality': measurements[day],\n",
    "                'threshold': 0.7,\n",
    "                'metrics': [\n",
    "                    {\n",
    "                        'name': 'auroc',\n",
    "                        'value': measurements[day],\n",
    "                        'threshold': 0.7\n",
    "                    }\n",
    "                ]\n",
    "            }\n",
    "        }\n",
    "        \n",
    "        quality_metrics.append(qualityMetric)\n",
    "    \n",
    "    response = requests.post(performance_metrics_url, json=quality_metrics, headers=ai_client._get_headers())\n",
    "\n",
    "print('Finished')"
   ]
  },
  {
   "cell_type": "markdown",
   "metadata": {},
   "source": [
    "## Insertamos matrices de confusión históricas"
   ]
  },
  {
   "cell_type": "code",
   "execution_count": 104,
   "metadata": {},
   "outputs": [
    {
     "name": "stdout",
     "output_type": "stream",
     "text": [
      "-rw-r----- 1 dsxuser dsxuser 79K Jan 31 13:28 history_quality_metrics.json\n"
     ]
    }
   ],
   "source": [
    "with io.capture_output() as captured:\n",
    "    !wget https://raw.githubusercontent.com/pmservice/ai-openscale-tutorials/master/assets/historical_data/german_credit_risk/wml/history_quality_metrics.json -O history_quality_metrics.json\n",
    "!ls -lh history_quality_metrics.json"
   ]
  },
  {
   "cell_type": "code",
   "execution_count": 105,
   "metadata": {},
   "outputs": [
    {
     "name": "stdout",
     "output_type": "stream",
     "text": [
      "https://api.aiopenscale.cloud.ibm.com/v1/data_marts/27d2155a-b202-44ac-955e-ee20b64f6c89/measurements\n"
     ]
    }
   ],
   "source": [
    "measurements_url = WOS_CREDENTIALS['url'] + subscription.get_details()['metadata']['url'].split('/service_bindings')[0] + '/measurements'\n",
    "print(measurements_url)"
   ]
  },
  {
   "cell_type": "code",
   "execution_count": 106,
   "metadata": {},
   "outputs": [
    {
     "name": "stdout",
     "output_type": "stream",
     "text": [
      "Day 1\n",
      "Day 2\n",
      "Day 3\n",
      "Day 4\n",
      "Day 5\n",
      "Day 6\n",
      "Day 7\n",
      "Finished\n"
     ]
    }
   ],
   "source": [
    "with open('history_quality_metrics.json') as json_file:\n",
    "    records = json.load(json_file)\n",
    "    \n",
    "for day in range(historyDays):\n",
    "    index = 0\n",
    "    measurments = []\n",
    "    print('Day', day + 1)\n",
    "    \n",
    "    for hour in range(24):\n",
    "        score_time = (datetime.datetime.utcnow() + datetime.timedelta(hours=(-(24*day + hour + 1)))).strftime('%Y-%m-%dT%H:%M:%SZ')\n",
    "\n",
    "        measurement = {\n",
    "            \"monitor_definition_id\": 'quality',\n",
    "            \"binding_id\": subscription.binding_uid,\n",
    "            \"subscription_id\": subscription.uid,\n",
    "            \"asset_id\": subscription.source_uid,\n",
    "            'metrics': [records[index]['metrics']],\n",
    "            'sources': [records[index]['sources']],\n",
    "            'timestamp': score_time\n",
    "        }\n",
    "\n",
    "        measurments.append(measurement)\n",
    "        index+=1\n",
    "\n",
    "    response = requests.post(measurements_url, json=measurments, headers=ai_client._get_headers())\n",
    "\n",
    "print('Finished')"
   ]
  },
  {
   "cell_type": "markdown",
   "metadata": {},
   "source": [
    "## Insertamos medidas de rendimiento históricas"
   ]
  },
  {
   "cell_type": "code",
   "execution_count": 107,
   "metadata": {},
   "outputs": [
    {
     "name": "stdout",
     "output_type": "stream",
     "text": [
      "Day 1\n",
      "Day 2\n",
      "Day 3\n",
      "Day 4\n",
      "Day 5\n",
      "Day 6\n",
      "Day 7\n",
      "Finished\n"
     ]
    }
   ],
   "source": [
    "for day in range(historyDays):\n",
    "    performance_metrics = []\n",
    "    print('Day', day + 1)\n",
    "    for hour in range(24):\n",
    "        score_time = (datetime.datetime.utcnow() + datetime.timedelta(hours=(-(24*day + hour + 1)))).strftime('%Y-%m-%dT%H:%M:%SZ')\n",
    "        score_count = random.randint(60, 600)\n",
    "        score_resp = random.uniform(60, 300)\n",
    "\n",
    "        performanceMetric = {\n",
    "            'metric_type': 'performance',\n",
    "            'binding_id': binding_uid,\n",
    "            'timestamp': score_time,\n",
    "            'subscription_id': model_uid,\n",
    "            'asset_revision': model_uid,\n",
    "            'deployment_id': deployment_uid,\n",
    "            'value': {\n",
    "                'response_time': score_resp,\n",
    "                'records': score_count\n",
    "            }\n",
    "        }\n",
    "        performance_metrics.append(performanceMetric)\n",
    "\n",
    "    response = requests.post(performance_metrics_url, json=performance_metrics, headers=ai_client._get_headers())\n",
    "\n",
    "print('Finished')"
   ]
  },
  {
   "cell_type": "markdown",
   "metadata": {},
   "source": [
    "## Insertamos etiquetas manuales históricas"
   ]
  },
  {
   "cell_type": "code",
   "execution_count": 108,
   "metadata": {},
   "outputs": [
    {
     "name": "stdout",
     "output_type": "stream",
     "text": [
      "https://api.aiopenscale.cloud.ibm.com/v1/data_marts/27d2155a-b202-44ac-955e-ee20b64f6c89/manual_labelings\n"
     ]
    }
   ],
   "source": [
    "manual_labeling_url = WOS_CREDENTIALS['url'] + subscription.get_details()['metadata']['url'].split('/service_bindings')[0] + '/manual_labelings'\n",
    "print(manual_labeling_url)"
   ]
  },
  {
   "cell_type": "code",
   "execution_count": 109,
   "metadata": {},
   "outputs": [
    {
     "name": "stdout",
     "output_type": "stream",
     "text": [
      "-rw-r----- 1 dsxuser dsxuser 926K Jan 31 13:28 history_manual_labeling.json\n"
     ]
    }
   ],
   "source": [
    "with io.capture_output() as captured:\n",
    "    !wget https://raw.githubusercontent.com/pmservice/ai-openscale-tutorials/master/assets/historical_data/german_credit_risk/wml/history_manual_labeling.json -O history_manual_labeling.json\n",
    "!ls -lh history_manual_labeling.json"
   ]
  },
  {
   "cell_type": "code",
   "execution_count": 110,
   "metadata": {},
   "outputs": [
    {
     "name": "stdout",
     "output_type": "stream",
     "text": [
      "Loading day 1\n",
      "Loading day 2\n",
      "Loading day 3\n",
      "Loading day 4\n",
      "Loading day 5\n",
      "Loading day 6\n",
      "Loading day 7\n",
      "Finished\n"
     ]
    }
   ],
   "source": [
    "with open('history_manual_labeling.json', 'r') as history_file:\n",
    "    records = json.load(history_file)\n",
    "\n",
    "for day in range(historyDays):\n",
    "    print('Loading day', day + 1)\n",
    "    record_json = []\n",
    "    for hour in range(24):\n",
    "        for record in records:\n",
    "            if record['fastpath_history_day'] == day and record['fastpath_history_hour'] == hour:\n",
    "                record['binding_id'] = binding_uid\n",
    "                record['subscription_id'] = model_uid\n",
    "                record['asset_revision'] = model_uid\n",
    "                record['deployment_id'] = deployment_uid\n",
    "                record['scoring_timestamp'] = (datetime.datetime.utcnow() + datetime.timedelta(hours=(-(24*day + hour + 1)))).strftime('%Y-%m-%dT%H:%M:%SZ')\n",
    "                record_json.append(record)\n",
    "    response = requests.post(manual_labeling_url, json=record_json, headers=ai_client._get_headers())\n",
    "\n",
    "print('Finished')"
   ]
  },
  {
   "cell_type": "markdown",
   "metadata": {},
   "source": [
    "## Insertamos medidas de drift históricas"
   ]
  },
  {
   "cell_type": "code",
   "execution_count": 111,
   "metadata": {},
   "outputs": [
    {
     "name": "stdout",
     "output_type": "stream",
     "text": [
      "-rw-r----- 1 dsxuser dsxuser 832K Jan 31 09:18 history_drift_measurement_0.json\n",
      "-rw-r----- 1 dsxuser dsxuser 868K Jan 31 09:18 history_drift_measurement_1.json\n",
      "-rw-r----- 1 dsxuser dsxuser 870K Jan 31 09:18 history_drift_measurement_2.json\n",
      "-rw-r----- 1 dsxuser dsxuser 910K Jan 31 09:18 history_drift_measurement_3.json\n",
      "-rw-r----- 1 dsxuser dsxuser 841K Jan 31 09:18 history_drift_measurement_4.json\n",
      "-rw-r----- 1 dsxuser dsxuser 836K Jan 31 09:18 history_drift_measurement_5.json\n",
      "-rw-r----- 1 dsxuser dsxuser 840K Jan 31 09:18 history_drift_measurement_6.json\n"
     ]
    }
   ],
   "source": [
    "with io.capture_output() as captured:\n",
    "    !wget https://raw.githubusercontent.com/pmservice/ai-openscale-tutorials/master/assets/historical_data/german_credit_risk/wos/history_drift_measurement_0.json\n",
    "    !wget https://raw.githubusercontent.com/pmservice/ai-openscale-tutorials/master/assets/historical_data/german_credit_risk/wos/history_drift_measurement_1.json\n",
    "    !wget https://raw.githubusercontent.com/pmservice/ai-openscale-tutorials/master/assets/historical_data/german_credit_risk/wos/history_drift_measurement_2.json\n",
    "    !wget https://raw.githubusercontent.com/pmservice/ai-openscale-tutorials/master/assets/historical_data/german_credit_risk/wos/history_drift_measurement_3.json\n",
    "    !wget https://raw.githubusercontent.com/pmservice/ai-openscale-tutorials/master/assets/historical_data/german_credit_risk/wos/history_drift_measurement_4.json\n",
    "    !wget https://raw.githubusercontent.com/pmservice/ai-openscale-tutorials/master/assets/historical_data/german_credit_risk/wos/history_drift_measurement_5.json\n",
    "    !wget https://raw.githubusercontent.com/pmservice/ai-openscale-tutorials/master/assets/historical_data/german_credit_risk/wos/history_drift_measurement_6.json\n",
    "!ls -lh history_drift_measurement_*.json"
   ]
  },
  {
   "cell_type": "code",
   "execution_count": 112,
   "metadata": {},
   "outputs": [
    {
     "name": "stdout",
     "output_type": "stream",
     "text": [
      "https://api.aiopenscale.cloud.ibm.com/v1/data_marts/27d2155a-b202-44ac-955e-ee20b64f6c89/measurements\n"
     ]
    }
   ],
   "source": [
    "print(measurements_url)"
   ]
  },
  {
   "cell_type": "code",
   "execution_count": 113,
   "metadata": {},
   "outputs": [
    {
     "name": "stdout",
     "output_type": "stream",
     "text": [
      "Loading day 1\n",
      "Daily loading finished.\n",
      "Loading day 2\n",
      "Daily loading finished.\n",
      "Loading day 3\n",
      "Daily loading finished.\n",
      "Loading day 4\n",
      "Daily loading finished.\n",
      "Loading day 5\n",
      "Daily loading finished.\n",
      "Loading day 6\n",
      "Daily loading finished.\n",
      "Loading day 7\n",
      "Daily loading finished.\n"
     ]
    }
   ],
   "source": [
    "for day in range(historyDays):\n",
    "    measurements = []\n",
    "\n",
    "    with open(\"history_drift_measurement_{}.json\".format(day), 'r') as history_file:\n",
    "        drift_daily_measurements = json.load(history_file)\n",
    "    print('Loading day', day + 1)\n",
    "\n",
    "    #Historical data contains 8 records per day - each represents 3 hour drift window.\n",
    "    \n",
    "    for nb_window, records in enumerate(drift_daily_measurements):\n",
    "        for record in records:\n",
    "            window_start =  (datetime.datetime.utcnow() + datetime.timedelta(hours=(-(24 * day + (nb_window+1)*3 + 1)))).strftime('%Y-%m-%dT%H:%M:%SZ') # first_payload_record_timestamp_in_window (oldest)\n",
    "            window_end = (datetime.datetime.utcnow() + datetime.timedelta(hours=(-(24 * day + nb_window*3 + 1)))).strftime('%Y-%m-%dT%H:%M:%SZ')# last_payload_record_timestamp_in_window (most recent)\n",
    "            #modify start and end time for each record\n",
    "            record['sources'][0]['data']['start'] = window_start\n",
    "            record['sources'][0]['data']['end'] = window_end\n",
    "            \n",
    "            measurement = {\n",
    "                \"monitor_definition_id\": \"drift\",\n",
    "                \"binding_id\": subscription.binding_uid,\n",
    "                \"subscription_id\": subscription.uid,\n",
    "                \"asset_id\": subscription.source_uid,\n",
    "                'metrics': record['metrics'],\n",
    "                'sources': record['sources'],\n",
    "                'timestamp': window_start,\n",
    "                'process': 'Drift run for subscription_{}'.format(subscription.uid)\n",
    "            }\n",
    "\n",
    "            measurements.append(measurement)\n",
    "    response = requests.post(measurements_url, json=measurements, headers=ai_client._get_headers())\n",
    "    print(\"Daily loading finished.\")"
   ]
  },
  {
   "cell_type": "markdown",
   "metadata": {},
   "source": [
    "## Insertamos payload de negocio"
   ]
  },
  {
   "cell_type": "markdown",
   "metadata": {},
   "source": [
    "Following section triggers two minute waiting for all historical records to be loaded succesfully.\n"
   ]
  },
  {
   "cell_type": "code",
   "execution_count": 114,
   "metadata": {},
   "outputs": [
    {
     "name": "stdout",
     "output_type": "stream",
     "text": [
      "-rw-r----- 1 dsxuser dsxuser 1.6M Jan 31 13:28 history_business_payloads_week.csv\n"
     ]
    }
   ],
   "source": [
    "with io.capture_output() as captured:\n",
    "    !wget https://raw.githubusercontent.com/pmservice/ai-openscale-tutorials/master/assets/historical_data/german_credit_risk/wml/history_business_payloads_week.csv -O history_business_payloads_week.csv\n",
    "!ls -lh history_business_payloads_week.csv"
   ]
  },
  {
   "cell_type": "code",
   "execution_count": 115,
   "metadata": {},
   "outputs": [],
   "source": [
    "business_payload_data_set_id = application_details['entity']['business_payload_data_set_id']\n",
    "\n",
    "historicalData.load_historical_business_payload(business_payload_data_set_id, file_path=historical_data_path, file_name=\"history_business_payloads_week.csv\")\n",
    "time.sleep(120)"
   ]
  },
  {
   "cell_type": "markdown",
   "metadata": {},
   "source": [
    "**Note:** Now in business payload table should be total 20160 records."
   ]
  },
  {
   "cell_type": "code",
   "execution_count": 116,
   "metadata": {},
   "outputs": [
    {
     "name": "stdout",
     "output_type": "stream",
     "text": [
      "Number of records in business payload table:  20160\n"
     ]
    }
   ],
   "source": [
    "print('Number of records in business payload table: ', ai_client.data_mart.applications.get_business_payload_records_count(application_id))"
   ]
  },
  {
   "cell_type": "markdown",
   "metadata": {},
   "source": [
    "# 10. Ejecutamos la aplicación de negocio  <a id=\"run_application\"></a>"
   ]
  },
  {
   "cell_type": "code",
   "execution_count": 117,
   "metadata": {},
   "outputs": [],
   "source": [
    "run_details = ai_client.data_mart.applications.run(application_id)"
   ]
  },
  {
   "cell_type": "markdown",
   "metadata": {},
   "source": [
    "## Datos adicionales que nos van a ayudar a depurar"
   ]
  },
  {
   "cell_type": "code",
   "execution_count": 118,
   "metadata": {
    "scrolled": true
   },
   "outputs": [
    {
     "name": "stdout",
     "output_type": "stream",
     "text": [
      "Datamart: 27d2155a-b202-44ac-955e-ee20b64f6c89\n",
      "Model: 4034d109-a06d-4919-8bd2-01658aea8792\n",
      "Deployment: 9c73141e-6197-4e29-ac94-794554f76477\n",
      "Binding: e2cde82b-8a94-4d97-9d46-2288dd99c3af\n",
      "Scoring URL: https://us-south.ml.cloud.ibm.com/v3/wml_instances/e2cde82b-8a94-4d97-9d46-2288dd99c3af/deployments/9c73141e-6197-4e29-ac94-794554f76477/online\n"
     ]
    }
   ],
   "source": [
    "print('Datamart:', data_mart_id)\n",
    "print('Model:', model_uid)\n",
    "print('Deployment:', deployment_uid)\n",
    "print('Binding:', binding_uid)\n",
    "print('Scoring URL:', credit_risk_scoring_endpoint)"
   ]
  },
  {
   "cell_type": "markdown",
   "metadata": {},
   "source": [
    "## Identificamos transacciones para explicar"
   ]
  },
  {
   "cell_type": "markdown",
   "metadata": {},
   "source": [
    "Los ID de transacción identificados por las celdas a continuación se pueden copiar y pegar en la pestaña Explicabilidad del panel de control de OpenScale."
   ]
  },
  {
   "cell_type": "code",
   "execution_count": 119,
   "metadata": {},
   "outputs": [
    {
     "data": {
      "text/html": [
       "<div>\n",
       "<style scoped>\n",
       "    .dataframe tbody tr th:only-of-type {\n",
       "        vertical-align: middle;\n",
       "    }\n",
       "\n",
       "    .dataframe tbody tr th {\n",
       "        vertical-align: top;\n",
       "    }\n",
       "\n",
       "    .dataframe thead th {\n",
       "        text-align: right;\n",
       "    }\n",
       "</style>\n",
       "<table border=\"1\" class=\"dataframe\">\n",
       "  <thead>\n",
       "    <tr style=\"text-align: right;\">\n",
       "      <th></th>\n",
       "      <th>scoring_id</th>\n",
       "      <th>probability</th>\n",
       "    </tr>\n",
       "  </thead>\n",
       "  <tbody>\n",
       "    <tr>\n",
       "      <th>0</th>\n",
       "      <td>495ec5f1b673c2275a982b06ac43b23c-200</td>\n",
       "      <td>[0.9252284604459459, 0.07477153955405412]</td>\n",
       "    </tr>\n",
       "    <tr>\n",
       "      <th>1</th>\n",
       "      <td>495ec5f1b673c2275a982b06ac43b23c-199</td>\n",
       "      <td>[0.04690428723470963, 0.9530957127652904]</td>\n",
       "    </tr>\n",
       "    <tr>\n",
       "      <th>2</th>\n",
       "      <td>495ec5f1b673c2275a982b06ac43b23c-198</td>\n",
       "      <td>[0.9382416521770496, 0.06175834782295037]</td>\n",
       "    </tr>\n",
       "    <tr>\n",
       "      <th>3</th>\n",
       "      <td>495ec5f1b673c2275a982b06ac43b23c-197</td>\n",
       "      <td>[0.6569122352669601, 0.3430877647330399]</td>\n",
       "    </tr>\n",
       "    <tr>\n",
       "      <th>4</th>\n",
       "      <td>495ec5f1b673c2275a982b06ac43b23c-196</td>\n",
       "      <td>[0.42367586199114105, 0.576324138008859]</td>\n",
       "    </tr>\n",
       "    <tr>\n",
       "      <th>5</th>\n",
       "      <td>495ec5f1b673c2275a982b06ac43b23c-195</td>\n",
       "      <td>[0.9737817478738762, 0.026218252126123855]</td>\n",
       "    </tr>\n",
       "    <tr>\n",
       "      <th>6</th>\n",
       "      <td>495ec5f1b673c2275a982b06ac43b23c-194</td>\n",
       "      <td>[0.9450355723930663, 0.0549644276069337]</td>\n",
       "    </tr>\n",
       "    <tr>\n",
       "      <th>7</th>\n",
       "      <td>495ec5f1b673c2275a982b06ac43b23c-193</td>\n",
       "      <td>[0.8350518934422186, 0.1649481065577814]</td>\n",
       "    </tr>\n",
       "    <tr>\n",
       "      <th>8</th>\n",
       "      <td>495ec5f1b673c2275a982b06ac43b23c-192</td>\n",
       "      <td>[0.4803977743649086, 0.5196022256350914]</td>\n",
       "    </tr>\n",
       "    <tr>\n",
       "      <th>9</th>\n",
       "      <td>495ec5f1b673c2275a982b06ac43b23c-191</td>\n",
       "      <td>[0.8250617516656895, 0.17493824833431051]</td>\n",
       "    </tr>\n",
       "    <tr>\n",
       "      <th>10</th>\n",
       "      <td>495ec5f1b673c2275a982b06ac43b23c-190</td>\n",
       "      <td>[0.9658679503125731, 0.03413204968742689]</td>\n",
       "    </tr>\n",
       "    <tr>\n",
       "      <th>11</th>\n",
       "      <td>495ec5f1b673c2275a982b06ac43b23c-189</td>\n",
       "      <td>[0.8284417523614516, 0.17155824763854843]</td>\n",
       "    </tr>\n",
       "    <tr>\n",
       "      <th>12</th>\n",
       "      <td>495ec5f1b673c2275a982b06ac43b23c-188</td>\n",
       "      <td>[0.7440487127029286, 0.2559512872970714]</td>\n",
       "    </tr>\n",
       "    <tr>\n",
       "      <th>13</th>\n",
       "      <td>495ec5f1b673c2275a982b06ac43b23c-187</td>\n",
       "      <td>[0.6557838738176118, 0.3442161261823881]</td>\n",
       "    </tr>\n",
       "    <tr>\n",
       "      <th>14</th>\n",
       "      <td>495ec5f1b673c2275a982b06ac43b23c-186</td>\n",
       "      <td>[0.9651559960083268, 0.03484400399167325]</td>\n",
       "    </tr>\n",
       "    <tr>\n",
       "      <th>15</th>\n",
       "      <td>495ec5f1b673c2275a982b06ac43b23c-185</td>\n",
       "      <td>[0.9083270616548104, 0.09167293834518964]</td>\n",
       "    </tr>\n",
       "    <tr>\n",
       "      <th>16</th>\n",
       "      <td>495ec5f1b673c2275a982b06ac43b23c-184</td>\n",
       "      <td>[0.7404630522730107, 0.25953694772698926]</td>\n",
       "    </tr>\n",
       "    <tr>\n",
       "      <th>17</th>\n",
       "      <td>495ec5f1b673c2275a982b06ac43b23c-183</td>\n",
       "      <td>[0.7682829167076632, 0.2317170832923367]</td>\n",
       "    </tr>\n",
       "    <tr>\n",
       "      <th>18</th>\n",
       "      <td>495ec5f1b673c2275a982b06ac43b23c-182</td>\n",
       "      <td>[0.04453287548585794, 0.9554671245141421]</td>\n",
       "    </tr>\n",
       "    <tr>\n",
       "      <th>19</th>\n",
       "      <td>495ec5f1b673c2275a982b06ac43b23c-181</td>\n",
       "      <td>[0.36057843004497114, 0.6394215699550289]</td>\n",
       "    </tr>\n",
       "    <tr>\n",
       "      <th>20</th>\n",
       "      <td>495ec5f1b673c2275a982b06ac43b23c-180</td>\n",
       "      <td>[0.9819416150787448, 0.018058384921255256]</td>\n",
       "    </tr>\n",
       "    <tr>\n",
       "      <th>21</th>\n",
       "      <td>495ec5f1b673c2275a982b06ac43b23c-179</td>\n",
       "      <td>[0.8206343092878898, 0.17936569071211014]</td>\n",
       "    </tr>\n",
       "    <tr>\n",
       "      <th>22</th>\n",
       "      <td>495ec5f1b673c2275a982b06ac43b23c-178</td>\n",
       "      <td>[0.7940267937799835, 0.20597320622001647]</td>\n",
       "    </tr>\n",
       "    <tr>\n",
       "      <th>23</th>\n",
       "      <td>495ec5f1b673c2275a982b06ac43b23c-177</td>\n",
       "      <td>[0.716060185062007, 0.2839398149379931]</td>\n",
       "    </tr>\n",
       "    <tr>\n",
       "      <th>24</th>\n",
       "      <td>495ec5f1b673c2275a982b06ac43b23c-176</td>\n",
       "      <td>[0.585971630564876, 0.414028369435124]</td>\n",
       "    </tr>\n",
       "    <tr>\n",
       "      <th>25</th>\n",
       "      <td>495ec5f1b673c2275a982b06ac43b23c-175</td>\n",
       "      <td>[0.6564393502832208, 0.34356064971677924]</td>\n",
       "    </tr>\n",
       "    <tr>\n",
       "      <th>26</th>\n",
       "      <td>495ec5f1b673c2275a982b06ac43b23c-174</td>\n",
       "      <td>[0.58241309624748, 0.4175869037525199]</td>\n",
       "    </tr>\n",
       "    <tr>\n",
       "      <th>27</th>\n",
       "      <td>495ec5f1b673c2275a982b06ac43b23c-173</td>\n",
       "      <td>[0.23143814268018348, 0.7685618573198165]</td>\n",
       "    </tr>\n",
       "    <tr>\n",
       "      <th>28</th>\n",
       "      <td>495ec5f1b673c2275a982b06ac43b23c-172</td>\n",
       "      <td>[0.8817122922769097, 0.11828770772309029]</td>\n",
       "    </tr>\n",
       "    <tr>\n",
       "      <th>29</th>\n",
       "      <td>495ec5f1b673c2275a982b06ac43b23c-171</td>\n",
       "      <td>[0.6790899871235951, 0.3209100128764049]</td>\n",
       "    </tr>\n",
       "    <tr>\n",
       "      <th>30</th>\n",
       "      <td>495ec5f1b673c2275a982b06ac43b23c-170</td>\n",
       "      <td>[0.977846676333486, 0.02215332366651397]</td>\n",
       "    </tr>\n",
       "    <tr>\n",
       "      <th>31</th>\n",
       "      <td>495ec5f1b673c2275a982b06ac43b23c-169</td>\n",
       "      <td>[0.9570331998905349, 0.04296680010946505]</td>\n",
       "    </tr>\n",
       "    <tr>\n",
       "      <th>32</th>\n",
       "      <td>495ec5f1b673c2275a982b06ac43b23c-168</td>\n",
       "      <td>[0.957736685248213, 0.04226331475178707]</td>\n",
       "    </tr>\n",
       "    <tr>\n",
       "      <th>33</th>\n",
       "      <td>495ec5f1b673c2275a982b06ac43b23c-167</td>\n",
       "      <td>[0.5148123224579477, 0.4851876775420522]</td>\n",
       "    </tr>\n",
       "    <tr>\n",
       "      <th>34</th>\n",
       "      <td>495ec5f1b673c2275a982b06ac43b23c-166</td>\n",
       "      <td>[0.9775100294116154, 0.022489970588384617]</td>\n",
       "    </tr>\n",
       "    <tr>\n",
       "      <th>35</th>\n",
       "      <td>495ec5f1b673c2275a982b06ac43b23c-165</td>\n",
       "      <td>[0.7754499695195565, 0.22455003048044359]</td>\n",
       "    </tr>\n",
       "    <tr>\n",
       "      <th>36</th>\n",
       "      <td>495ec5f1b673c2275a982b06ac43b23c-164</td>\n",
       "      <td>[0.9329803964845153, 0.06701960351548476]</td>\n",
       "    </tr>\n",
       "    <tr>\n",
       "      <th>37</th>\n",
       "      <td>495ec5f1b673c2275a982b06ac43b23c-163</td>\n",
       "      <td>[0.23208798620182713, 0.7679120137981729]</td>\n",
       "    </tr>\n",
       "    <tr>\n",
       "      <th>38</th>\n",
       "      <td>495ec5f1b673c2275a982b06ac43b23c-162</td>\n",
       "      <td>[0.6672081731817152, 0.33279182681828484]</td>\n",
       "    </tr>\n",
       "    <tr>\n",
       "      <th>39</th>\n",
       "      <td>495ec5f1b673c2275a982b06ac43b23c-161</td>\n",
       "      <td>[0.8775928571534108, 0.12240714284658911]</td>\n",
       "    </tr>\n",
       "    <tr>\n",
       "      <th>40</th>\n",
       "      <td>495ec5f1b673c2275a982b06ac43b23c-160</td>\n",
       "      <td>[0.9865018780726282, 0.013498121927371797]</td>\n",
       "    </tr>\n",
       "    <tr>\n",
       "      <th>41</th>\n",
       "      <td>495ec5f1b673c2275a982b06ac43b23c-159</td>\n",
       "      <td>[0.882961219500138, 0.11703878049986202]</td>\n",
       "    </tr>\n",
       "    <tr>\n",
       "      <th>42</th>\n",
       "      <td>495ec5f1b673c2275a982b06ac43b23c-158</td>\n",
       "      <td>[0.893138776134731, 0.10686122386526896]</td>\n",
       "    </tr>\n",
       "    <tr>\n",
       "      <th>43</th>\n",
       "      <td>495ec5f1b673c2275a982b06ac43b23c-157</td>\n",
       "      <td>[0.8294601302283542, 0.17053986977164576]</td>\n",
       "    </tr>\n",
       "    <tr>\n",
       "      <th>44</th>\n",
       "      <td>495ec5f1b673c2275a982b06ac43b23c-156</td>\n",
       "      <td>[0.09230493368845405, 0.907695066311546]</td>\n",
       "    </tr>\n",
       "    <tr>\n",
       "      <th>45</th>\n",
       "      <td>495ec5f1b673c2275a982b06ac43b23c-155</td>\n",
       "      <td>[0.7537327442024598, 0.24626725579754014]</td>\n",
       "    </tr>\n",
       "    <tr>\n",
       "      <th>46</th>\n",
       "      <td>495ec5f1b673c2275a982b06ac43b23c-154</td>\n",
       "      <td>[0.868415091266708, 0.131584908733292]</td>\n",
       "    </tr>\n",
       "    <tr>\n",
       "      <th>47</th>\n",
       "      <td>495ec5f1b673c2275a982b06ac43b23c-153</td>\n",
       "      <td>[0.9561467293071036, 0.04385327069289635]</td>\n",
       "    </tr>\n",
       "    <tr>\n",
       "      <th>48</th>\n",
       "      <td>495ec5f1b673c2275a982b06ac43b23c-152</td>\n",
       "      <td>[0.5237031423189233, 0.4762968576810767]</td>\n",
       "    </tr>\n",
       "    <tr>\n",
       "      <th>49</th>\n",
       "      <td>495ec5f1b673c2275a982b06ac43b23c-151</td>\n",
       "      <td>[0.8308310352524133, 0.16916896474758664]</td>\n",
       "    </tr>\n",
       "    <tr>\n",
       "      <th>50</th>\n",
       "      <td>495ec5f1b673c2275a982b06ac43b23c-150</td>\n",
       "      <td>[0.7042098513158379, 0.2957901486841621]</td>\n",
       "    </tr>\n",
       "    <tr>\n",
       "      <th>51</th>\n",
       "      <td>495ec5f1b673c2275a982b06ac43b23c-149</td>\n",
       "      <td>[0.9354853610945876, 0.06451463890541247]</td>\n",
       "    </tr>\n",
       "    <tr>\n",
       "      <th>52</th>\n",
       "      <td>495ec5f1b673c2275a982b06ac43b23c-148</td>\n",
       "      <td>[0.9704498391762175, 0.029550160823782447]</td>\n",
       "    </tr>\n",
       "    <tr>\n",
       "      <th>53</th>\n",
       "      <td>495ec5f1b673c2275a982b06ac43b23c-147</td>\n",
       "      <td>[0.9498255306410469, 0.05017446935895306]</td>\n",
       "    </tr>\n",
       "    <tr>\n",
       "      <th>54</th>\n",
       "      <td>495ec5f1b673c2275a982b06ac43b23c-146</td>\n",
       "      <td>[0.36057843004497114, 0.6394215699550289]</td>\n",
       "    </tr>\n",
       "    <tr>\n",
       "      <th>55</th>\n",
       "      <td>495ec5f1b673c2275a982b06ac43b23c-145</td>\n",
       "      <td>[0.33266697849480475, 0.6673330215051952]</td>\n",
       "    </tr>\n",
       "    <tr>\n",
       "      <th>56</th>\n",
       "      <td>495ec5f1b673c2275a982b06ac43b23c-144</td>\n",
       "      <td>[0.6250956933700909, 0.3749043066299092]</td>\n",
       "    </tr>\n",
       "    <tr>\n",
       "      <th>57</th>\n",
       "      <td>495ec5f1b673c2275a982b06ac43b23c-143</td>\n",
       "      <td>[0.965453368961303, 0.03454663103869705]</td>\n",
       "    </tr>\n",
       "    <tr>\n",
       "      <th>58</th>\n",
       "      <td>495ec5f1b673c2275a982b06ac43b23c-142</td>\n",
       "      <td>[0.09243803640242998, 0.90756196359757]</td>\n",
       "    </tr>\n",
       "    <tr>\n",
       "      <th>59</th>\n",
       "      <td>495ec5f1b673c2275a982b06ac43b23c-141</td>\n",
       "      <td>[0.34390203039854184, 0.6560979696014582]</td>\n",
       "    </tr>\n",
       "  </tbody>\n",
       "</table>\n",
       "</div>"
      ],
      "text/plain": [
       "                              scoring_id  \\\n",
       "0   495ec5f1b673c2275a982b06ac43b23c-200   \n",
       "1   495ec5f1b673c2275a982b06ac43b23c-199   \n",
       "2   495ec5f1b673c2275a982b06ac43b23c-198   \n",
       "3   495ec5f1b673c2275a982b06ac43b23c-197   \n",
       "4   495ec5f1b673c2275a982b06ac43b23c-196   \n",
       "5   495ec5f1b673c2275a982b06ac43b23c-195   \n",
       "6   495ec5f1b673c2275a982b06ac43b23c-194   \n",
       "7   495ec5f1b673c2275a982b06ac43b23c-193   \n",
       "8   495ec5f1b673c2275a982b06ac43b23c-192   \n",
       "9   495ec5f1b673c2275a982b06ac43b23c-191   \n",
       "10  495ec5f1b673c2275a982b06ac43b23c-190   \n",
       "11  495ec5f1b673c2275a982b06ac43b23c-189   \n",
       "12  495ec5f1b673c2275a982b06ac43b23c-188   \n",
       "13  495ec5f1b673c2275a982b06ac43b23c-187   \n",
       "14  495ec5f1b673c2275a982b06ac43b23c-186   \n",
       "15  495ec5f1b673c2275a982b06ac43b23c-185   \n",
       "16  495ec5f1b673c2275a982b06ac43b23c-184   \n",
       "17  495ec5f1b673c2275a982b06ac43b23c-183   \n",
       "18  495ec5f1b673c2275a982b06ac43b23c-182   \n",
       "19  495ec5f1b673c2275a982b06ac43b23c-181   \n",
       "20  495ec5f1b673c2275a982b06ac43b23c-180   \n",
       "21  495ec5f1b673c2275a982b06ac43b23c-179   \n",
       "22  495ec5f1b673c2275a982b06ac43b23c-178   \n",
       "23  495ec5f1b673c2275a982b06ac43b23c-177   \n",
       "24  495ec5f1b673c2275a982b06ac43b23c-176   \n",
       "25  495ec5f1b673c2275a982b06ac43b23c-175   \n",
       "26  495ec5f1b673c2275a982b06ac43b23c-174   \n",
       "27  495ec5f1b673c2275a982b06ac43b23c-173   \n",
       "28  495ec5f1b673c2275a982b06ac43b23c-172   \n",
       "29  495ec5f1b673c2275a982b06ac43b23c-171   \n",
       "30  495ec5f1b673c2275a982b06ac43b23c-170   \n",
       "31  495ec5f1b673c2275a982b06ac43b23c-169   \n",
       "32  495ec5f1b673c2275a982b06ac43b23c-168   \n",
       "33  495ec5f1b673c2275a982b06ac43b23c-167   \n",
       "34  495ec5f1b673c2275a982b06ac43b23c-166   \n",
       "35  495ec5f1b673c2275a982b06ac43b23c-165   \n",
       "36  495ec5f1b673c2275a982b06ac43b23c-164   \n",
       "37  495ec5f1b673c2275a982b06ac43b23c-163   \n",
       "38  495ec5f1b673c2275a982b06ac43b23c-162   \n",
       "39  495ec5f1b673c2275a982b06ac43b23c-161   \n",
       "40  495ec5f1b673c2275a982b06ac43b23c-160   \n",
       "41  495ec5f1b673c2275a982b06ac43b23c-159   \n",
       "42  495ec5f1b673c2275a982b06ac43b23c-158   \n",
       "43  495ec5f1b673c2275a982b06ac43b23c-157   \n",
       "44  495ec5f1b673c2275a982b06ac43b23c-156   \n",
       "45  495ec5f1b673c2275a982b06ac43b23c-155   \n",
       "46  495ec5f1b673c2275a982b06ac43b23c-154   \n",
       "47  495ec5f1b673c2275a982b06ac43b23c-153   \n",
       "48  495ec5f1b673c2275a982b06ac43b23c-152   \n",
       "49  495ec5f1b673c2275a982b06ac43b23c-151   \n",
       "50  495ec5f1b673c2275a982b06ac43b23c-150   \n",
       "51  495ec5f1b673c2275a982b06ac43b23c-149   \n",
       "52  495ec5f1b673c2275a982b06ac43b23c-148   \n",
       "53  495ec5f1b673c2275a982b06ac43b23c-147   \n",
       "54  495ec5f1b673c2275a982b06ac43b23c-146   \n",
       "55  495ec5f1b673c2275a982b06ac43b23c-145   \n",
       "56  495ec5f1b673c2275a982b06ac43b23c-144   \n",
       "57  495ec5f1b673c2275a982b06ac43b23c-143   \n",
       "58  495ec5f1b673c2275a982b06ac43b23c-142   \n",
       "59  495ec5f1b673c2275a982b06ac43b23c-141   \n",
       "\n",
       "                                   probability  \n",
       "0    [0.9252284604459459, 0.07477153955405412]  \n",
       "1    [0.04690428723470963, 0.9530957127652904]  \n",
       "2    [0.9382416521770496, 0.06175834782295037]  \n",
       "3     [0.6569122352669601, 0.3430877647330399]  \n",
       "4     [0.42367586199114105, 0.576324138008859]  \n",
       "5   [0.9737817478738762, 0.026218252126123855]  \n",
       "6     [0.9450355723930663, 0.0549644276069337]  \n",
       "7     [0.8350518934422186, 0.1649481065577814]  \n",
       "8     [0.4803977743649086, 0.5196022256350914]  \n",
       "9    [0.8250617516656895, 0.17493824833431051]  \n",
       "10   [0.9658679503125731, 0.03413204968742689]  \n",
       "11   [0.8284417523614516, 0.17155824763854843]  \n",
       "12    [0.7440487127029286, 0.2559512872970714]  \n",
       "13    [0.6557838738176118, 0.3442161261823881]  \n",
       "14   [0.9651559960083268, 0.03484400399167325]  \n",
       "15   [0.9083270616548104, 0.09167293834518964]  \n",
       "16   [0.7404630522730107, 0.25953694772698926]  \n",
       "17    [0.7682829167076632, 0.2317170832923367]  \n",
       "18   [0.04453287548585794, 0.9554671245141421]  \n",
       "19   [0.36057843004497114, 0.6394215699550289]  \n",
       "20  [0.9819416150787448, 0.018058384921255256]  \n",
       "21   [0.8206343092878898, 0.17936569071211014]  \n",
       "22   [0.7940267937799835, 0.20597320622001647]  \n",
       "23     [0.716060185062007, 0.2839398149379931]  \n",
       "24      [0.585971630564876, 0.414028369435124]  \n",
       "25   [0.6564393502832208, 0.34356064971677924]  \n",
       "26      [0.58241309624748, 0.4175869037525199]  \n",
       "27   [0.23143814268018348, 0.7685618573198165]  \n",
       "28   [0.8817122922769097, 0.11828770772309029]  \n",
       "29    [0.6790899871235951, 0.3209100128764049]  \n",
       "30    [0.977846676333486, 0.02215332366651397]  \n",
       "31   [0.9570331998905349, 0.04296680010946505]  \n",
       "32    [0.957736685248213, 0.04226331475178707]  \n",
       "33    [0.5148123224579477, 0.4851876775420522]  \n",
       "34  [0.9775100294116154, 0.022489970588384617]  \n",
       "35   [0.7754499695195565, 0.22455003048044359]  \n",
       "36   [0.9329803964845153, 0.06701960351548476]  \n",
       "37   [0.23208798620182713, 0.7679120137981729]  \n",
       "38   [0.6672081731817152, 0.33279182681828484]  \n",
       "39   [0.8775928571534108, 0.12240714284658911]  \n",
       "40  [0.9865018780726282, 0.013498121927371797]  \n",
       "41    [0.882961219500138, 0.11703878049986202]  \n",
       "42    [0.893138776134731, 0.10686122386526896]  \n",
       "43   [0.8294601302283542, 0.17053986977164576]  \n",
       "44    [0.09230493368845405, 0.907695066311546]  \n",
       "45   [0.7537327442024598, 0.24626725579754014]  \n",
       "46      [0.868415091266708, 0.131584908733292]  \n",
       "47   [0.9561467293071036, 0.04385327069289635]  \n",
       "48    [0.5237031423189233, 0.4762968576810767]  \n",
       "49   [0.8308310352524133, 0.16916896474758664]  \n",
       "50    [0.7042098513158379, 0.2957901486841621]  \n",
       "51   [0.9354853610945876, 0.06451463890541247]  \n",
       "52  [0.9704498391762175, 0.029550160823782447]  \n",
       "53   [0.9498255306410469, 0.05017446935895306]  \n",
       "54   [0.36057843004497114, 0.6394215699550289]  \n",
       "55   [0.33266697849480475, 0.6673330215051952]  \n",
       "56    [0.6250956933700909, 0.3749043066299092]  \n",
       "57    [0.965453368961303, 0.03454663103869705]  \n",
       "58     [0.09243803640242998, 0.90756196359757]  \n",
       "59   [0.34390203039854184, 0.6560979696014582]  "
      ]
     },
     "execution_count": 119,
     "metadata": {},
     "output_type": "execute_result"
    }
   ],
   "source": [
    "payload_data = subscription.payload_logging.get_table_content(limit=60)\n",
    "payload_data.filter(items=['scoring_id', 'predictedLabel', 'probability'])"
   ]
  },
  {
   "cell_type": "markdown",
   "metadata": {},
   "source": [
    "## ¡Enhorabuena!\n",
    "\n",
    "Has terminado los laboratorios de IBM Watson OpenScale. Ahora puedes verlo en el [OpenScale Dashboard](https://aiopenscale.cloud.ibm.com/). \n",
    "\n"
   ]
  }
 ],
 "metadata": {
  "kernelspec": {
   "display_name": "Python 3",
   "language": "python",
   "name": "python3"
  },
  "language_info": {
   "codemirror_mode": {
    "name": "ipython",
    "version": 3
   },
   "file_extension": ".py",
   "mimetype": "text/x-python",
   "name": "python",
   "nbconvert_exporter": "python",
   "pygments_lexer": "ipython3",
   "version": "3.6.4"
  }
 },
 "nbformat": 4,
 "nbformat_minor": 2
}
