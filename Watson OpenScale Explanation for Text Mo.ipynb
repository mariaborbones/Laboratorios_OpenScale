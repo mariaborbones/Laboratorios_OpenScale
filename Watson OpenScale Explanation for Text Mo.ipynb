{
 "cells": [
  {
   "cell_type": "markdown",
   "metadata": {},
   "source": [
    "<img src=\"https://github.com/pmservice/ai-openscale-tutorials/raw/master/notebooks/images/banner.png\" align=\"left\" alt=\"banner\">"
   ]
  },
  {
   "cell_type": "markdown",
   "metadata": {},
   "source": [
    "# Tutorial sobre cómo generar una explicación para un modelo basado en texto en Watson OpenScale"
   ]
  },
  {
   "cell_type": "markdown",
   "metadata": {},
   "source": [
    "\n",
    "Este notebook incluye pasos para crear un modelo de aprendizaje automático de Watson basado en texto, crear una suscripción, configurar explicabilidad y, finalmente, generar una explicación para una transacción"
   ]
  },
  {
   "cell_type": "markdown",
   "metadata": {},
   "source": [
    "### Contenido\n",
    "- [1. Instalación](#setup)\n",
    "- [2. Crear y desplegar un modelo basado en texto](#)\n",
    "- [3. Suscripciones](#subscription)\n",
    "- [4. Explicabilidad](#explainability)"
   ]
  },
  {
   "cell_type": "markdown",
   "metadata": {},
   "source": [
    "**Note**: Si usa Watson Studio, intente ejecutar el portátil en al menos la versión 'Default Python 3.5 XS' para obtener resultados más rápidos."
   ]
  },
  {
   "cell_type": "markdown",
   "metadata": {},
   "source": [
    "<a id=\"setup\"></a>\n",
    "## 1. Instalación\n",
    "\n",
    "### 1.1 Instala los paquetes de Watson OpenScale y WML "
   ]
  },
  {
   "cell_type": "code",
   "execution_count": 1,
   "metadata": {},
   "outputs": [
    {
     "name": "stdout",
     "output_type": "stream",
     "text": [
      "Successfully installed ibm-ai-openscale-2.2.1\n"
     ]
    }
   ],
   "source": [
    "!pip install --upgrade ibm-ai-openscale --no-cache | tail -n 1"
   ]
  },
  {
   "cell_type": "code",
   "execution_count": 2,
   "metadata": {},
   "outputs": [
    {
     "name": "stdout",
     "output_type": "stream",
     "text": [
      "Successfully installed watson-machine-learning-client-1.0.378\n"
     ]
    }
   ],
   "source": [
    "!pip install --upgrade watson-machine-learning-client --no-cache | tail -n 1"
   ]
  },
  {
   "cell_type": "markdown",
   "metadata": {},
   "source": [
    "Nota: Reinicia el kernel para asegurar que las nuevas librerías se están usando"
   ]
  },
  {
   "cell_type": "markdown",
   "metadata": {},
   "source": [
    "### 1.2 Configura las credenciales"
   ]
  },
  {
   "cell_type": "markdown",
   "metadata": {},
   "source": [
    "Obtenga la `apikey` de Watson Openscale yendo a la [Consola Bluemix] (https://console.bluemix.net/) y haciendo clic en` Administrar-> Cuenta-> Usuarios`. Seleccione \"Claves API de plataforma\" en la barra lateral y luego haga clic en el botón \"Crear\".\n",
    "\n",
    "Se puede obtener el `instancia_id` de Watson OpenScale (guid) accediendo a la [consola en la nube] (https://cloud.ibm.com/resources), haciendo clic en` Servicios` y haciendo clic en cualquier parte del mosaico de servicio de Watson OpenScale, excepto el enlace de servicio y luego verificando la barra lateral emergente a la derecha."
   ]
  },
  {
   "cell_type": "code",
   "execution_count": 3,
   "metadata": {},
   "outputs": [],
   "source": [
    "AIOS_CREDENTIALS = {\n",
    "   \n",
    "    \"instance_guid\": \"\",\n",
    "    \"apikey\": \"\", \n",
    "    \"url\": \"\"\n",
    "}"
   ]
  },
  {
   "cell_type": "markdown",
   "metadata": {},
   "source": [
    "Genere o busque las credenciales WML haciendo clic en Credenciales en la barra lateral de la página WML aprovisionada."
   ]
  },
  {
   "cell_type": "code",
   "execution_count": 4,
   "metadata": {},
   "outputs": [],
   "source": [
    "WML_CREDENTIALS = {\n",
    "  \n",
    "}"
   ]
  },
  {
   "cell_type": "markdown",
   "metadata": {},
   "source": [
    "## 2.Crear e implementar un modelo basado en texto"
   ]
  },
  {
   "cell_type": "markdown",
   "metadata": {},
   "source": [
    "El conjunto de datos utilizado es el conjunto de datos UCI-ML SMS Spam Collection que se puede encontrar aquí: https://archive.ics.uci.edu/ml/machine-learning-databases/00228/. Es un conjunto de datos de clasificación binaria con las etiquetas 'ham' y 'spam'."
   ]
  },
  {
   "cell_type": "markdown",
   "metadata": {},
   "source": [
    "### 2.1 Cargando los datos de entrenamiento"
   ]
  },
  {
   "cell_type": "code",
   "execution_count": 10,
   "metadata": {},
   "outputs": [
    {
     "name": "stdout",
     "output_type": "stream",
     "text": [
      "Requirement already satisfied: pandas in /opt/conda/envs/Python36/lib/python3.6/site-packages (0.24.1)\n",
      "Requirement already satisfied: pytz>=2011k in /opt/conda/envs/Python36/lib/python3.6/site-packages (from pandas) (2018.9)\n",
      "Requirement already satisfied: numpy>=1.12.0 in /opt/conda/envs/Python36/lib/python3.6/site-packages (from pandas) (1.15.4)\n",
      "Requirement already satisfied: python-dateutil>=2.5.0 in /opt/conda/envs/Python36/lib/python3.6/site-packages (from pandas) (2.7.5)\n",
      "Requirement already satisfied: six>=1.5 in /opt/conda/envs/Python36/lib/python3.6/site-packages (from python-dateutil>=2.5.0->pandas) (1.12.0)\n",
      "rm: cannot remove ‘smsspamcollection.zip’: No such file or directory\n",
      "--2020-04-02 07:22:45--  https://archive.ics.uci.edu/ml/machine-learning-databases/00228/smsspamcollection.zip\n",
      "Resolving archive.ics.uci.edu (archive.ics.uci.edu)... 128.195.10.252\n",
      "Connecting to archive.ics.uci.edu (archive.ics.uci.edu)|128.195.10.252|:443... connected.\n",
      "WARNING: cannot verify archive.ics.uci.edu's certificate, issued by ‘/C=US/ST=MI/L=Ann Arbor/O=Internet2/OU=InCommon/CN=InCommon RSA Server CA’:\n",
      "  Issued certificate has expired.\n",
      "HTTP request sent, awaiting response... 200 OK\n",
      "Length: 203415 (199K) [application/x-httpd-php]\n",
      "Saving to: ‘smsspamcollection.zip’\n",
      "\n",
      "100%[======================================>] 203,415     --.-K/s   in 0.1s    \n",
      "\n",
      "2020-04-02 07:22:46 (1.69 MB/s) - ‘smsspamcollection.zip’ saved [203415/203415]\n",
      "\n",
      "Archive:  smsspamcollection.zip\n",
      "  inflating: SMSSpamCollection       \n",
      "  inflating: readme                  \n"
     ]
    }
   ],
   "source": [
    "# The training data is downloaded and saved as 'SMSSpam.csv' in this step\n",
    "\n",
    "!pip install pandas\n",
    "!rm smsspamcollection.zip\n",
    "!wget https://archive.ics.uci.edu/ml/machine-learning-databases/00228/smsspamcollection.zip --no-check-certificate\n",
    "!unzip smsspamcollection.zip\n",
    "\n"
   ]
  },
  {
   "cell_type": "code",
   "execution_count": 11,
   "metadata": {},
   "outputs": [
    {
     "name": "stdout",
     "output_type": "stream",
     "text": [
      "readme\tSMSSpamCollection  smsspamcollection.zip\n"
     ]
    }
   ],
   "source": [
    "import os\n",
    "!ls"
   ]
  },
  {
   "cell_type": "code",
   "execution_count": 12,
   "metadata": {},
   "outputs": [],
   "source": [
    "import pandas as pd\n",
    "\n",
    "pd.read_csv('SMSSpamCollection',sep=\"\\t\",header=None, encoding=\"utf-8\").to_csv(\"SMSSpam.csv\", header=[\"label\", \"text\"], sep=\",\", index=False)"
   ]
  },
  {
   "cell_type": "code",
   "execution_count": 13,
   "metadata": {},
   "outputs": [],
   "source": [
    "!rm SMSSpamCollection\n",
    "!rm readme\n",
    "!rm smsspamcollection.zip"
   ]
  },
  {
   "cell_type": "markdown",
   "metadata": {},
   "source": [
    "### 2.2 Creando un modelo"
   ]
  },
  {
   "cell_type": "markdown",
   "metadata": {},
   "source": [
    "**Nota**: Omita el paso de instalación de pyspark a continuación si está utilizando un entorno Spark en Watson Studio."
   ]
  },
  {
   "cell_type": "code",
   "execution_count": 14,
   "metadata": {},
   "outputs": [
    {
     "name": "stdout",
     "output_type": "stream",
     "text": [
      "Collecting pyspark==2.3.1\n",
      "\u001b[?25l  Downloading https://files.pythonhosted.org/packages/ee/2f/709df6e8dc00624689aa0a11c7a4c06061a7d00037e370584b9f011df44c/pyspark-2.3.1.tar.gz (211.9MB)\n",
      "\u001b[K     |████████████████████████████████| 211.9MB 190kB/s  eta 0:00:01 eta 0:00:02\n",
      "\u001b[?25hCollecting py4j==0.10.7 (from pyspark==2.3.1)\n",
      "\u001b[?25l  Downloading https://files.pythonhosted.org/packages/e3/53/c737818eb9a7dc32a7cd4f1396e787bd94200c3997c72c1dbe028587bd76/py4j-0.10.7-py2.py3-none-any.whl (197kB)\n",
      "\u001b[K     |████████████████████████████████| 204kB 50.0MB/s eta 0:00:01\n",
      "\u001b[?25hBuilding wheels for collected packages: pyspark\n",
      "  Building wheel for pyspark (setup.py) ... \u001b[?25ldone\n",
      "\u001b[?25h  Stored in directory: /home/dsxuser/.cache/pip/wheels/37/48/54/f1b63f0dbb729e20c92f1bbcf1c53c03b300e0b93ca1781526\n",
      "Successfully built pyspark\n",
      "Installing collected packages: py4j, pyspark\n",
      "Successfully installed py4j-0.10.7 pyspark-2.3.1\n"
     ]
    }
   ],
   "source": [
    "!pip install pyspark==2.3.1"
   ]
  },
  {
   "cell_type": "markdown",
   "metadata": {},
   "source": [
    "**Nota**: Cuando ejecute este notebook localmente, si la importación de SparkSession falla a continuación, configure la variable de entorno 'SPARK_HOME' con la ruta a la instalación de pyspark."
   ]
  },
  {
   "cell_type": "code",
   "execution_count": 15,
   "metadata": {},
   "outputs": [
    {
     "name": "stdout",
     "output_type": "stream",
     "text": [
      "+-----+-----------------------------------------------------------------------------------------------------------------------------------------------------------+\n",
      "|label|text                                                                                                                                                       |\n",
      "+-----+-----------------------------------------------------------------------------------------------------------------------------------------------------------+\n",
      "|ham  |Go until jurong point, crazy.. Available only in bugis n great world la e buffet... Cine there got amore wat...                                            |\n",
      "|ham  |Ok lar... Joking wif u oni...                                                                                                                              |\n",
      "|spam |Free entry in 2 a wkly comp to win FA Cup final tkts 21st May 2005. Text FA to 87121 to receive entry question(std txt rate)T&C's apply 08452810075over18's|\n",
      "|ham  |U dun say so early hor... U c already then say...                                                                                                          |\n",
      "|ham  |Nah I don't think he goes to usf, he lives around here though                                                                                              |\n",
      "+-----+-----------------------------------------------------------------------------------------------------------------------------------------------------------+\n",
      "only showing top 5 rows\n",
      "\n"
     ]
    }
   ],
   "source": [
    "from pyspark.sql import SparkSession\n",
    "\n",
    "spark = SparkSession.builder.getOrCreate()\n",
    "df = spark.read.csv(path=\"SMSSpam.csv\", header=True, multiLine=True, escape='\"')\n",
    "df.show(5, truncate = False)"
   ]
  },
  {
   "cell_type": "code",
   "execution_count": 16,
   "metadata": {},
   "outputs": [
    {
     "name": "stdout",
     "output_type": "stream",
     "text": [
      "Total count of data set: 5572\n",
      "Total count of training data set: 4420\n",
      "Total count of test data set: 1152\n"
     ]
    }
   ],
   "source": [
    "train_df, test_df = df.randomSplit([0.8, 0.2], seed=12345)\n",
    "print(\"Total count of data set: {}\".format(df.count()))\n",
    "print(\"Total count of training data set: {}\".format(train_df.count()))\n",
    "print(\"Total count of test data set: {}\".format(test_df.count()))"
   ]
  },
  {
   "cell_type": "code",
   "execution_count": 17,
   "metadata": {},
   "outputs": [
    {
     "name": "stdout",
     "output_type": "stream",
     "text": [
      "Requirement already satisfied: nltk in /opt/conda/envs/Python36/lib/python3.6/site-packages (3.4)\n",
      "Requirement already satisfied: six in /opt/conda/envs/Python36/lib/python3.6/site-packages (from nltk) (1.12.0)\n",
      "Requirement already satisfied: singledispatch in /opt/conda/envs/Python36/lib/python3.6/site-packages (from nltk) (3.4.0.3)\n"
     ]
    },
    {
     "name": "stderr",
     "output_type": "stream",
     "text": [
      "[nltk_data] Downloading package punkt to /home/dsxuser/nltk_data...\n",
      "[nltk_data]   Unzipping tokenizers/punkt.zip.\n",
      "[nltk_data] Downloading package stopwords to\n",
      "[nltk_data]     /home/dsxuser/nltk_data...\n",
      "[nltk_data]   Unzipping corpora/stopwords.zip.\n"
     ]
    }
   ],
   "source": [
    "!pip install nltk\n",
    "from pyspark.ml.feature import StringIndexer, IndexToString, CountVectorizer, Tokenizer, IDF, StopWordsRemover\n",
    "from pyspark.ml.classification import GBTClassifier\n",
    "from pyspark.ml.evaluation import BinaryClassificationEvaluator\n",
    "from pyspark.ml import Pipeline, Model\n",
    "import nltk\n",
    "from nltk.tokenize import word_tokenize\n",
    "from nltk.corpus import stopwords\n",
    "\n",
    "nltk.download('punkt')\n",
    "nltk.download('stopwords')\n",
    "stop_words = list(set(stopwords.words('english')))\n",
    "\n",
    "stringIndexer_label = StringIndexer(inputCol=\"label\", outputCol=\"label_ix\").fit(df)\n",
    "tokenizer = Tokenizer(inputCol=\"text\", outputCol=\"words\")\n",
    "stopword_remover = StopWordsRemover(inputCol=\"words\", outputCol=\"filtered_words\").setStopWords(stop_words)\n",
    "count = CountVectorizer(inputCol=\"filtered_words\", outputCol=\"rawFeatures\")\n",
    "idf = IDF(inputCol=\"rawFeatures\", outputCol=\"features\")\n",
    "nb = GBTClassifier(labelCol=\"label_ix\")\n",
    "labelConverter = IndexToString(inputCol=\"prediction\", outputCol=\"predictionLabel\", labels=stringIndexer_label.labels)"
   ]
  },
  {
   "cell_type": "code",
   "execution_count": 18,
   "metadata": {},
   "outputs": [
    {
     "name": "stdout",
     "output_type": "stream",
     "text": [
      "Area under ROC curve = 0.846312\n"
     ]
    }
   ],
   "source": [
    "pipeline = Pipeline(stages=[stringIndexer_label, tokenizer, stopword_remover, count, idf, nb, labelConverter])\n",
    "model = pipeline.fit(train_df)\n",
    "predictions = model.transform(test_df)\n",
    "evaluator = BinaryClassificationEvaluator(labelCol=\"label_ix\", rawPredictionCol=\"prediction\", metricName=\"areaUnderROC\")\n",
    "auc = evaluator.evaluate(predictions)\n",
    "\n",
    "print(\"Area under ROC curve = %g\" % auc)"
   ]
  },
  {
   "cell_type": "code",
   "execution_count": 22,
   "metadata": {},
   "outputs": [
    {
     "name": "stdout",
     "output_type": "stream",
     "text": [
      "rm: cannot remove ‘SMSSpam.csv’: No such file or directory\n"
     ]
    }
   ],
   "source": [
    "from watson_machine_learning_client import WatsonMachineLearningAPIClient\n",
    "\n",
    "MODEL_NAME = \"Text Binary Classifier\"\n",
    "wml_client = WatsonMachineLearningAPIClient(WML_CREDENTIALS)\n",
    "\n",
    "model_props = {\n",
    "    wml_client.repository.ModelMetaNames.NAME: \"{}\".format(MODEL_NAME),\n",
    "}\n",
    "\n",
    "# publish model \n",
    "published_model_details = wml_client.repository.store_model(model=model, meta_props=model_props, training_data=train_df, pipeline=pipeline)\n",
    "\n",
    "!rm SMSSpam.csv"
   ]
  },
  {
   "cell_type": "code",
   "execution_count": 23,
   "metadata": {},
   "outputs": [
    {
     "name": "stdout",
     "output_type": "stream",
     "text": [
      "a33e348f-8ab1-4c15-beb8-151a8e4ae6ab\n"
     ]
    }
   ],
   "source": [
    "model_uid = wml_client.repository.get_model_uid(published_model_details)\n",
    "print(model_uid)"
   ]
  },
  {
   "cell_type": "markdown",
   "metadata": {},
   "source": [
    "### 2.3 Desplegando el modelo"
   ]
  },
  {
   "cell_type": "code",
   "execution_count": 24,
   "metadata": {},
   "outputs": [
    {
     "name": "stdout",
     "output_type": "stream",
     "text": [
      "\n",
      "\n",
      "#######################################################################################\n",
      "\n",
      "Synchronous deployment creation for uid: 'a33e348f-8ab1-4c15-beb8-151a8e4ae6ab' started\n",
      "\n",
      "#######################################################################################\n",
      "\n",
      "\n",
      "INITIALIZING\n",
      "DEPLOY_SUCCESS\n",
      "\n",
      "\n",
      "------------------------------------------------------------------------------------------------\n",
      "Successfully finished deployment creation, deployment_uid='726e1aea-745b-462b-9cb3-8fe9a9512368'\n",
      "------------------------------------------------------------------------------------------------\n",
      "\n",
      "\n"
     ]
    }
   ],
   "source": [
    "deployment = wml_client.deployments.create(model_uid, MODEL_NAME + \" deployment\")"
   ]
  },
  {
   "cell_type": "code",
   "execution_count": 25,
   "metadata": {},
   "outputs": [
    {
     "name": "stdout",
     "output_type": "stream",
     "text": [
      "https://us-south.ml.cloud.ibm.com/v3/wml_instances/197aa151-8d29-4a35-af88-cfc689f25d87/deployments/726e1aea-745b-462b-9cb3-8fe9a9512368/online\n"
     ]
    }
   ],
   "source": [
    "scoring_url = wml_client.deployments.get_scoring_url(deployment)\n",
    "print(scoring_url)"
   ]
  },
  {
   "cell_type": "markdown",
   "metadata": {},
   "source": [
    "## 3. Suscripciones"
   ]
  },
  {
   "cell_type": "markdown",
   "metadata": {},
   "source": [
    "### 3.1 Configurando AIOS"
   ]
  },
  {
   "cell_type": "code",
   "execution_count": 26,
   "metadata": {},
   "outputs": [
    {
     "data": {
      "text/plain": [
       "'2.2.1'"
      ]
     },
     "execution_count": 26,
     "metadata": {},
     "output_type": "execute_result"
    }
   ],
   "source": [
    "from ibm_ai_openscale import APIClient\n",
    "from ibm_ai_openscale.engines import WatsonMachineLearningAsset\n",
    "\n",
    "aios_client = APIClient(AIOS_CREDENTIALS)\n",
    "aios_client.version"
   ]
  },
  {
   "cell_type": "markdown",
   "metadata": {},
   "source": [
    "**Nota**: Vuelve a ejecutar la celda anterior si no funciona la primera vez."
   ]
  },
  {
   "cell_type": "code",
   "execution_count": 27,
   "metadata": {},
   "outputs": [
    {
     "data": {
      "text/html": [
       "<HTML>\n",
       "        <body>\n",
       "            <h3>Service bindings</h3>\n",
       "            <table style='border: 1px solid #dddddd; font-family: Courier'>\n",
       "                <th style='border: 1px solid #dddddd'>uid</th><th style='border: 1px solid #dddddd'>name</th><th style='border: 1px solid #dddddd'>service_type</th><th style='border: 1px solid #dddddd'>created</th>\n",
       "                <tr><td style='border: 1px solid #dddddd'>197aa151-8d29-4a35-af88-cfc689f25d87</td><td style='border: 1px solid #dddddd'>WML instance</td><td style='border: 1px solid #dddddd'>watson_machine_learning</td><td style='border: 1px solid #dddddd'>2020-03-28T20:29:48.546Z</td></tr>\n",
       "            </table>\n",
       "        </body>\n",
       "        </HTML>"
      ],
      "text/plain": [
       "<IPython.core.display.HTML object>"
      ]
     },
     "metadata": {},
     "output_type": "display_data"
    }
   ],
   "source": [
    "aios_client.data_mart.bindings.list()"
   ]
  },
  {
   "cell_type": "markdown",
   "metadata": {},
   "source": [
    "### 3.2 Suscribiendo el asset"
   ]
  },
  {
   "cell_type": "code",
   "execution_count": 28,
   "metadata": {},
   "outputs": [],
   "source": [
    "from ibm_ai_openscale.supporting_classes import *\n",
    "\n",
    "subscription = aios_client.data_mart.subscriptions.add(WatsonMachineLearningAsset(\n",
    "    model_uid,\n",
    "    label_column='label',\n",
    "    problem_type=ProblemType.BINARY_CLASSIFICATION,\n",
    "    input_data_type=InputDataType.UNSTRUCTURED_TEXT,\n",
    "    feature_columns = [\"text\"],\n",
    "    categorical_columns = [\"text\"],\n",
    "    prediction_column='predictionLabel',\n",
    "    probability_column='probability'\n",
    "))"
   ]
  },
  {
   "cell_type": "markdown",
   "metadata": {},
   "source": [
    "### 3.3 Obtener una suscripción"
   ]
  },
  {
   "cell_type": "code",
   "execution_count": 29,
   "metadata": {},
   "outputs": [
    {
     "data": {
      "text/html": [
       "<HTML>\n",
       "        <body>\n",
       "            <h3>Subscriptions</h3>\n",
       "            <table style='border: 1px solid #dddddd; font-family: Courier'>\n",
       "                <th style='border: 1px solid #dddddd'>uid</th><th style='border: 1px solid #dddddd'>name</th><th style='border: 1px solid #dddddd'>type</th><th style='border: 1px solid #dddddd'>binding_uid</th><th style='border: 1px solid #dddddd'>created</th>\n",
       "                <tr><td style='border: 1px solid #dddddd'>84b03cb6-3c61-40df-aded-0921451e9bd6</td><td style='border: 1px solid #dddddd'>Text Binary Classifier</td><td style='border: 1px solid #dddddd'>model</td><td style='border: 1px solid #dddddd'>197aa151-8d29-4a35-af88-cfc689f25d87</td><td style='border: 1px solid #dddddd'>2020-04-02T08:03:39.708Z</td></tr><tr><td style='border: 1px solid #dddddd'>827b02c8-3b2a-483f-ba3c-b46b0d736b44</td><td style='border: 1px solid #dddddd'>MNIST Model</td><td style='border: 1px solid #dddddd'>model</td><td style='border: 1px solid #dddddd'>197aa151-8d29-4a35-af88-cfc689f25d87</td><td style='border: 1px solid #dddddd'>2020-04-01T19:05:10.255Z</td></tr><tr><td style='border: 1px solid #dddddd'>eadd87e5-de57-4a35-8ee5-0a9530080c2c</td><td style='border: 1px solid #dddddd'>Scikit German Risk Model</td><td style='border: 1px solid #dddddd'>model</td><td style='border: 1px solid #dddddd'>197aa151-8d29-4a35-af88-cfc689f25d87</td><td style='border: 1px solid #dddddd'>2020-04-01T14:03:18.183Z</td></tr>\n",
       "            </table>\n",
       "        </body>\n",
       "        </HTML>"
      ],
      "text/plain": [
       "<IPython.core.display.HTML object>"
      ]
     },
     "metadata": {},
     "output_type": "display_data"
    }
   ],
   "source": [
    "aios_client.data_mart.subscriptions.list()"
   ]
  },
  {
   "cell_type": "code",
   "execution_count": 30,
   "metadata": {},
   "outputs": [
    {
     "data": {
      "text/plain": [
       "{'entity': {'asset': {'asset_id': 'a33e348f-8ab1-4c15-beb8-151a8e4ae6ab',\n",
       "   'asset_type': 'model',\n",
       "   'created_at': '2020-04-02T08:02:41.313Z',\n",
       "   'name': 'Text Binary Classifier',\n",
       "   'url': 'https://us-south.ml.cloud.ibm.com/v3/wml_instances/197aa151-8d29-4a35-af88-cfc689f25d87/published_models/a33e348f-8ab1-4c15-beb8-151a8e4ae6ab'},\n",
       "  'asset_properties': {'categorical_fields': ['text'],\n",
       "   'feature_fields': ['text'],\n",
       "   'input_data_schema': {'fields': [{'metadata': {'measure': 'discrete',\n",
       "       'modeling_role': 'feature'},\n",
       "      'name': 'text',\n",
       "      'nullable': True,\n",
       "      'type': 'string'}],\n",
       "    'type': 'struct'},\n",
       "   'input_data_type': 'unstructured_text',\n",
       "   'label_column': 'label',\n",
       "   'model_type': 'mllib-2.3',\n",
       "   'output_data_schema': {'fields': [{'metadata': {'columnInfo': {'columnLength': 64},\n",
       "       'measure': 'discrete',\n",
       "       'modeling_role': 'feature'},\n",
       "      'name': 'text',\n",
       "      'nullable': True,\n",
       "      'type': 'string'},\n",
       "     {'metadata': {},\n",
       "      'name': 'prediction',\n",
       "      'nullable': True,\n",
       "      'type': 'double'},\n",
       "     {'metadata': {'modeling_role': 'probability'},\n",
       "      'name': 'probability',\n",
       "      'nullable': True,\n",
       "      'type': {'containsNull': True,\n",
       "       'elementType': 'double',\n",
       "       'type': 'array'}},\n",
       "     {'metadata': {'modeling_role': 'prediction-probability'},\n",
       "      'name': 'prediction_probability',\n",
       "      'nullable': True,\n",
       "      'type': 'double'},\n",
       "     {'metadata': {'modeling_role': 'record-id', 'primary_key': True},\n",
       "      'name': 'scoring_id',\n",
       "      'nullable': False,\n",
       "      'type': 'string'},\n",
       "     {'metadata': {'modeling_role': 'record-timestamp'},\n",
       "      'name': 'scoring_timestamp',\n",
       "      'nullable': False,\n",
       "      'type': 'timestamp'},\n",
       "     {'metadata': {},\n",
       "      'name': 'deployment_id',\n",
       "      'nullable': False,\n",
       "      'type': 'string'},\n",
       "     {'metadata': {},\n",
       "      'name': 'asset_revision',\n",
       "      'nullable': True,\n",
       "      'type': 'string'}],\n",
       "    'type': 'struct'},\n",
       "   'prediction_field': 'predictionLabel',\n",
       "   'probability_fields': ['probability'],\n",
       "   'problem_type': 'binary',\n",
       "   'runtime_environment': 'spark-2.3',\n",
       "   'training_data_schema': {'fields': [{'metadata': {'modeling_role': 'target'},\n",
       "      'name': 'label',\n",
       "      'nullable': True,\n",
       "      'type': 'string'},\n",
       "     {'metadata': {'columnInfo': {'columnLength': 64},\n",
       "       'measure': 'discrete',\n",
       "       'modeling_role': 'feature'},\n",
       "      'name': 'text',\n",
       "      'nullable': True,\n",
       "      'type': 'string'}],\n",
       "    'type': 'struct'}},\n",
       "  'configurations': [{'enabled': True,\n",
       "    'monitor_definition_id': 'payload_logging',\n",
       "    'type': 'payload_logging',\n",
       "    'url': '/v1/data_marts/a37ff109-dbe4-43f7-bf4a-07b5bd153b5f/service_bindings/197aa151-8d29-4a35-af88-cfc689f25d87/subscriptions/84b03cb6-3c61-40df-aded-0921451e9bd6/configurations/payload_logging'},\n",
       "   {'enabled': False,\n",
       "    'monitor_definition_id': 'explainability',\n",
       "    'type': 'explainability',\n",
       "    'url': '/v1/data_marts/a37ff109-dbe4-43f7-bf4a-07b5bd153b5f/service_bindings/197aa151-8d29-4a35-af88-cfc689f25d87/subscriptions/84b03cb6-3c61-40df-aded-0921451e9bd6/configurations/explainability'},\n",
       "   {'enabled': True,\n",
       "    'monitor_definition_id': 'performance_monitoring',\n",
       "    'type': 'performance_monitoring',\n",
       "    'url': '/v1/data_marts/a37ff109-dbe4-43f7-bf4a-07b5bd153b5f/service_bindings/197aa151-8d29-4a35-af88-cfc689f25d87/subscriptions/84b03cb6-3c61-40df-aded-0921451e9bd6/configurations/performance_monitoring'},\n",
       "   {'enabled': False,\n",
       "    'monitor_definition_id': 'fairness_monitoring',\n",
       "    'type': 'fairness_monitoring',\n",
       "    'url': '/v1/data_marts/a37ff109-dbe4-43f7-bf4a-07b5bd153b5f/service_bindings/197aa151-8d29-4a35-af88-cfc689f25d87/subscriptions/84b03cb6-3c61-40df-aded-0921451e9bd6/configurations/fairness_monitoring'},\n",
       "   {'enabled': False,\n",
       "    'monitor_definition_id': 'assurance',\n",
       "    'type': 'assurance',\n",
       "    'url': '/v1/data_marts/a37ff109-dbe4-43f7-bf4a-07b5bd153b5f/service_bindings/197aa151-8d29-4a35-af88-cfc689f25d87/subscriptions/84b03cb6-3c61-40df-aded-0921451e9bd6/configurations/assurance'},\n",
       "   {'enabled': False,\n",
       "    'monitor_definition_id': 'fairness',\n",
       "    'type': 'fairness',\n",
       "    'url': '/v1/data_marts/a37ff109-dbe4-43f7-bf4a-07b5bd153b5f/service_bindings/197aa151-8d29-4a35-af88-cfc689f25d87/subscriptions/84b03cb6-3c61-40df-aded-0921451e9bd6/configurations/fairness'},\n",
       "   {'enabled': True,\n",
       "    'monitor_definition_id': 'performance',\n",
       "    'type': 'performance',\n",
       "    'url': '/v1/data_marts/a37ff109-dbe4-43f7-bf4a-07b5bd153b5f/service_bindings/197aa151-8d29-4a35-af88-cfc689f25d87/subscriptions/84b03cb6-3c61-40df-aded-0921451e9bd6/configurations/performance'},\n",
       "   {'enabled': False,\n",
       "    'monitor_definition_id': 'mrm',\n",
       "    'type': 'mrm',\n",
       "    'url': '/v1/data_marts/a37ff109-dbe4-43f7-bf4a-07b5bd153b5f/service_bindings/197aa151-8d29-4a35-af88-cfc689f25d87/subscriptions/84b03cb6-3c61-40df-aded-0921451e9bd6/configurations/mrm'},\n",
       "   {'enabled': False,\n",
       "    'monitor_definition_id': 'correlations',\n",
       "    'type': 'correlations',\n",
       "    'url': '/v1/data_marts/a37ff109-dbe4-43f7-bf4a-07b5bd153b5f/service_bindings/197aa151-8d29-4a35-af88-cfc689f25d87/subscriptions/84b03cb6-3c61-40df-aded-0921451e9bd6/configurations/correlations'},\n",
       "   {'enabled': False,\n",
       "    'monitor_definition_id': 'drift',\n",
       "    'type': 'drift',\n",
       "    'url': '/v1/data_marts/a37ff109-dbe4-43f7-bf4a-07b5bd153b5f/service_bindings/197aa151-8d29-4a35-af88-cfc689f25d87/subscriptions/84b03cb6-3c61-40df-aded-0921451e9bd6/configurations/drift'},\n",
       "   {'enabled': False,\n",
       "    'monitor_definition_id': 'quality',\n",
       "    'type': 'quality_monitoring',\n",
       "    'url': '/v1/data_marts/a37ff109-dbe4-43f7-bf4a-07b5bd153b5f/service_bindings/197aa151-8d29-4a35-af88-cfc689f25d87/subscriptions/84b03cb6-3c61-40df-aded-0921451e9bd6/configurations/quality'},\n",
       "   {'enabled': False,\n",
       "    'monitor_definition_id': 'my_model_performance',\n",
       "    'type': 'my_model_performance',\n",
       "    'url': '/v1/data_marts/a37ff109-dbe4-43f7-bf4a-07b5bd153b5f/service_bindings/197aa151-8d29-4a35-af88-cfc689f25d87/subscriptions/84b03cb6-3c61-40df-aded-0921451e9bd6/configurations/my_model_performance'},\n",
       "   {'enabled': False,\n",
       "    'monitor_definition_id': '71d55f3b-60e2-4b99-ba13-42012b254d60',\n",
       "    'type': '71d55f3b-60e2-4b99-ba13-42012b254d60',\n",
       "    'url': '/v1/data_marts/a37ff109-dbe4-43f7-bf4a-07b5bd153b5f/service_bindings/197aa151-8d29-4a35-af88-cfc689f25d87/subscriptions/84b03cb6-3c61-40df-aded-0921451e9bd6/configurations/71d55f3b-60e2-4b99-ba13-42012b254d60'},\n",
       "   {'enabled': False,\n",
       "    'monitor_definition_id': '16d49ca5-32df-4410-be91-668fd88f1aee',\n",
       "    'type': '16d49ca5-32df-4410-be91-668fd88f1aee',\n",
       "    'url': '/v1/data_marts/a37ff109-dbe4-43f7-bf4a-07b5bd153b5f/service_bindings/197aa151-8d29-4a35-af88-cfc689f25d87/subscriptions/84b03cb6-3c61-40df-aded-0921451e9bd6/configurations/16d49ca5-32df-4410-be91-668fd88f1aee'}],\n",
       "  'deployments': [{'created_at': '2020-04-02T08:02:41.349Z',\n",
       "    'deployment_id': '726e1aea-745b-462b-9cb3-8fe9a9512368',\n",
       "    'deployment_rn': '',\n",
       "    'deployment_type': 'online',\n",
       "    'name': 'Text Binary Classifier deployment',\n",
       "    'scoring_endpoint': {'request_headers': {'Content-Type': 'application/json'},\n",
       "     'url': 'https://us-south.ml.cloud.ibm.com/v3/wml_instances/197aa151-8d29-4a35-af88-cfc689f25d87/deployments/726e1aea-745b-462b-9cb3-8fe9a9512368/online'},\n",
       "    'url': 'https://us-south.ml.cloud.ibm.com/v3/wml_instances/197aa151-8d29-4a35-af88-cfc689f25d87/deployments/726e1aea-745b-462b-9cb3-8fe9a9512368'}],\n",
       "  'service_binding_id': '197aa151-8d29-4a35-af88-cfc689f25d87',\n",
       "  'status': {'state': 'active'}},\n",
       " 'metadata': {'guid': '84b03cb6-3c61-40df-aded-0921451e9bd6',\n",
       "  'url': '/v1/data_marts/a37ff109-dbe4-43f7-bf4a-07b5bd153b5f/service_bindings/197aa151-8d29-4a35-af88-cfc689f25d87/subscriptions/84b03cb6-3c61-40df-aded-0921451e9bd6',\n",
       "  'created_at': '2020-04-02T08:03:39.708Z',\n",
       "  'modified_at': '2020-04-02T08:03:56.452Z'}}"
      ]
     },
     "execution_count": 30,
     "metadata": {},
     "output_type": "execute_result"
    }
   ],
   "source": [
    "subscription.get_details()"
   ]
  },
  {
   "cell_type": "markdown",
   "metadata": {},
   "source": [
    "### 3.4 Evaluar el modelo y obtener un transaction-id"
   ]
  },
  {
   "cell_type": "code",
   "execution_count": 31,
   "metadata": {},
   "outputs": [],
   "source": [
    "text = \"SIX chances to win CASH! From 100 to 20,000 pounds txt> CSH11 and send to 87575. Cost 150p/day, 6days, 16+ TsandCs apply Reply HL 4 info\"\n",
    "payload = {\"fields\": [\"text\"], \"values\": [[text]]}\n",
    "\n",
    "response = wml_client.deployments.score(scoring_url=scoring_url, payload=payload)"
   ]
  },
  {
   "cell_type": "code",
   "execution_count": 32,
   "metadata": {},
   "outputs": [
    {
     "name": "stdout",
     "output_type": "stream",
     "text": [
      "{'fields': ['text', 'label_ix', 'words', 'filtered_words', 'rawFeatures', 'features', 'rawPrediction', 'probability', 'prediction', 'predictionLabel'], 'values': [['SIX chances to win CASH! From 100 to 20,000 pounds txt> CSH11 and send to 87575. Cost 150p/day, 6days, 16+ TsandCs apply Reply HL 4 info', 0.0, ['six', 'chances', 'to', 'win', 'cash!', 'from', '100', 'to', '20,000', 'pounds', 'txt>', 'csh11', 'and', 'send', 'to', '87575.', 'cost', '150p/day,', '6days,', '16+', 'tsandcs', 'apply', 'reply', 'hl', '4', 'info'], ['six', 'chances', 'win', 'cash!', '100', '20,000', 'pounds', 'txt>', 'csh11', 'send', '87575.', 'cost', '150p/day,', '6days,', '16+', 'tsandcs', 'apply', 'reply', 'hl', '4', 'info'], [11750, [9, 18, 38, 85, 288, 397, 457, 510, 654, 1010, 1793, 2164, 2545, 5462, 5760, 5779, 6414, 6923, 8930, 9354, 11642], [1.0, 1.0, 1.0, 1.0, 1.0, 1.0, 1.0, 1.0, 1.0, 1.0, 1.0, 1.0, 1.0, 1.0, 1.0, 1.0, 1.0, 1.0, 1.0, 1.0, 1.0]], [11750, [9, 18, 38, 85, 288, 397, 457, 510, 654, 1010, 1793, 2164, 2545, 5462, 5760, 5779, 6414, 6923, 8930, 9354, 11642], [3.1109174650882547, 3.452478771216939, 3.829773002358407, 4.386788008593772, 5.2586269778970935, 5.503749435930079, 5.621532471586462, 5.686070992724034, 5.909214544038243, 6.314679652146407, 6.784683281392143, 7.007826832706352, 7.007826832706352, 7.700974013266298, 7.700974013266298, 7.700974013266298, 7.700974013266298, 7.700974013266298, 7.700974013266298, 7.700974013266298, 7.700974013266298]], [-0.7487063259921173, 0.7487063259921173], [0.18281173470783507, 0.8171882652921649], 1.0, 'spam']]}\n"
     ]
    }
   ],
   "source": [
    "print(response)"
   ]
  },
  {
   "cell_type": "markdown",
   "metadata": {},
   "source": [
    "**Note**: Please wait for a few seconds before running the cell below."
   ]
  },
  {
   "cell_type": "code",
   "execution_count": 44,
   "metadata": {},
   "outputs": [],
   "source": [
    "time.sleep(10)"
   ]
  },
  {
   "cell_type": "code",
   "execution_count": 41,
   "metadata": {},
   "outputs": [
    {
     "name": "stdout",
     "output_type": "stream",
     "text": [
      "7dc75a64a729bcff48e8ae953b999821-1\n"
     ]
    }
   ],
   "source": [
    "transaction_id = subscription.payload_logging.get_table_content().scoring_id[0]\n",
    "print(transaction_id)"
   ]
  },
  {
   "cell_type": "markdown",
   "metadata": {},
   "source": [
    "## 4. Explicabilidad"
   ]
  },
  {
   "cell_type": "markdown",
   "metadata": {},
   "source": [
    "### 4.1 Configurar la explicabilidad"
   ]
  },
  {
   "cell_type": "code",
   "execution_count": 42,
   "metadata": {},
   "outputs": [
    {
     "data": {
      "text/plain": [
       "{'enabled': True,\n",
       " 'monitor_definition': {'entity': {'applies_to': {'input_data_type': ['structured',\n",
       "     'unstructured_image',\n",
       "     'unstructured_text'],\n",
       "    'problem_type': ['binary', 'multiclass', 'regression']},\n",
       "   'description': 'Provides explanations to the predictions made by a Machine Learning model.',\n",
       "   'metrics': [],\n",
       "   'monitor_runtime': {'type': 'service'},\n",
       "   'name': 'Explainability',\n",
       "   'parameters_schema': {'properties': {'tokenizer': {'$id': '#/properties/tokenizer',\n",
       "      'items': {'$id': '#/properties/tokenizer/items',\n",
       "       'properties': {'enabled': {'$id': '#/properties/tokenizer/items/properties/enabled',\n",
       "         'type': 'boolean'},\n",
       "        'language': {'$id': '#/properties/tokenizer/items/properties/language',\n",
       "         'type': 'string'},\n",
       "        'part_of_speech': {'$id': '#/properties/tokenizer/items/properties/part_of_speech',\n",
       "         'items': {'oneOf': [{'type': 'string'}]},\n",
       "         'type': 'array'}},\n",
       "       'required': ['enabled'],\n",
       "       'title': 'The tokenizer details used for computing unstructured text explanations',\n",
       "       'type': 'object'},\n",
       "      'type': 'object'},\n",
       "     'training_statistics': {'$id': '#/properties/training_statistics',\n",
       "      'title': 'Training statistics used for computing explanations for structured data',\n",
       "      'type': 'object'}},\n",
       "    'required': [],\n",
       "    'title': 'Parameters required to enable explainability',\n",
       "    'type': 'object'},\n",
       "   'schedule': {'repeat_interval': 10,\n",
       "    'repeat_type': 'year',\n",
       "    'repeat_unit': 'year',\n",
       "    'start_time': {'timestamp': '2030-01-01T12:00:00.000Z',\n",
       "     'type': 'absolute'}},\n",
       "   'tags': []},\n",
       "  'metadata': {'guid': 'explainability',\n",
       "   'url': '/v1/data_marts/a37ff109-dbe4-43f7-bf4a-07b5bd153b5f/monitor_definitions/explainability',\n",
       "   'created_at': '2019-11-12T12:00:00.000Z'}},\n",
       " 'parameters': {}}"
      ]
     },
     "execution_count": 42,
     "metadata": {},
     "output_type": "execute_result"
    }
   ],
   "source": [
    "subscription.explainability.enable()\n",
    "subscription.explainability.get_details()"
   ]
  },
  {
   "cell_type": "markdown",
   "metadata": {},
   "source": [
    "### 4.2 Obtener explicaciones para la transacción"
   ]
  },
  {
   "cell_type": "code",
   "execution_count": 43,
   "metadata": {},
   "outputs": [
    {
     "name": "stdout",
     "output_type": "stream",
     "text": [
      "\n",
      "\n",
      "================================================================\n",
      "\n",
      " Looking for explanation for 7dc75a64a729bcff48e8ae953b999821-1 \n",
      "\n",
      "================================================================\n",
      "\n",
      "\n",
      "\n",
      "finished\n",
      "\n",
      "---------------------------\n",
      " Successfully finished run \n",
      "---------------------------\n",
      "\n",
      "\n"
     ]
    },
    {
     "data": {
      "text/plain": [
       "{'entity': {'perturbed': False,\n",
       "  'explanation_type': 'lime',\n",
       "  'asset': {'problem_type': 'binary',\n",
       "   'type': 'text',\n",
       "   'id': 'a33e348f-8ab1-4c15-beb8-151a8e4ae6ab',\n",
       "   'input_data_type': 'unstructured_text',\n",
       "   'deployment': {'name': 'Text Binary Classifier deployment',\n",
       "    'id': '726e1aea-745b-462b-9cb3-8fe9a9512368'},\n",
       "   'name': 'Text Binary Classifier'},\n",
       "  'predictions': [{'probability': 0.8171882652921649,\n",
       "    'value': 'spam',\n",
       "    'explanation_features': [{'positions': [[15, 18]],\n",
       "      'feature_value': 'win',\n",
       "      'weight': 0.39503435397824244},\n",
       "     {'positions': [[4, 11]],\n",
       "      'feature_value': 'chances',\n",
       "      'weight': 0.07487966798553222},\n",
       "     {'positions': [[127, 129]],\n",
       "      'feature_value': 'HL',\n",
       "      'weight': 0.07373243353059876},\n",
       "     {'positions': [[25, 29]],\n",
       "      'feature_value': 'From',\n",
       "      'weight': 0.07041854004165561},\n",
       "     {'positions': [[115, 120]],\n",
       "      'feature_value': 'apply',\n",
       "      'weight': 0.0702060248446271},\n",
       "     {'positions': [[81, 85]],\n",
       "      'feature_value': 'Cost',\n",
       "      'weight': 0.06896676901586718},\n",
       "     {'positions': [[66, 70]],\n",
       "      'feature_value': 'send',\n",
       "      'weight': 0.06721303238677363},\n",
       "     {'positions': [[107, 114]],\n",
       "      'feature_value': 'TsandCs',\n",
       "      'weight': 0.06570629082190713},\n",
       "     {'positions': [[0, 3]],\n",
       "      'feature_value': 'SIX',\n",
       "      'weight': 0.061491637609803154},\n",
       "     {'positions': [[19, 23]],\n",
       "      'feature_value': 'CASH',\n",
       "      'weight': -0.05235124978499291}]},\n",
       "   {'probability': 0.18281173470783507, 'value': 'ham'}],\n",
       "  'status': {'state': 'finished'},\n",
       "  'input_features': [{'name': 'text',\n",
       "    'value': 'SIX chances to win CASH! From 100 to 20,000 pounds txt> CSH11 and send to 87575. Cost 150p/day, 6days, 16+ TsandCs apply Reply HL 4 info'}]},\n",
       " 'metadata': {'created_at': '2020-04-02T08:06:09.731431Z',\n",
       "  'id': '190a21a5-1a1f-4c28-82e7-487dbf5b42f9',\n",
       "  'updated_at': '2020-04-02T08:06:10.941415Z',\n",
       "  'created_by': 'IBMid-2700057BDV'}}"
      ]
     },
     "execution_count": 43,
     "metadata": {},
     "output_type": "execute_result"
    }
   ],
   "source": [
    "subscription.explainability.run(transaction_id, background_mode=False)"
   ]
  },
  {
   "cell_type": "code",
   "execution_count": null,
   "metadata": {},
   "outputs": [],
   "source": []
  },
  {
   "cell_type": "code",
   "execution_count": null,
   "metadata": {},
   "outputs": [],
   "source": []
  }
 ],
 "metadata": {
  "kernelspec": {
   "display_name": "Python 3",
   "language": "python",
   "name": "python3"
  },
  "language_info": {
   "codemirror_mode": {
    "name": "ipython",
    "version": 3
   },
   "file_extension": ".py",
   "mimetype": "text/x-python",
   "name": "python",
   "nbconvert_exporter": "python",
   "pygments_lexer": "ipython3",
   "version": "3.6.4"
  }
 },
 "nbformat": 4,
 "nbformat_minor": 2
}
